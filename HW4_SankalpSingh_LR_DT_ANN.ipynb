{
 "cells": [
  {
   "cell_type": "markdown",
   "metadata": {},
   "source": [
    "# Problem Statement: HW4_SankalpSingh\n",
    "\n",
    "## IST707: Data Analytics: HW4: Statistical Learning, Deep Learning and A Complete Comparison\n",
    "\n",
    "## Date of Submission: 11/25/2020"
   ]
  },
  {
   "cell_type": "markdown",
   "metadata": {},
   "source": [
    "### In this homework assignment, we are going to use multiple machine learning algorithms, including logistic regression, multiple artificial neural networks and deep learning models with different architectures to build disease diagnosis models using the same dataset in HW3. It is a binary classification problem to predict whether or not a patient has a certain unspecified disease. You also need to combine the findings with HW3 results to come up with a ranking of performance for various machine learning models on this dataset."
   ]
  },
  {
   "cell_type": "markdown",
   "metadata": {},
   "source": [
    "### Information about the dataset (Disease Prediction Training.csv):\n",
    "\n",
    "• Age: in years\n",
    "\n",
    "• Gender: male/female\n",
    "\n",
    "• Height: in unit of cm\n",
    "\n",
    "• Weight: in unit of kg\n",
    "\n",
    "• Low Blood Pressure: lower bound of blood pressure measurement\n",
    "\n",
    "• High Blood Pressure: higher bound of blood pressure measurement\n",
    "\n",
    "• Cholesterol: three cholesteral levels\n",
    "\n",
    "• Glucose: three glucose levels\n",
    "\n",
    "• Smoke: 1/0 regarding if the patient smokes\n",
    "\n",
    "• Alcohol: 1/0 regarding if the patient drinks alcohol\n",
    "\n",
    "• Exercise: 1/0 regarding if the patient exercises regularly\n",
    "\n",
    "• Disease: The binary target variable. Does the patient have the disease?\n"
   ]
  },
  {
   "cell_type": "markdown",
   "metadata": {},
   "source": [
    "### Import Libraries\n",
    "\n",
    "Importing all the required libraries that will help us perform data pre-processing, visualizations, modeling and performance evaluation."
   ]
  },
  {
   "cell_type": "code",
   "execution_count": 1,
   "metadata": {},
   "outputs": [
    {
     "name": "stderr",
     "output_type": "stream",
     "text": [
      "Using TensorFlow backend.\n"
     ]
    }
   ],
   "source": [
    "# importing all the required libraries\n",
    "import matplotlib.pyplot as plt \n",
    "import numpy as np \n",
    "import pandas as pd \n",
    "from pandas import DataFrame, Series\n",
    "import seaborn as sns\n",
    "from fancyimpute import IterativeImputer\n",
    "from scipy import stats\n",
    "from sklearn import preprocessing\n",
    "from scipy.spatial import distance_matrix\n",
    "from sklearn.model_selection import train_test_split, GridSearchCV, cross_val_score, cross_validate, ShuffleSplit, LeaveOneOut\n",
    "from sklearn import metrics\n",
    "from sklearn.metrics import accuracy_score,f1_score,confusion_matrix,precision_score,classification_report,recall_score,roc_curve,roc_auc_score\n",
    "from sklearn.preprocessing import MinMaxScaler\n",
    "from sklearn.preprocessing import StandardScaler\n",
    "from sklearn import datasets\n",
    "from sklearn.svm import SVC\n",
    "from sklearn.svm import LinearSVC\n",
    "from sklearn.ensemble import RandomForestClassifier,GradientBoostingClassifier\n",
    "from sklearn.neighbors import KNeighborsClassifier\n",
    "from sklearn.naive_bayes import MultinomialNB,GaussianNB\n",
    "import pickle\n",
    "from numpy.random import seed\n",
    "seed(1)\n",
    "import tensorflow as tf\n",
    "tf.random.set_seed(2)\n",
    "import random as rn\n",
    "import os\n",
    "from sklearn.linear_model import LogisticRegression\n",
    "from sklearn.tree import DecisionTreeClassifier\n",
    "from keras import models\n",
    "from keras.models import Sequential\n",
    "from keras.layers import Dense\n",
    "from keras.callbacks import ModelCheckpoint\n",
    "rn.seed(12345)\n",
    "from keras import backend as K\n",
    "from collections import OrderedDict"
   ]
  },
  {
   "cell_type": "markdown",
   "metadata": {},
   "source": [
    "### Read dataset\n",
    "\n",
    "- Here we are reading both the train and test data set. We will be performing all the data pre-processing steps on both the training and testing data set. \n",
    "\n",
    "- Later on, while modeling we will be splitting the training dataset into training and validation to train our model and perform hyper parameter tuning using the performance on validation set. \n",
    "\n",
    "- Finally, we will be using the model with best parameters to predict binary labels on the testing dataset.\n"
   ]
  },
  {
   "cell_type": "code",
   "execution_count": 2,
   "metadata": {},
   "outputs": [],
   "source": [
    "# Reading both training and testing dataset\n",
    "df=pd.read_csv('Disease Prediction Training.csv')\n",
    "test_df = pd.read_csv('Disease Prediction Testing.csv')"
   ]
  },
  {
   "cell_type": "code",
   "execution_count": 3,
   "metadata": {},
   "outputs": [
    {
     "data": {
      "text/plain": [
       "(49000, 12)"
      ]
     },
     "execution_count": 3,
     "metadata": {},
     "output_type": "execute_result"
    }
   ],
   "source": [
    "# Check the shape of the train data\n",
    "df.shape"
   ]
  },
  {
   "cell_type": "code",
   "execution_count": 4,
   "metadata": {},
   "outputs": [
    {
     "data": {
      "text/plain": [
       "(21000, 12)"
      ]
     },
     "execution_count": 4,
     "metadata": {},
     "output_type": "execute_result"
    }
   ],
   "source": [
    "# Check the shape of the test data\n",
    "test_df.shape"
   ]
  },
  {
   "cell_type": "code",
   "execution_count": 5,
   "metadata": {},
   "outputs": [
    {
     "data": {
      "text/html": [
       "<div>\n",
       "<style scoped>\n",
       "    .dataframe tbody tr th:only-of-type {\n",
       "        vertical-align: middle;\n",
       "    }\n",
       "\n",
       "    .dataframe tbody tr th {\n",
       "        vertical-align: top;\n",
       "    }\n",
       "\n",
       "    .dataframe thead th {\n",
       "        text-align: right;\n",
       "    }\n",
       "</style>\n",
       "<table border=\"1\" class=\"dataframe\">\n",
       "  <thead>\n",
       "    <tr style=\"text-align: right;\">\n",
       "      <th></th>\n",
       "      <th>Age</th>\n",
       "      <th>Gender</th>\n",
       "      <th>Height</th>\n",
       "      <th>Weight</th>\n",
       "      <th>High Blood Pressure</th>\n",
       "      <th>Low Blood Pressure</th>\n",
       "      <th>Cholesterol</th>\n",
       "      <th>Glucose</th>\n",
       "      <th>Smoke</th>\n",
       "      <th>Alcohol</th>\n",
       "      <th>Exercise</th>\n",
       "      <th>Disease</th>\n",
       "    </tr>\n",
       "  </thead>\n",
       "  <tbody>\n",
       "    <tr>\n",
       "      <th>0</th>\n",
       "      <td>59</td>\n",
       "      <td>female</td>\n",
       "      <td>167</td>\n",
       "      <td>88.0</td>\n",
       "      <td>130</td>\n",
       "      <td>68</td>\n",
       "      <td>normal</td>\n",
       "      <td>normal</td>\n",
       "      <td>0</td>\n",
       "      <td>0</td>\n",
       "      <td>1</td>\n",
       "      <td>0</td>\n",
       "    </tr>\n",
       "    <tr>\n",
       "      <th>1</th>\n",
       "      <td>64</td>\n",
       "      <td>female</td>\n",
       "      <td>150</td>\n",
       "      <td>71.0</td>\n",
       "      <td>140</td>\n",
       "      <td>100</td>\n",
       "      <td>normal</td>\n",
       "      <td>normal</td>\n",
       "      <td>0</td>\n",
       "      <td>0</td>\n",
       "      <td>0</td>\n",
       "      <td>1</td>\n",
       "    </tr>\n",
       "    <tr>\n",
       "      <th>2</th>\n",
       "      <td>41</td>\n",
       "      <td>female</td>\n",
       "      <td>166</td>\n",
       "      <td>83.0</td>\n",
       "      <td>100</td>\n",
       "      <td>70</td>\n",
       "      <td>normal</td>\n",
       "      <td>normal</td>\n",
       "      <td>0</td>\n",
       "      <td>1</td>\n",
       "      <td>1</td>\n",
       "      <td>0</td>\n",
       "    </tr>\n",
       "    <tr>\n",
       "      <th>3</th>\n",
       "      <td>50</td>\n",
       "      <td>male</td>\n",
       "      <td>172</td>\n",
       "      <td>110.0</td>\n",
       "      <td>130</td>\n",
       "      <td>80</td>\n",
       "      <td>normal</td>\n",
       "      <td>normal</td>\n",
       "      <td>1</td>\n",
       "      <td>0</td>\n",
       "      <td>1</td>\n",
       "      <td>0</td>\n",
       "    </tr>\n",
       "    <tr>\n",
       "      <th>4</th>\n",
       "      <td>39</td>\n",
       "      <td>female</td>\n",
       "      <td>162</td>\n",
       "      <td>61.0</td>\n",
       "      <td>110</td>\n",
       "      <td>80</td>\n",
       "      <td>high</td>\n",
       "      <td>high</td>\n",
       "      <td>0</td>\n",
       "      <td>0</td>\n",
       "      <td>1</td>\n",
       "      <td>0</td>\n",
       "    </tr>\n",
       "  </tbody>\n",
       "</table>\n",
       "</div>"
      ],
      "text/plain": [
       "   Age  Gender  Height  Weight  High Blood Pressure  Low Blood Pressure  \\\n",
       "0   59  female     167    88.0                  130                  68   \n",
       "1   64  female     150    71.0                  140                 100   \n",
       "2   41  female     166    83.0                  100                  70   \n",
       "3   50    male     172   110.0                  130                  80   \n",
       "4   39  female     162    61.0                  110                  80   \n",
       "\n",
       "  Cholesterol Glucose  Smoke  Alcohol  Exercise  Disease  \n",
       "0      normal  normal      0        0         1        0  \n",
       "1      normal  normal      0        0         0        1  \n",
       "2      normal  normal      0        1         1        0  \n",
       "3      normal  normal      1        0         1        0  \n",
       "4        high    high      0        0         1        0  "
      ]
     },
     "execution_count": 5,
     "metadata": {},
     "output_type": "execute_result"
    }
   ],
   "source": [
    "# View first few data points of training data\n",
    "df.head()"
   ]
  },
  {
   "cell_type": "code",
   "execution_count": 6,
   "metadata": {},
   "outputs": [
    {
     "data": {
      "text/plain": [
       "Age                      int64\n",
       "Gender                  object\n",
       "Height                   int64\n",
       "Weight                 float64\n",
       "High Blood Pressure      int64\n",
       "Low Blood Pressure       int64\n",
       "Cholesterol             object\n",
       "Glucose                 object\n",
       "Smoke                    int64\n",
       "Alcohol                  int64\n",
       "Exercise                 int64\n",
       "Disease                  int64\n",
       "dtype: object"
      ]
     },
     "execution_count": 6,
     "metadata": {},
     "output_type": "execute_result"
    }
   ],
   "source": [
    "# Check the data type for each of the attributes of training data\n",
    "df.dtypes"
   ]
  },
  {
   "cell_type": "markdown",
   "metadata": {},
   "source": [
    "## Data Pre-processing & Exploratory Data Analysis"
   ]
  },
  {
   "cell_type": "markdown",
   "metadata": {},
   "source": [
    "#### Here, we have followed the CRISP-DM methodology  which consists of following steps in the mentioned order: Business & Data Understanding -> Data cleaning & Pre-processing -> Modeling -> Performance Evaluation \n",
    "\n",
    "We have addressed the following data issues here while performing the data pre-processing:\n",
    "\n",
    "1) Check for Null values\n",
    "\n",
    "2) Handling outliers\n",
    "\n",
    "3) Feature Engineering\n",
    "\n",
    "4) Data Transformations\n"
   ]
  },
  {
   "cell_type": "markdown",
   "metadata": {},
   "source": [
    "### 1) Checking for null values in train and test set\n",
    "\n",
    "- Here, we can see that both our train and test data does not contain any null or missing values"
   ]
  },
  {
   "cell_type": "code",
   "execution_count": 7,
   "metadata": {},
   "outputs": [
    {
     "data": {
      "text/plain": [
       "Age                    0\n",
       "Gender                 0\n",
       "Height                 0\n",
       "Weight                 0\n",
       "High Blood Pressure    0\n",
       "Low Blood Pressure     0\n",
       "Cholesterol            0\n",
       "Glucose                0\n",
       "Smoke                  0\n",
       "Alcohol                0\n",
       "Exercise               0\n",
       "Disease                0\n",
       "dtype: int64"
      ]
     },
     "execution_count": 7,
     "metadata": {},
     "output_type": "execute_result"
    }
   ],
   "source": [
    "# Check total null values present for all attributes in training data\n",
    "df.isnull().sum()"
   ]
  },
  {
   "cell_type": "code",
   "execution_count": 8,
   "metadata": {},
   "outputs": [
    {
     "data": {
      "text/plain": [
       "ID                     0\n",
       "Age                    0\n",
       "Gender                 0\n",
       "Height                 0\n",
       "Weight                 0\n",
       "High Blood Pressure    0\n",
       "Low Blood Pressure     0\n",
       "Cholesterol            0\n",
       "Glucose                0\n",
       "Smoke                  0\n",
       "Alcohol                0\n",
       "Exercise               0\n",
       "dtype: int64"
      ]
     },
     "execution_count": 8,
     "metadata": {},
     "output_type": "execute_result"
    }
   ],
   "source": [
    "# Check total null values present for all attributes in testing data\n",
    "test_df.isnull().sum()"
   ]
  },
  {
   "cell_type": "markdown",
   "metadata": {},
   "source": [
    "### Check for distribution of labels for the target attribute\n",
    "\n",
    "-  We can see from the distribution plot below that our training data contains almost equal number of data points for both the binary labels in our target attribute: 'Disease' - 1(Disease) / 0(No Disease)"
   ]
  },
  {
   "cell_type": "code",
   "execution_count": 9,
   "metadata": {},
   "outputs": [
    {
     "data": {
      "text/plain": [
       "Text(0.5, 1.0, 'Distribution of Disease for our dataset')"
      ]
     },
     "execution_count": 9,
     "metadata": {},
     "output_type": "execute_result"
    },
    {
     "data": {
      "image/png": "[encoded data removed]",
      "text/plain": [
       "<Figure size 432x288 with 1 Axes>"
      ]
     },
     "metadata": {
      "needs_background": "light"
     },
     "output_type": "display_data"
    }
   ],
   "source": [
    "# Countplot to check the distribution of labels in attribute - 'Disease'\n",
    "sns.countplot(x=\"Disease\", data=df).set_title('Distribution of Disease for our dataset')"
   ]
  },
  {
   "cell_type": "markdown",
   "metadata": {},
   "source": [
    "### 2) Handling outliers\n",
    "\n",
    "- Checking for outliers in the data set and treating them accordingly is one of the major steps of pre-processing in order to achieve a higher model performance\n",
    "\n",
    "- Below we have plotted the boxplots for our various features Vs target attribute 'Disease' to check if our numerical attributes contain any outliers\n",
    "\n",
    "- We have used the clipping technique to deal with the outliers present in our dataset. Clipping technique involves checking for all the values present in an attribute and identifying which all values lie outside the range that we have provided for clipping\n",
    "\n",
    "- We have clipped the outliers according to what is considered as the general lower and upper limit for each of the attributes in the medical domain. All the lower and upper limit values for each of the attributes will be clipped according to the values we have provided in the clip function\n",
    "\n",
    "- We have clipped the values for following features - 'Height', 'Weight', 'High Blood Pressure', 'Low Blood Pressure'\n",
    "\n"
   ]
  },
  {
   "cell_type": "markdown",
   "metadata": {},
   "source": [
    "#### Height\n",
    "\n",
    "- We can see from the below boxplot that the 'Height' feature contains outliers\n",
    "\n",
    "- The upper limit for the height variable seems to be fine\n",
    "\n",
    "- The lower limit for the height variable is 55cm. It is highly unlikely for patients to have a height of 55cm given that the minimum Age of patients in our dataset is 29 years\n",
    "\n",
    "- So, we have clipped the lower limit of Height variable to 100cm"
   ]
  },
  {
   "cell_type": "code",
   "execution_count": 10,
   "metadata": {},
   "outputs": [
    {
     "name": "stdout",
     "output_type": "stream",
     "text": [
      "Minimum height: 55\n",
      "Maximum height: 207\n"
     ]
    },
    {
     "data": {
      "image/png": "[encoded data removed]",
      "text/plain": [
       "<Figure size 432x288 with 1 Axes>"
      ]
     },
     "metadata": {
      "needs_background": "light"
     },
     "output_type": "display_data"
    }
   ],
   "source": [
    "# Boxplot of Height attribute vs target attribute Disease\n",
    "sns.boxplot(y=\"Height\", x=\"Disease\", data=df)\n",
    "plt.title(\"Box plot of Height vs Disease\")\n",
    "\n",
    "# printing max and min height\n",
    "print('Minimum height:', min(df['Height']))\n",
    "print('Maximum height:', max(df['Height']))"
   ]
  },
  {
   "cell_type": "code",
   "execution_count": 11,
   "metadata": {},
   "outputs": [],
   "source": [
    "# Clipping lower limit of height for both train and test data\n",
    "df['Height'] = df[\"Height\"].clip(lower=100)\n",
    "test_df['Height'] = test_df['Height'].clip(lower=100)"
   ]
  },
  {
   "cell_type": "markdown",
   "metadata": {},
   "source": [
    "#### Weight\n",
    "\n",
    "- We can see from the below boxplot that the 'Weight' feature contains outliers\n",
    "- The upper limit for the weight variable seems to be fine\n",
    "- The lower limit for the weight variable is 10kg. It is highly unlikely for patients to have a weight of 10kg given that the minimum Age of patients in our dataset is 29 years\n",
    "- So, we have clipped the lower limit of Weight variable to 30kg"
   ]
  },
  {
   "cell_type": "code",
   "execution_count": 12,
   "metadata": {},
   "outputs": [
    {
     "name": "stdout",
     "output_type": "stream",
     "text": [
      "Maximum Weight: 200.0\n",
      "Minimum Weight: 10.0\n"
     ]
    },
    {
     "data": {
      "image/png": "[encoded data removed]",
      "text/plain": [
       "<Figure size 432x288 with 1 Axes>"
      ]
     },
     "metadata": {
      "needs_background": "light"
     },
     "output_type": "display_data"
    }
   ],
   "source": [
    "# Boxplot of Weight attribute vs target attribute Disease\n",
    "sns.boxplot(y=\"Weight\", x=\"Disease\", data=df)\n",
    "plt.title(\"Box plot of Weight vs Disease\")\n",
    "\n",
    "# printing max and min weight\n",
    "print('Maximum Weight:', max(df['Weight']))\n",
    "print('Minimum Weight:', min(df['Weight']))"
   ]
  },
  {
   "cell_type": "code",
   "execution_count": 13,
   "metadata": {},
   "outputs": [],
   "source": [
    "# clipping the lower limit for Weight for both the train and test data\n",
    "df['Weight'] = df[\"Weight\"].clip(lower=30)\n",
    "test_df['Weight'] = test_df['Weight'].clip(lower=30)"
   ]
  },
  {
   "cell_type": "markdown",
   "metadata": {},
   "source": [
    "#### High Blood Pressure\n",
    "\n",
    "- We can see from the below boxplot that the 'High Blood Pressure' feature contains outliers\n",
    "- We have clipped the lower and upper limit of this variable according to the values that are generally considered as normal High BP in medical domain (60/250)"
   ]
  },
  {
   "cell_type": "code",
   "execution_count": 14,
   "metadata": {},
   "outputs": [
    {
     "name": "stdout",
     "output_type": "stream",
     "text": [
      "Maximum High BP: 14020\n",
      "Minimum High BP: -150\n"
     ]
    },
    {
     "data": {
      "image/png": "[encoded data removed]",
      "text/plain": [
       "<Figure size 432x288 with 1 Axes>"
      ]
     },
     "metadata": {
      "needs_background": "light"
     },
     "output_type": "display_data"
    }
   ],
   "source": [
    "# Boxplot of High Blood Pressure attribute vs target attribute Disease\n",
    "sns.boxplot(y=\"High Blood Pressure\", x=\"Disease\", data=df)\n",
    "plt.title(\"Box plot of High Blood Pressure vs Disease\")\n",
    "\n",
    "# printing max and min High BP\n",
    "print('Maximum High BP:', max(df['High Blood Pressure']))\n",
    "print('Minimum High BP:', min(df['High Blood Pressure']))"
   ]
  },
  {
   "cell_type": "code",
   "execution_count": 15,
   "metadata": {},
   "outputs": [],
   "source": [
    "# clipping values for High BP for train data\n",
    "df['High Blood Pressure'] = df[\"High Blood Pressure\"].clip(lower=60)\n",
    "df['High Blood Pressure'] = df[\"High Blood Pressure\"].clip(upper=250)\n",
    "\n",
    "# clipping values for High BP for test data\n",
    "test_df['High Blood Pressure'] = test_df['High Blood Pressure'].clip(lower=60)\n",
    "test_df['High Blood Pressure'] = test_df['High Blood Pressure'].clip(upper=250)"
   ]
  },
  {
   "cell_type": "markdown",
   "metadata": {},
   "source": [
    "#### Low Blood Pressure\n",
    "\n",
    "- We can see from the below boxplot that the 'Low Blood Pressure' feature contains outliers\n",
    "- We have clipped the lower and upper limit of this variable according to the values that are generally considered as normal Low BP in medical domain (40/160)"
   ]
  },
  {
   "cell_type": "code",
   "execution_count": 16,
   "metadata": {},
   "outputs": [
    {
     "name": "stdout",
     "output_type": "stream",
     "text": [
      "Maximum Low BP: 11000\n",
      "Minimum Low BP: 0\n"
     ]
    },
    {
     "data": {
      "image/png": "[encoded data removed]",
      "text/plain": [
       "<Figure size 432x288 with 1 Axes>"
      ]
     },
     "metadata": {
      "needs_background": "light"
     },
     "output_type": "display_data"
    }
   ],
   "source": [
    "# Boxplot of Low Blood Pressure attribute vs target attribute Disease\n",
    "sns.boxplot(y=\"Low Blood Pressure\", x=\"Disease\", data=df)\n",
    "plt.title(\"Box plot of Low Blood Pressure vs Disease\")\n",
    "\n",
    "# printing max and min Low BP\n",
    "print('Maximum Low BP:', max(df['Low Blood Pressure']))\n",
    "print('Minimum Low BP:', min(df['Low Blood Pressure']))"
   ]
  },
  {
   "cell_type": "code",
   "execution_count": 17,
   "metadata": {},
   "outputs": [],
   "source": [
    "# clipping values for Low BP for train data\n",
    "df['Low Blood Pressure'] = df[\"Low Blood Pressure\"].clip(lower=40)\n",
    "df['Low Blood Pressure'] = df[\"Low Blood Pressure\"].clip(upper=160)\n",
    "\n",
    "# clipping values for Low BP for test data\n",
    "test_df['Low Blood Pressure'] = test_df['Low Blood Pressure'].clip(lower=40)\n",
    "test_df['Low Blood Pressure'] = test_df['Low Blood Pressure'].clip(upper=160)"
   ]
  },
  {
   "cell_type": "markdown",
   "metadata": {},
   "source": [
    "### 3) Feature Engineering\n",
    "\n",
    "- Feature engineering is an important step in the machine learning domain as it can help us generate new features based on some existing features in the dataset\n",
    "\n",
    "- Here, we have calculated the Body Mass Index using the Weight and Height features and added this new feature to our dataset\n",
    "\n",
    "- BMI is a person's weight in kilograms divided by the square of height in meters. BMI can be a good indicator of a person's health\n",
    "\n",
    "-  A BMI higher than 30 indicates that the person is obese and a BMI of lower than 18.5 indicates that the person is underweight\n",
    "\n",
    "- We think BMI will be an important feature that will help us in predicting disease"
   ]
  },
  {
   "cell_type": "code",
   "execution_count": 18,
   "metadata": {},
   "outputs": [
    {
     "name": "stdout",
     "output_type": "stream",
     "text": [
      "Maximum BMI: 168.0\n",
      "Minimum BMI: 9.46850145183689\n"
     ]
    }
   ],
   "source": [
    "# adding BMI feature to the train data\n",
    "df[\"BMI\"]=df[\"Weight\"]/((df['Height']/100)**2)\n",
    "\n",
    "# adding BMI feature to the test data\n",
    "test_df[\"BMI\"]=test_df[\"Weight\"]/((test_df['Height']/100)**2)\n",
    "\n",
    "# printing max and min BMI in the dataset\n",
    "print('Maximum BMI:', max(df['BMI']))\n",
    "print('Minimum BMI:', min(df['BMI']))"
   ]
  },
  {
   "cell_type": "markdown",
   "metadata": {},
   "source": [
    "### Exploratory Data Analysis\n",
    "\n",
    "- Here, we have performed some exploratory data analysis on various features - 'Age', 'Gender', 'Cholestrol', 'Glucose' & 'Exercise'\n",
    "\n",
    "- This will help us in understanding the distribution of these features in the dataset as well as their relationship with the target attribute - 'Disease'"
   ]
  },
  {
   "cell_type": "markdown",
   "metadata": {},
   "source": [
    "#### Below is a Kernel density estimation plot for the 'Age' attribute which shows the distribution of 'Age' against the target feature 'Disease'. From the below plot, we can see that an old age patient is at a higher risk of having the disease. "
   ]
  },
  {
   "cell_type": "code",
   "execution_count": 19,
   "metadata": {},
   "outputs": [
    {
     "name": "stdout",
     "output_type": "stream",
     "text": [
      "Minimum Age: 29\n",
      "Maximum Age: 64\n"
     ]
    },
    {
     "data": {
      "image/png": "[encoded data removed]",
      "text/plain": [
       "<Figure size 576x360 with 1 Axes>"
      ]
     },
     "metadata": {
      "needs_background": "light"
     },
     "output_type": "display_data"
    }
   ],
   "source": [
    "# KDE plot of Age Vs Disease\n",
    "fig,ax=plt.subplots(1,figsize=(8,5))\n",
    "ax.set_title(\"KDE plot of Age\")\n",
    "ax.set_ylabel(\"Density\")\n",
    "sns.distplot(df.Age[df.Disease==1],hist=False,label=\"Disease=1\",ax=ax)\n",
    "sns.distplot(df.Age[df.Disease==0],hist=False,label=\"Disease=0\",ax=ax);\n",
    "\n",
    "# printing max and min Age\n",
    "print('Minimum Age:', min(df['Age']))\n",
    "print('Maximum Age:', max(df['Age']))"
   ]
  },
  {
   "cell_type": "markdown",
   "metadata": {},
   "source": [
    "#### Below is a distribution plot of Gender vs Disease for our dataset. We can infer from the below plot that our dataset contains more datapoints for gender=female. We can also infer that according to our dataset, males are at a slightly higher risk of having the disease than females"
   ]
  },
  {
   "cell_type": "code",
   "execution_count": 20,
   "metadata": {},
   "outputs": [
    {
     "data": {
      "text/plain": [
       "Text(0.5, 1.0, 'Distribution of Gender vs Disease for our dataset')"
      ]
     },
     "execution_count": 20,
     "metadata": {},
     "output_type": "execute_result"
    },
    {
     "data": {
      "image/png": "[encoded data removed]",
      "text/plain": [
       "<Figure size 432x288 with 1 Axes>"
      ]
     },
     "metadata": {
      "needs_background": "light"
     },
     "output_type": "display_data"
    }
   ],
   "source": [
    "# Distribution plot of Gender vs Disease\n",
    "sns.countplot(x=\"Gender\", hue=\"Disease\", data=df).set_title('Distribution of Gender vs Disease for our dataset')"
   ]
  },
  {
   "cell_type": "markdown",
   "metadata": {},
   "source": [
    "#### Below is a distribution plot of Cholestrol vs Disease for our dataset. We can infer from the below plot that our dataset contains more datapoints for cholestrol=normal. We can also infer that according to our dataset, person with a very high cholestrol level is at a higher risk of having the disease"
   ]
  },
  {
   "cell_type": "code",
   "execution_count": 21,
   "metadata": {},
   "outputs": [
    {
     "data": {
      "text/plain": [
       "Text(0.5, 1.0, 'Distribution of Cholestrol vs Disease for our dataset')"
      ]
     },
     "execution_count": 21,
     "metadata": {},
     "output_type": "execute_result"
    },
    {
     "data": {
      "image/png": "[encoded data removed]",
      "text/plain": [
       "<Figure size 432x288 with 1 Axes>"
      ]
     },
     "metadata": {
      "needs_background": "light"
     },
     "output_type": "display_data"
    }
   ],
   "source": [
    "# Distribution plot of Cholestrol vs Disease\n",
    "sns.countplot(x=\"Cholesterol\", hue=\"Disease\", data=df).set_title('Distribution of Cholestrol vs Disease for our dataset')"
   ]
  },
  {
   "cell_type": "markdown",
   "metadata": {},
   "source": [
    "#### Below is a distribution plot of Glucose vs Disease for our dataset. We can infer from the below plot that our dataset contains more datapoints for glucose=normal. We can also infer that according to our dataset, person with a very high glucose level is at a higher risk of having the disease"
   ]
  },
  {
   "cell_type": "code",
   "execution_count": 22,
   "metadata": {},
   "outputs": [
    {
     "data": {
      "text/plain": [
       "Text(0.5, 1.0, 'Distribution of Glucose vs Disease for our dataset')"
      ]
     },
     "execution_count": 22,
     "metadata": {},
     "output_type": "execute_result"
    },
    {
     "data": {
      "image/png": "[encoded data removed]",
      "text/plain": [
       "<Figure size 432x288 with 1 Axes>"
      ]
     },
     "metadata": {
      "needs_background": "light"
     },
     "output_type": "display_data"
    }
   ],
   "source": [
    "# Distribution plot of Glucose vs Disease\n",
    "sns.countplot(x=\"Glucose\", hue=\"Disease\", data=df).set_title('Distribution of Glucose vs Disease for our dataset')"
   ]
  },
  {
   "cell_type": "markdown",
   "metadata": {},
   "source": [
    "#### Below is a distribution plot of Exercise vs Disease for our dataset. We can infer from the plot below that according to our dataset, person who does regular exercise is at a lower risk of having the disease"
   ]
  },
  {
   "cell_type": "code",
   "execution_count": 23,
   "metadata": {},
   "outputs": [
    {
     "data": {
      "text/plain": [
       "Text(0.5, 1.0, 'Distribution of Exercise vs Disease for our dataset')"
      ]
     },
     "execution_count": 23,
     "metadata": {},
     "output_type": "execute_result"
    },
    {
     "data": {
      "image/png": "[encoded data removed]",
      "text/plain": [
       "<Figure size 432x288 with 1 Axes>"
      ]
     },
     "metadata": {
      "needs_background": "light"
     },
     "output_type": "display_data"
    }
   ],
   "source": [
    "# Distribution plot of Exercise vs Disease\n",
    "sns.countplot(x=\"Exercise\", hue=\"Disease\", data=df).set_title('Distribution of Exercise vs Disease for our dataset')"
   ]
  },
  {
   "cell_type": "markdown",
   "metadata": {},
   "source": [
    "### 4) Data Transformations\n",
    "\n",
    "- Here, we have performed several data transformations that will help our machine learning models in predicting the correct labels for Disease\n",
    "\n",
    "- We have performed Binning on the Age feature and converted this attribute into 8 bins. We have seen previously from the KDE plot for Age vs Disease that the possibility of having the disease increases with age. So, we believe binning the Age feature into categories will help us in predicting the disease\n",
    "\n",
    "-  We have also performed One-hot encoding for all the categorical features present in our dataset. After performing the One-hot encoding, we have removed one column for each of the categorical attribute. We only need to keep n-1 columns after performing One-hot encoding to remove the redundancy in our dataset."
   ]
  },
  {
   "cell_type": "markdown",
   "metadata": {},
   "source": [
    "### Binning"
   ]
  },
  {
   "cell_type": "markdown",
   "metadata": {},
   "source": [
    "#### Adding a new feature 'Age_Binning' to both the train and test data"
   ]
  },
  {
   "cell_type": "code",
   "execution_count": 24,
   "metadata": {},
   "outputs": [],
   "source": [
    "# creating labels for the new binned feature\n",
    "ages = ['Age 25-29','Age 30-34','Age 35-39','Age 40-44','Age 45-49','Age 50-54','Age 55-59','Age 60-64']\n",
    "\n",
    "# adding a new feature 'Age_Binning' by performing binning on 'Age' attribute for both train and test dataset\n",
    "df['Age_Binning'] = pd.cut(df['Age'], bins=np.linspace(25, 65, 9), labels=ages)\n",
    "test_df['Age_Binning'] = pd.cut(test_df['Age'], bins=np.linspace(25, 65, 9), labels=ages)"
   ]
  },
  {
   "cell_type": "markdown",
   "metadata": {},
   "source": [
    "#### Distribution of binned age attribute against the target feature - 'Disease'. We can infer from the below plot that people in the higher age categories i.e. 50-54, 55-59, 60-64 are at the highest risk of having the disease"
   ]
  },
  {
   "cell_type": "code",
   "execution_count": 25,
   "metadata": {},
   "outputs": [
    {
     "data": {
      "image/png": "[encoded data removed]",
      "text/plain": [
       "<Figure size 432x288 with 1 Axes>"
      ]
     },
     "metadata": {
      "needs_background": "light"
     },
     "output_type": "display_data"
    }
   ],
   "source": [
    "# plot of 'Age_Binning' vs 'Disease'\n",
    "ax = sns.countplot(x=\"Age_Binning\", hue = 'Disease', data=df)\n",
    "\n",
    "# rotating the labels on the x-axis\n",
    "ax.set_xticklabels(ax.get_xticklabels(), rotation=40, ha=\"right\")\n",
    "plt.tight_layout()\n",
    "plt.show()"
   ]
  },
  {
   "cell_type": "markdown",
   "metadata": {},
   "source": [
    "### One-hot encoding\n",
    "\n",
    "- Here, we can converted all the categorical features present in our train and test dataset into numerical features using One-hot encoding\n",
    "\n",
    "- We have only kept n-1 columns after performing One-hot encoding as this will help in reducing the redundancy in our dataset"
   ]
  },
  {
   "cell_type": "code",
   "execution_count": 26,
   "metadata": {},
   "outputs": [],
   "source": [
    "# One-hot encoding on train data\n",
    "df=pd.get_dummies(df)\n",
    "\n",
    "# One-hot encoding on test data\n",
    "test_df=pd.get_dummies(test_df)"
   ]
  },
  {
   "cell_type": "code",
   "execution_count": 27,
   "metadata": {},
   "outputs": [],
   "source": [
    "# Dropping 1 column each and keeping n-1 columns for all the One-hot encoded attributes on both train and test data\n",
    "df.drop([\"Age\",'Cholesterol_too high','Glucose_too high','Age_Binning_Age 60-64'],inplace=True,axis=1)\n",
    "test_df.drop([\"Age\",'Cholesterol_too high','Glucose_too high','Age_Binning_Age 60-64'],inplace=True,axis=1)"
   ]
  },
  {
   "cell_type": "code",
   "execution_count": 28,
   "metadata": {},
   "outputs": [],
   "source": [
    "# Dropping 1 column each and keeping n-1 columns for all the One-hot encoded attributes on both train and test data\n",
    "df.drop(['Gender_female'],inplace=True,axis=1)\n",
    "test_df.drop(['Gender_female'],inplace=True,axis=1)"
   ]
  },
  {
   "cell_type": "markdown",
   "metadata": {},
   "source": [
    "## Model Building\n",
    "\n",
    "-  Here, we have performed some pre-processing steps required for all of our machine learning models\n",
    "\n",
    "- Firstly, we have performed a train-validation split on our training dataset using 70-30 as the size. This will help prevent our models from overfitting and we will also be able to perform hyper-parameter tuning on validation set\n",
    "\n",
    "- Secondly, we have used the StandardScalar technique to scale our dataset. This is an important technique which can help us improve the perfomance of our models. We have scaled the train data, validation data and the test data as well. Scaling the dataset in an important step for models that use distance-based techniques for prediction\n",
    "\n",
    "- Thirdly, we have created a generic AUC-ROC function which will help us generate the Area Under the Receiver Operating Characrteristic curve for all the models that can predict the probability of the target class labels\n",
    "\n",
    "- Finally, we have removed the 'ID' column from the test dataset as it will not be helpful in performing the predictions on the test data. We have popped the 'ID' column from test data and inserted it into a new dataframe - 'final_prediction' which we will be using later on to store the final predictions on test data"
   ]
  },
  {
   "cell_type": "markdown",
   "metadata": {},
   "source": [
    "## Evaluation metric - Recall\n",
    "- We have used the evaluation metric as Recall for all the machine learning models that we have implemented\n",
    "- Though, we could have also used Accuracy as the evaluation metric because our training dataset is balanced i.e. it contains the same amount of data points for both the target labels 0 and 1\n",
    "- But we have selected the metric as Recall because our goal here is to predict whether a patient has a disease or not\n",
    "- So, for our kind of classification problem, it is extremely important for our models to reduce the number of 'false-negatives'. We do not want our models to predict a patient as 'not having the disease' when that patient actually 'has the disease'"
   ]
  },
  {
   "cell_type": "code",
   "execution_count": 29,
   "metadata": {},
   "outputs": [],
   "source": [
    "# Define X & y for the split\n",
    "X = df.drop('Disease', axis=1)\n",
    "y = df['Disease']"
   ]
  },
  {
   "cell_type": "code",
   "execution_count": 30,
   "metadata": {},
   "outputs": [],
   "source": [
    "# 70-30 train-validation split\n",
    "X_train, X_test, y_train, y_test = train_test_split(X, y, test_size=0.3, random_state=16)"
   ]
  },
  {
   "cell_type": "code",
   "execution_count": 31,
   "metadata": {},
   "outputs": [],
   "source": [
    "# Initializing standard scalar\n",
    "scaler=StandardScaler()"
   ]
  },
  {
   "cell_type": "code",
   "execution_count": 32,
   "metadata": {},
   "outputs": [
    {
     "name": "stderr",
     "output_type": "stream",
     "text": [
      "/Users/sankalpsingh/Vicky/Softwares/Anaconda/anaconda3/lib/python3.7/site-packages/ipykernel_launcher.py:2: SettingWithCopyWarning: \n",
      "A value is trying to be set on a copy of a slice from a DataFrame.\n",
      "Try using .loc[row_indexer,col_indexer] = value instead\n",
      "\n",
      "See the caveats in the documentation: https://pandas.pydata.org/pandas-docs/stable/user_guide/indexing.html#returning-a-view-versus-a-copy\n",
      "  \n",
      "/Users/sankalpsingh/Vicky/Softwares/Anaconda/anaconda3/lib/python3.7/site-packages/pandas/core/indexing.py:965: SettingWithCopyWarning: \n",
      "A value is trying to be set on a copy of a slice from a DataFrame.\n",
      "Try using .loc[row_indexer,col_indexer] = value instead\n",
      "\n",
      "See the caveats in the documentation: https://pandas.pydata.org/pandas-docs/stable/user_guide/indexing.html#returning-a-view-versus-a-copy\n",
      "  self.obj[item] = s\n"
     ]
    }
   ],
   "source": [
    "# Scaling train data\n",
    "X_train[['Height', 'Weight', 'Low Blood Pressure','High Blood Pressure','BMI']]=scaler.fit_transform(X_train[['Height', 'Weight', 'Low Blood Pressure','High Blood Pressure','BMI']])"
   ]
  },
  {
   "cell_type": "code",
   "execution_count": 33,
   "metadata": {},
   "outputs": [
    {
     "name": "stderr",
     "output_type": "stream",
     "text": [
      "/Users/sankalpsingh/Vicky/Softwares/Anaconda/anaconda3/lib/python3.7/site-packages/ipykernel_launcher.py:2: SettingWithCopyWarning: \n",
      "A value is trying to be set on a copy of a slice from a DataFrame.\n",
      "Try using .loc[row_indexer,col_indexer] = value instead\n",
      "\n",
      "See the caveats in the documentation: https://pandas.pydata.org/pandas-docs/stable/user_guide/indexing.html#returning-a-view-versus-a-copy\n",
      "  \n",
      "/Users/sankalpsingh/Vicky/Softwares/Anaconda/anaconda3/lib/python3.7/site-packages/pandas/core/indexing.py:965: SettingWithCopyWarning: \n",
      "A value is trying to be set on a copy of a slice from a DataFrame.\n",
      "Try using .loc[row_indexer,col_indexer] = value instead\n",
      "\n",
      "See the caveats in the documentation: https://pandas.pydata.org/pandas-docs/stable/user_guide/indexing.html#returning-a-view-versus-a-copy\n",
      "  self.obj[item] = s\n"
     ]
    }
   ],
   "source": [
    "# Scaling validation data\n",
    "X_test[['Height', 'Weight', 'Low Blood Pressure','High Blood Pressure','BMI']]=scaler.transform(X_test[['Height', 'Weight', 'Low Blood Pressure','High Blood Pressure','BMI']])"
   ]
  },
  {
   "cell_type": "code",
   "execution_count": 34,
   "metadata": {},
   "outputs": [],
   "source": [
    "# Scaling test data\n",
    "test_df[['Height', 'Weight', 'Low Blood Pressure','High Blood Pressure','BMI']]=scaler.transform(test_df[['Height', 'Weight', 'Low Blood Pressure','High Blood Pressure','BMI']])"
   ]
  },
  {
   "cell_type": "code",
   "execution_count": 35,
   "metadata": {},
   "outputs": [],
   "source": [
    "# creating a new dataframe for storing the test data predictions\n",
    "final_prediction=pd.DataFrame()"
   ]
  },
  {
   "cell_type": "code",
   "execution_count": 36,
   "metadata": {},
   "outputs": [],
   "source": [
    "# Popping 'ID' column from test dataframe to prediction dataframe\n",
    "final_prediction[\"ID\"]=test_df.pop(\"ID\")"
   ]
  },
  {
   "cell_type": "markdown",
   "metadata": {},
   "source": [
    "#### ROC function - generic AUC-ROC function which will help us generate the Area Under the Receiver Operating Characteristic curve for all the models that can predict the probability of the target class labels"
   ]
  },
  {
   "cell_type": "code",
   "execution_count": 37,
   "metadata": {},
   "outputs": [],
   "source": [
    "# Function to plot ROC_AUC_curve\n",
    "\n",
    "def ROC_AUC_curve(model,model_name=\"Model\"):\n",
    "    # generate a no skill prediction (majority class)\n",
    "    ns_probs = [0 for _ in range(len(y_test))]\n",
    "\n",
    "    # predict probabilities\n",
    "    lr_probs = model.predict_proba(X_test)\n",
    "    # keep probabilities for the positive outcome only\n",
    "    lr_probs = lr_probs[:, 1]\n",
    "    # calculate scores\n",
    "    ns_auc = roc_auc_score(y_test, ns_probs)\n",
    "    lr_auc = roc_auc_score(y_test, lr_probs)\n",
    "    # summarize scores\n",
    "    print('No Skill: ROC AUC=%.3f' % (ns_auc))\n",
    "    print('Model: ROC AUC=%.3f' % (lr_auc))\n",
    "    # calculate roc curves\n",
    "    ns_fpr, ns_tpr, _ = roc_curve(y_test, ns_probs)\n",
    "    lr_fpr, lr_tpr, _ = roc_curve(y_test, lr_probs)\n",
    "    # plot the roc curve for the model\n",
    "    plt.figure(figsize=(8,4))\n",
    "    plt.plot(ns_fpr, ns_tpr, linestyle='--', label='No Skill')\n",
    "    plt.plot(lr_fpr, lr_tpr, marker='.', label=model_name)\n",
    "    # axis labels\n",
    "    plt.xlabel('False Positive Rate')\n",
    "    plt.ylabel('True Positive Rate')\n",
    "    # show the legend\n",
    "    plt.legend()\n",
    "    # show the plot\n",
    "    plt.show()"
   ]
  },
  {
   "cell_type": "markdown",
   "metadata": {},
   "source": [
    "#### ROC function - generic AUC-ROC upgraded function which will help us generate the Area Under the Receiver Operating Characteristic curve for ANN models that can predict the probability of the target class labels"
   ]
  },
  {
   "cell_type": "code",
   "execution_count": 38,
   "metadata": {},
   "outputs": [],
   "source": [
    "# Function to plot ROC_AUC_curve\n",
    "\n",
    "def ROC_AUC_curve_upgraded(model,model_name=\"Model\"):\n",
    "    # generate a no skill prediction (majority class)\n",
    "    ns_probs = [0 for _ in range(len(y_test))]\n",
    "\n",
    "    # predict probabilities\n",
    "    lr_probs = model.predict_proba(X_test)\n",
    "    # keep probabilities for the positive outcome only\n",
    "    lr_probs = lr_probs\n",
    "    # calculate scores\n",
    "    ns_auc = roc_auc_score(y_test, ns_probs)\n",
    "    lr_auc = roc_auc_score(y_test, lr_probs)\n",
    "    # summarize scores\n",
    "    print('No Skill: ROC AUC=%.3f' % (ns_auc))\n",
    "    print('Decision Tree: ROC AUC=%.3f' % (lr_auc))\n",
    "    # calculate roc curves\n",
    "    ns_fpr, ns_tpr, _ = roc_curve(y_test, ns_probs)\n",
    "    lr_fpr, lr_tpr, _ = roc_curve(y_test, lr_probs)\n",
    "    # plot the roc curve for the model\n",
    "    plt.figure(figsize=(8,4))\n",
    "    plt.plot(ns_fpr, ns_tpr, linestyle='--', label='No Skill')\n",
    "    plt.plot(lr_fpr, lr_tpr, marker='.', label=model_name)\n",
    "    # axis labels\n",
    "    plt.xlabel('False Positive Rate')\n",
    "    plt.ylabel('True Positive Rate')\n",
    "    # show the legend\n",
    "    plt.legend()\n",
    "    # show the plot\n",
    "    plt.show()"
   ]
  },
  {
   "cell_type": "markdown",
   "metadata": {},
   "source": [
    "## Logistic Regression\n",
    "\n",
    "- We have implemented the Logistic Regression classifier model here\n",
    "- We have used a 5 folds cross validation grid search to perform the hyper-parameter tuning in order to achieve the best recall for our model\n",
    "- We have used recall as scoring for the grid search\n",
    "- After this, we have printed the classification report for our model on training data, validation data in order to get a sense of how well our model is performing in terms of precision, recall, f1-score and accuracy and to see if our model is overfitting on the training data\n",
    "- We have predicted the target class labels for our testing dataset by using the best fitted model\n",
    "- We have also generated an AUC-ROC curve for the Logistic Regression model"
   ]
  },
  {
   "cell_type": "code",
   "execution_count": 39,
   "metadata": {},
   "outputs": [],
   "source": [
    "# initializing the LR model\n",
    "lr=LogisticRegression(random_state=16,solver=\"liblinear\")"
   ]
  },
  {
   "cell_type": "markdown",
   "metadata": {},
   "source": [
    "#### Hyper-paramater tuning using GridSearch:\n",
    "\n",
    "- C: This is the cost parameter. It is the inverse of the lambda. Smaller value specify more regularization\n",
    "\n",
    "- Penalty: The types of penalty that can be used are l1 and l2. The l1 penalty has the characteristics of eliminating features by making its co-efficient 0. The l2 penalty does not eliminate features but it penalizes the effect of less useful features and makes their co-efficient close to 0\n"
   ]
  },
  {
   "cell_type": "code",
   "execution_count": 40,
   "metadata": {},
   "outputs": [],
   "source": [
    "# Performing grid search to find the best hyper-parameters\n",
    "param_grid_lr = {\n",
    "              'C': [.001,.005,.01,0.1,0.3,0.5,1,3,5,10],\n",
    "              'penalty': ['l1', 'l2']\n",
    "              }"
   ]
  },
  {
   "cell_type": "code",
   "execution_count": 41,
   "metadata": {},
   "outputs": [],
   "source": [
    "# Using 5 fold cross validation and evaluation metric as Recall\n",
    "grid_lr = GridSearchCV(lr, param_grid_lr, cv=5, scoring='recall', n_jobs=-1, verbose=1)"
   ]
  },
  {
   "cell_type": "code",
   "execution_count": 42,
   "metadata": {},
   "outputs": [
    {
     "name": "stdout",
     "output_type": "stream",
     "text": [
      "Fitting 5 folds for each of 20 candidates, totalling 100 fits\n"
     ]
    },
    {
     "name": "stderr",
     "output_type": "stream",
     "text": [
      "[Parallel(n_jobs=-1)]: Using backend LokyBackend with 4 concurrent workers.\n",
      "[Parallel(n_jobs=-1)]: Done  42 tasks      | elapsed:    9.1s\n",
      "[Parallel(n_jobs=-1)]: Done 100 out of 100 | elapsed:   16.9s finished\n"
     ]
    }
   ],
   "source": [
    "# Fitting LR model\n",
    "lr_model = grid_lr.fit(X_train, y_train)"
   ]
  },
  {
   "cell_type": "code",
   "execution_count": 43,
   "metadata": {},
   "outputs": [
    {
     "name": "stdout",
     "output_type": "stream",
     "text": [
      "{'C': 5, 'penalty': 'l1'}\n"
     ]
    }
   ],
   "source": [
    "# printing best hyper-parameters for model\n",
    "lr_best_params = grid_lr.best_params_\n",
    "print(lr_best_params)"
   ]
  },
  {
   "cell_type": "code",
   "execution_count": 44,
   "metadata": {},
   "outputs": [
    {
     "name": "stdout",
     "output_type": "stream",
     "text": [
      "              precision    recall  f1-score   support\n",
      "\n",
      "           0       0.78      0.71      0.74     18968\n",
      "           1       0.68      0.76      0.71     15332\n",
      "\n",
      "    accuracy                           0.73     34300\n",
      "   macro avg       0.73      0.73      0.73     34300\n",
      "weighted avg       0.74      0.73      0.73     34300\n",
      "\n"
     ]
    }
   ],
   "source": [
    "# Printing classification report for predictions made by model on training dataset\n",
    "print(classification_report(lr_model.predict(X_train),y_train))"
   ]
  },
  {
   "cell_type": "code",
   "execution_count": 45,
   "metadata": {},
   "outputs": [
    {
     "name": "stdout",
     "output_type": "stream",
     "text": [
      "              precision    recall  f1-score   support\n",
      "\n",
      "           0       0.79      0.71      0.74      8139\n",
      "           1       0.68      0.76      0.72      6561\n",
      "\n",
      "    accuracy                           0.73     14700\n",
      "   macro avg       0.73      0.73      0.73     14700\n",
      "weighted avg       0.74      0.73      0.73     14700\n",
      "\n"
     ]
    }
   ],
   "source": [
    "# Printing classification report for predictions made by model on validation dataset\n",
    "print(classification_report(lr_model.predict(X_test),y_test))"
   ]
  },
  {
   "cell_type": "code",
   "execution_count": 46,
   "metadata": {},
   "outputs": [],
   "source": [
    "# Predicting disease labels for test dataset\n",
    "test_prediction_lr = lr_model.predict(test_df)"
   ]
  },
  {
   "cell_type": "markdown",
   "metadata": {},
   "source": [
    "#### Generating the AUC-ROC curve for the LR model\n",
    "- The AUC-ROC score that we get from the graph that we have plotted below tells us that our model is able to distinguish between the patients, if they have a disease or not, 79.4% of the time.\n",
    "- The score is above 50% which means that the model is not just randomly predicting the probability of a patient having the disease"
   ]
  },
  {
   "cell_type": "code",
   "execution_count": 47,
   "metadata": {},
   "outputs": [
    {
     "name": "stdout",
     "output_type": "stream",
     "text": [
      "No Skill: ROC AUC=0.500\n",
      "Model: ROC AUC=0.794\n"
     ]
    },
    {
     "data": {
      "image/png": "[encoded data removed]",
      "text/plain": [
       "<Figure size 576x288 with 1 Axes>"
      ]
     },
     "metadata": {
      "needs_background": "light"
     },
     "output_type": "display_data"
    }
   ],
   "source": [
    "# printing the AUC-ROC for LR model\n",
    "ROC_AUC_curve(model=lr_model,model_name=\"Logistic Regression\")"
   ]
  },
  {
   "cell_type": "markdown",
   "metadata": {},
   "source": [
    "#### Coefficients for Logistic Regression Model\n",
    "- As we have used the l1 regularization paramater, we can see that the coefficient for the feature 'Age_Binning_Age 30-34' has been reduced to zero as part of the l1 penalty\n",
    "- We can also conclude that High Blood Pressure has the highest coefficient indicating that high BP increases the odds of having the disease the most\n",
    "- Similarly, we can conclude that 'Age_Binning_Age 25-29' - increases the odds of having the disease the least"
   ]
  },
  {
   "cell_type": "code",
   "execution_count": 48,
   "metadata": {},
   "outputs": [],
   "source": [
    "# printing the coefficients of LR model\n",
    "lr_coefficients=OrderedDict(sorted(zip(X_train.columns,grid_lr.best_estimator_.coef_[0]),reverse=True,key=lambda x:x[1]))"
   ]
  },
  {
   "cell_type": "code",
   "execution_count": 49,
   "metadata": {},
   "outputs": [
    {
     "data": {
      "text/plain": [
       "High Blood Pressure      0.884664\n",
       "Glucose_high             0.295397\n",
       "Glucose_normal           0.274231\n",
       "Low Blood Pressure       0.196945\n",
       "Weight                   0.162313\n",
       "Age_Binning_Age 30-34    0.000000\n",
       "Gender_male             -0.005602\n",
       "BMI                     -0.010491\n",
       "Height                  -0.045463\n",
       "Alcohol                 -0.129690\n",
       "Smoke                   -0.131314\n",
       "Exercise                -0.232351\n",
       "Age_Binning_Age 55-59   -0.388198\n",
       "Age_Binning_Age 50-54   -0.598488\n",
       "Cholesterol_high        -0.641938\n",
       "Age_Binning_Age 45-49   -0.783604\n",
       "Age_Binning_Age 40-44   -1.012088\n",
       "Cholesterol_normal      -1.056953\n",
       "Age_Binning_Age 35-39   -1.557555\n",
       "Age_Binning_Age 25-29   -2.096229\n",
       "dtype: float64"
      ]
     },
     "execution_count": 49,
     "metadata": {},
     "output_type": "execute_result"
    }
   ],
   "source": [
    "# printing the coefficients \n",
    "pd.Series(lr_coefficients)"
   ]
  },
  {
   "cell_type": "markdown",
   "metadata": {},
   "source": [
    "## Decision Tree\n",
    "- We have implemented the Decision Trees classifier model here\n",
    "- We have used a grid search to perform the hyper parameter tuning in order to achieve the best recall for our model\n",
    "- We have used recall as scoring for the grid search\n",
    "- After this, we have printed the classification report for our model on training data, validation data in order to get a sense of how well our model is performing in terms of precision, recall, f1-score and accuracy\n",
    "- We have predicted the target class labels for our testing dataset by using the best fitted model\n",
    "- We have also generated an AUC-ROC curve for the DT model"
   ]
  },
  {
   "cell_type": "code",
   "execution_count": 50,
   "metadata": {},
   "outputs": [],
   "source": [
    "# initializing the DT model\n",
    "dt=DecisionTreeClassifier(random_state=42)"
   ]
  },
  {
   "cell_type": "markdown",
   "metadata": {},
   "source": [
    "#### Hyper-paramater tuning using GridSearch:\n",
    "- criterion: The criterion that will be used to split a node. This can be either gini index or entropy\n",
    "- max_features: The max_features is the number of features that will be used for making a single tree. For eg using \"sqrt\", the tree uses the square root of the number of total features in the data. Using auto is the same as making use of sqrt. The other values can be specifying the int(number of features to be used), log, and proportion of the features to be used\n",
    "- min_samples_split: The number of samples that should be present in the node for it to be split further\n",
    "- max_depth: The maxdepth represents the depth of the tree. The deeper the tree, the more splits it has and it captures more information about the data. In order to avoid overfitting the data, we use the maxDepth to specify the depth till which the tree can split\n",
    "- min_samples_leaf: This helps in pruning the decision tree. It ensures that the leaf contain atleast the mentioned number of samples\n",
    "- max_leaf_nodes: Total number of terminal nodes in a tree"
   ]
  },
  {
   "cell_type": "code",
   "execution_count": 51,
   "metadata": {},
   "outputs": [],
   "source": [
    "# Using grid search for hyper-parameter tuning\n",
    "param_grid_dt = { 'criterion':['gini','entropy'],\n",
    "                 'max_features': ['auto','log2'],\n",
    "              'min_samples_split':[25,50,100,200],\n",
    "              'max_depth': [5,10,20,25,30],\n",
    "              'min_samples_leaf': [1,3,5,10,20],\n",
    "              'max_leaf_nodes': [2,5,10,20,40]}"
   ]
  },
  {
   "cell_type": "code",
   "execution_count": 52,
   "metadata": {},
   "outputs": [],
   "source": [
    "# Using grid search and evaluation metric as Recall\n",
    "grid_dt = GridSearchCV(dt, param_grid_dt, scoring='recall', n_jobs=-1, verbose=1)"
   ]
  },
  {
   "cell_type": "code",
   "execution_count": 53,
   "metadata": {},
   "outputs": [
    {
     "name": "stdout",
     "output_type": "stream",
     "text": [
      "Fitting 5 folds for each of 2000 candidates, totalling 10000 fits\n"
     ]
    },
    {
     "name": "stderr",
     "output_type": "stream",
     "text": [
      "[Parallel(n_jobs=-1)]: Using backend LokyBackend with 4 concurrent workers.\n",
      "[Parallel(n_jobs=-1)]: Done 128 tasks      | elapsed:    1.7s\n",
      "[Parallel(n_jobs=-1)]: Done 728 tasks      | elapsed:    8.9s\n",
      "[Parallel(n_jobs=-1)]: Done 1728 tasks      | elapsed:   21.2s\n",
      "[Parallel(n_jobs=-1)]: Done 3128 tasks      | elapsed:   38.7s\n",
      "[Parallel(n_jobs=-1)]: Done 4928 tasks      | elapsed:  1.0min\n",
      "[Parallel(n_jobs=-1)]: Done 7128 tasks      | elapsed:  1.5min\n",
      "[Parallel(n_jobs=-1)]: Done 9728 tasks      | elapsed:  2.1min\n",
      "[Parallel(n_jobs=-1)]: Done 10000 out of 10000 | elapsed:  2.1min finished\n"
     ]
    }
   ],
   "source": [
    "# Fitting dt model\n",
    "dt_model = grid_dt.fit(X_train, y_train)"
   ]
  },
  {
   "cell_type": "code",
   "execution_count": 54,
   "metadata": {},
   "outputs": [
    {
     "name": "stdout",
     "output_type": "stream",
     "text": [
      "{'criterion': 'gini', 'max_depth': 10, 'max_features': 'auto', 'max_leaf_nodes': 40, 'min_samples_leaf': 20, 'min_samples_split': 200}\n"
     ]
    }
   ],
   "source": [
    "# printing the best hyper-parameters\n",
    "dt_best_params = grid_dt.best_params_\n",
    "print(dt_best_params)"
   ]
  },
  {
   "cell_type": "code",
   "execution_count": 55,
   "metadata": {},
   "outputs": [
    {
     "name": "stdout",
     "output_type": "stream",
     "text": [
      "              precision    recall  f1-score   support\n",
      "\n",
      "           0       0.80      0.67      0.73     20377\n",
      "           1       0.61      0.75      0.67     13923\n",
      "\n",
      "    accuracy                           0.71     34300\n",
      "   macro avg       0.71      0.71      0.70     34300\n",
      "weighted avg       0.72      0.71      0.71     34300\n",
      "\n"
     ]
    }
   ],
   "source": [
    "# Printing classification report for predictions made by model on training dataset\n",
    "print(classification_report(dt_model.predict(X_train),y_train))"
   ]
  },
  {
   "cell_type": "code",
   "execution_count": 56,
   "metadata": {},
   "outputs": [
    {
     "name": "stdout",
     "output_type": "stream",
     "text": [
      "              precision    recall  f1-score   support\n",
      "\n",
      "           0       0.80      0.66      0.72      8743\n",
      "           1       0.60      0.75      0.67      5957\n",
      "\n",
      "    accuracy                           0.70     14700\n",
      "   macro avg       0.70      0.71      0.70     14700\n",
      "weighted avg       0.72      0.70      0.70     14700\n",
      "\n"
     ]
    }
   ],
   "source": [
    "# Printing classification report for predictions made by model on validation dataset\n",
    "print(classification_report(dt_model.predict(X_test),y_test))"
   ]
  },
  {
   "cell_type": "code",
   "execution_count": 57,
   "metadata": {},
   "outputs": [],
   "source": [
    "# Predicting disease labels for test dataset\n",
    "test_prediction_dt = dt_model.predict(test_df)"
   ]
  },
  {
   "cell_type": "markdown",
   "metadata": {},
   "source": [
    "#### Saving the model using pickle library"
   ]
  },
  {
   "cell_type": "code",
   "execution_count": 58,
   "metadata": {},
   "outputs": [],
   "source": [
    "# Save the trained model as a pickle string. \n",
    "saved_dt_model = pickle.dumps(dt_model) \n",
    "  \n",
    "# Load the pickled model \n",
    "dt_from_pickle = pickle.loads(saved_dt_model) "
   ]
  },
  {
   "cell_type": "markdown",
   "metadata": {},
   "source": [
    "#### Generating the AUC-ROC curve for the DT model\n",
    "- The AUC-ROC score that we get from the graph that we have plotted below tells us that our model is able to distinguish between the patients, if they have a disease or not, 75.2% of the time.\n",
    "- The score is above 50% which means that the model is not just randomly predicting the probability of a patient having the disease"
   ]
  },
  {
   "cell_type": "code",
   "execution_count": 59,
   "metadata": {
    "scrolled": true
   },
   "outputs": [
    {
     "name": "stdout",
     "output_type": "stream",
     "text": [
      "No Skill: ROC AUC=0.500\n",
      "Model: ROC AUC=0.752\n"
     ]
    },
    {
     "data": {
      "image/png": "[encoded data removed]",
      "text/plain": [
       "<Figure size 576x288 with 1 Axes>"
      ]
     },
     "metadata": {
      "needs_background": "light"
     },
     "output_type": "display_data"
    }
   ],
   "source": [
    "# ROC curve for DT model\n",
    "ROC_AUC_curve(model=dt_model,model_name=\"Decision Tree\")"
   ]
  },
  {
   "cell_type": "markdown",
   "metadata": {},
   "source": [
    "#### Feature Importance Plot for Decision Tree Classifier"
   ]
  },
  {
   "cell_type": "code",
   "execution_count": 60,
   "metadata": {},
   "outputs": [
    {
     "data": {
      "text/html": [
       "<div>\n",
       "<style scoped>\n",
       "    .dataframe tbody tr th:only-of-type {\n",
       "        vertical-align: middle;\n",
       "    }\n",
       "\n",
       "    .dataframe tbody tr th {\n",
       "        vertical-align: top;\n",
       "    }\n",
       "\n",
       "    .dataframe thead th {\n",
       "        text-align: right;\n",
       "    }\n",
       "</style>\n",
       "<table border=\"1\" class=\"dataframe\">\n",
       "  <thead>\n",
       "    <tr style=\"text-align: right;\">\n",
       "      <th></th>\n",
       "      <th>importance</th>\n",
       "      <th>features</th>\n",
       "    </tr>\n",
       "  </thead>\n",
       "  <tbody>\n",
       "    <tr>\n",
       "      <th>Low Blood Pressure</th>\n",
       "      <td>0.323554</td>\n",
       "      <td>Low Blood Pressure</td>\n",
       "    </tr>\n",
       "    <tr>\n",
       "      <th>High Blood Pressure</th>\n",
       "      <td>0.319757</td>\n",
       "      <td>High Blood Pressure</td>\n",
       "    </tr>\n",
       "    <tr>\n",
       "      <th>Cholesterol_normal</th>\n",
       "      <td>0.145995</td>\n",
       "      <td>Cholesterol_normal</td>\n",
       "    </tr>\n",
       "    <tr>\n",
       "      <th>Weight</th>\n",
       "      <td>0.117949</td>\n",
       "      <td>Weight</td>\n",
       "    </tr>\n",
       "    <tr>\n",
       "      <th>Age_Binning_Age 40-44</th>\n",
       "      <td>0.035675</td>\n",
       "      <td>Age_Binning_Age 40-44</td>\n",
       "    </tr>\n",
       "    <tr>\n",
       "      <th>Age_Binning_Age 35-39</th>\n",
       "      <td>0.020127</td>\n",
       "      <td>Age_Binning_Age 35-39</td>\n",
       "    </tr>\n",
       "    <tr>\n",
       "      <th>BMI</th>\n",
       "      <td>0.019912</td>\n",
       "      <td>BMI</td>\n",
       "    </tr>\n",
       "    <tr>\n",
       "      <th>Age_Binning_Age 55-59</th>\n",
       "      <td>0.011301</td>\n",
       "      <td>Age_Binning_Age 55-59</td>\n",
       "    </tr>\n",
       "    <tr>\n",
       "      <th>Cholesterol_high</th>\n",
       "      <td>0.001900</td>\n",
       "      <td>Cholesterol_high</td>\n",
       "    </tr>\n",
       "    <tr>\n",
       "      <th>Glucose_normal</th>\n",
       "      <td>0.001427</td>\n",
       "      <td>Glucose_normal</td>\n",
       "    </tr>\n",
       "    <tr>\n",
       "      <th>Height</th>\n",
       "      <td>0.001250</td>\n",
       "      <td>Height</td>\n",
       "    </tr>\n",
       "    <tr>\n",
       "      <th>Smoke</th>\n",
       "      <td>0.001154</td>\n",
       "      <td>Smoke</td>\n",
       "    </tr>\n",
       "    <tr>\n",
       "      <th>Gender_male</th>\n",
       "      <td>0.000000</td>\n",
       "      <td>Gender_male</td>\n",
       "    </tr>\n",
       "    <tr>\n",
       "      <th>Exercise</th>\n",
       "      <td>0.000000</td>\n",
       "      <td>Exercise</td>\n",
       "    </tr>\n",
       "    <tr>\n",
       "      <th>Glucose_high</th>\n",
       "      <td>0.000000</td>\n",
       "      <td>Glucose_high</td>\n",
       "    </tr>\n",
       "    <tr>\n",
       "      <th>Age_Binning_Age 25-29</th>\n",
       "      <td>0.000000</td>\n",
       "      <td>Age_Binning_Age 25-29</td>\n",
       "    </tr>\n",
       "    <tr>\n",
       "      <th>Age_Binning_Age 30-34</th>\n",
       "      <td>0.000000</td>\n",
       "      <td>Age_Binning_Age 30-34</td>\n",
       "    </tr>\n",
       "    <tr>\n",
       "      <th>Alcohol</th>\n",
       "      <td>0.000000</td>\n",
       "      <td>Alcohol</td>\n",
       "    </tr>\n",
       "    <tr>\n",
       "      <th>Age_Binning_Age 45-49</th>\n",
       "      <td>0.000000</td>\n",
       "      <td>Age_Binning_Age 45-49</td>\n",
       "    </tr>\n",
       "    <tr>\n",
       "      <th>Age_Binning_Age 50-54</th>\n",
       "      <td>0.000000</td>\n",
       "      <td>Age_Binning_Age 50-54</td>\n",
       "    </tr>\n",
       "  </tbody>\n",
       "</table>\n",
       "</div>"
      ],
      "text/plain": [
       "                       importance               features\n",
       "Low Blood Pressure       0.323554     Low Blood Pressure\n",
       "High Blood Pressure      0.319757    High Blood Pressure\n",
       "Cholesterol_normal       0.145995     Cholesterol_normal\n",
       "Weight                   0.117949                 Weight\n",
       "Age_Binning_Age 40-44    0.035675  Age_Binning_Age 40-44\n",
       "Age_Binning_Age 35-39    0.020127  Age_Binning_Age 35-39\n",
       "BMI                      0.019912                    BMI\n",
       "Age_Binning_Age 55-59    0.011301  Age_Binning_Age 55-59\n",
       "Cholesterol_high         0.001900       Cholesterol_high\n",
       "Glucose_normal           0.001427         Glucose_normal\n",
       "Height                   0.001250                 Height\n",
       "Smoke                    0.001154                  Smoke\n",
       "Gender_male              0.000000            Gender_male\n",
       "Exercise                 0.000000               Exercise\n",
       "Glucose_high             0.000000           Glucose_high\n",
       "Age_Binning_Age 25-29    0.000000  Age_Binning_Age 25-29\n",
       "Age_Binning_Age 30-34    0.000000  Age_Binning_Age 30-34\n",
       "Alcohol                  0.000000                Alcohol\n",
       "Age_Binning_Age 45-49    0.000000  Age_Binning_Age 45-49\n",
       "Age_Binning_Age 50-54    0.000000  Age_Binning_Age 50-54"
      ]
     },
     "execution_count": 60,
     "metadata": {},
     "output_type": "execute_result"
    }
   ],
   "source": [
    "# creating a new dataframe to store the features and their respective importance values\n",
    "feature_imp = pd.DataFrame(dt_model.best_estimator_.feature_importances_, index=X_train.columns,\n",
    "columns=['importance']).sort_values('importance', ascending=False)\n",
    "feature_imp['features'] = feature_imp.index\n",
    "feature_imp"
   ]
  },
  {
   "cell_type": "markdown",
   "metadata": {},
   "source": [
    "#### Below feature importance plot shows that the top 5 features that are most helpful in predicting the disease for our dataset are:\n",
    "1) Low Blood Pressure\n",
    "\n",
    "2) High Blood Pressure \n",
    "\n",
    "3) Cholestrol_normal\n",
    "\n",
    "4) Weight\n",
    "\n",
    "5) Age_Binning_Age_40-44\n",
    "\n",
    "- We can see that the Body Mass Index feature that we added in our dataset as part of the feature engineering is also one of the important features helpful in predicting the 'disease' target attribute"
   ]
  },
  {
   "cell_type": "code",
   "execution_count": 61,
   "metadata": {},
   "outputs": [
    {
     "data": {
      "text/plain": [
       "Text(0, 0.5, 'FEATURE NAMES')"
      ]
     },
     "execution_count": 61,
     "metadata": {},
     "output_type": "execute_result"
    },
    {
     "data": {
      "image/png": "[encoded data removed]",
      "text/plain": [
       "<Figure size 720x576 with 1 Axes>"
      ]
     },
     "metadata": {
      "needs_background": "light"
     },
     "output_type": "display_data"
    }
   ],
   "source": [
    "# Plotting Feature Importance graph\n",
    "plt.figure(figsize=(10,8))\n",
    "\n",
    "sns.barplot(x=feature_imp['importance'], y=feature_imp['features'])\n",
    "\n",
    "plt.title('FEATURE IMPORTANCE DT')\n",
    "plt.xlabel('FEATURE IMPORTANCE')\n",
    "plt.ylabel('FEATURE NAMES')"
   ]
  },
  {
   "cell_type": "markdown",
   "metadata": {},
   "source": [
    "## ANN0 - 0 Hidden Layers\n",
    "- We have implemented the Artificial Neural Network model with 0 hidden layers here\n",
    "- The ANN0 model contains an initial sequential layer followed by dense output layer that uses 'sigmoid' as the activation function in order to predict the binary labels for output class.\n",
    "- The input shape is the total number of features present in the training data i.e. 20\n",
    "- We have used the loss function as 'binary_crossentropy', optimizer as 'adam' and metrics as 'accuracy' to implement a deep learning network with no hidden layers\n",
    "- We have used epochs and batch_size for the hyperparameter tuning of the model and have calculated the loss and accuracy for both train and validation data for each epoch\n",
    "- After this, we have printed the classification report for our model on training data, validation data in order to get a sense of how well our model is performing in terms of precision, recall, f1-score and accuracy\n",
    "- We have predicted the target class labels for our testing dataset by using the best fitted model\n",
    "- We have generated an AUC-ROC curve as ANN0 model that predicts the probability of the target class labels"
   ]
  },
  {
   "cell_type": "code",
   "execution_count": 62,
   "metadata": {},
   "outputs": [],
   "source": [
    "# initializing the ANN0 model\n",
    "ann0 = Sequential()\n",
    "ann0.add(Dense(1, activation='sigmoid', input_shape=(20,)))"
   ]
  },
  {
   "cell_type": "markdown",
   "metadata": {},
   "source": [
    "#### Hyper-paramater tuning using GridSearch:\n",
    "- activation: 'sigmoid' function is used in the output layer as this is a binary classification problem\n",
    "- loss: We have used the loss function here as the 'binary_crossentropy' which is a popular loss function for Neural Networks when we are trying to predict a binary output class\n",
    "- optimizer: 'adam' optimizer has been used here. Adam optimization is a stochastic gradient descent method that is based on adaptive estimation of first-order and second-order moments\n",
    "- epochs: This parameter indicates the number of passes of the entire training dataset the neural network model has completed. We have used here 50 epochs to train our model\n",
    "- batch_size: The batch size is fed to the model for a single update to the weights. The batch_size can be any of the below three:\n",
    "                - Batch Gradient Descent. Batch Size = Size of Training Set\n",
    "                - Stochastic Gradient Descent. Batch Size = 1\n",
    "                - Mini-Batch Gradient Descent. 1 < Batch Size < Size of Training Set\n",
    "- Here we have used the mini batch size as 20"
   ]
  },
  {
   "cell_type": "code",
   "execution_count": 63,
   "metadata": {},
   "outputs": [],
   "source": [
    "# Compiling the ANN0 model\n",
    "ann0.compile(loss='binary_crossentropy', optimizer='adam', metrics=['accuracy'])"
   ]
  },
  {
   "cell_type": "code",
   "execution_count": 64,
   "metadata": {},
   "outputs": [
    {
     "name": "stdout",
     "output_type": "stream",
     "text": [
      "Train on 34300 samples, validate on 14700 samples\n",
      "Epoch 1/50\n",
      "34300/34300 [==============================] - 4s 123us/step - loss: 0.6029 - accuracy: 0.6890 - val_loss: 0.5876 - val_accuracy: 0.7031\n",
      "Epoch 2/50\n",
      "34300/34300 [==============================] - 4s 107us/step - loss: 0.5831 - accuracy: 0.7096 - val_loss: 0.5803 - val_accuracy: 0.7102\n",
      "Epoch 3/50\n",
      "34300/34300 [==============================] - 4s 107us/step - loss: 0.5781 - accuracy: 0.7146 - val_loss: 0.5766 - val_accuracy: 0.7131\n",
      "Epoch 4/50\n",
      "34300/34300 [==============================] - 4s 106us/step - loss: 0.5754 - accuracy: 0.7157 - val_loss: 0.5741 - val_accuracy: 0.7139\n",
      "Epoch 5/50\n",
      "34300/34300 [==============================] - 4s 106us/step - loss: 0.5735 - accuracy: 0.7185 - val_loss: 0.5724 - val_accuracy: 0.7165\n",
      "Epoch 6/50\n",
      "34300/34300 [==============================] - 4s 105us/step - loss: 0.5722 - accuracy: 0.7201 - val_loss: 0.5712 - val_accuracy: 0.7163\n",
      "Epoch 7/50\n",
      "34300/34300 [==============================] - 4s 105us/step - loss: 0.5711 - accuracy: 0.7206 - val_loss: 0.5701 - val_accuracy: 0.7173\n",
      "Epoch 8/50\n",
      "34300/34300 [==============================] - 4s 105us/step - loss: 0.5703 - accuracy: 0.7224 - val_loss: 0.5694 - val_accuracy: 0.7182\n",
      "Epoch 9/50\n",
      "34300/34300 [==============================] - 4s 106us/step - loss: 0.5696 - accuracy: 0.7224 - val_loss: 0.5686 - val_accuracy: 0.7180\n",
      "Epoch 10/50\n",
      "34300/34300 [==============================] - 4s 105us/step - loss: 0.5690 - accuracy: 0.7236 - val_loss: 0.5679 - val_accuracy: 0.7197\n",
      "Epoch 11/50\n",
      "34300/34300 [==============================] - 4s 106us/step - loss: 0.5684 - accuracy: 0.7235 - val_loss: 0.5674 - val_accuracy: 0.7206\n",
      "Epoch 12/50\n",
      "34300/34300 [==============================] - 4s 105us/step - loss: 0.5679 - accuracy: 0.7245 - val_loss: 0.5670 - val_accuracy: 0.7215\n",
      "Epoch 13/50\n",
      "34300/34300 [==============================] - 4s 106us/step - loss: 0.5675 - accuracy: 0.7248 - val_loss: 0.5665 - val_accuracy: 0.7227\n",
      "Epoch 14/50\n",
      "34300/34300 [==============================] - 4s 105us/step - loss: 0.5671 - accuracy: 0.7250 - val_loss: 0.5659 - val_accuracy: 0.7235\n",
      "Epoch 15/50\n",
      "34300/34300 [==============================] - 4s 105us/step - loss: 0.5667 - accuracy: 0.7255 - val_loss: 0.5655 - val_accuracy: 0.7238\n",
      "Epoch 16/50\n",
      "34300/34300 [==============================] - 4s 106us/step - loss: 0.5664 - accuracy: 0.7256 - val_loss: 0.5652 - val_accuracy: 0.7239\n",
      "Epoch 17/50\n",
      "34300/34300 [==============================] - 4s 106us/step - loss: 0.5661 - accuracy: 0.7257 - val_loss: 0.5648 - val_accuracy: 0.7239\n",
      "Epoch 18/50\n",
      "34300/34300 [==============================] - 4s 106us/step - loss: 0.5658 - accuracy: 0.7261 - val_loss: 0.5645 - val_accuracy: 0.7248\n",
      "Epoch 19/50\n",
      "34300/34300 [==============================] - 4s 107us/step - loss: 0.5655 - accuracy: 0.7258 - val_loss: 0.5642 - val_accuracy: 0.7248\n",
      "Epoch 20/50\n",
      "34300/34300 [==============================] - 4s 107us/step - loss: 0.5652 - accuracy: 0.7263 - val_loss: 0.5638 - val_accuracy: 0.7250\n",
      "Epoch 21/50\n",
      "34300/34300 [==============================] - 4s 109us/step - loss: 0.5650 - accuracy: 0.7267 - val_loss: 0.5636 - val_accuracy: 0.7250\n",
      "Epoch 22/50\n",
      "34300/34300 [==============================] - 4s 111us/step - loss: 0.5648 - accuracy: 0.7266 - val_loss: 0.5634 - val_accuracy: 0.7254\n",
      "Epoch 23/50\n",
      "34300/34300 [==============================] - 4s 109us/step - loss: 0.5646 - accuracy: 0.7271 - val_loss: 0.5632 - val_accuracy: 0.7254\n",
      "Epoch 24/50\n",
      "34300/34300 [==============================] - 4s 109us/step - loss: 0.5644 - accuracy: 0.7274 - val_loss: 0.5630 - val_accuracy: 0.7263\n",
      "Epoch 25/50\n",
      "34300/34300 [==============================] - 4s 110us/step - loss: 0.5642 - accuracy: 0.7277 - val_loss: 0.5629 - val_accuracy: 0.7267\n",
      "Epoch 26/50\n",
      "34300/34300 [==============================] - 4s 114us/step - loss: 0.5641 - accuracy: 0.7283 - val_loss: 0.5626 - val_accuracy: 0.7265\n",
      "Epoch 27/50\n",
      "34300/34300 [==============================] - 4s 111us/step - loss: 0.5639 - accuracy: 0.7278 - val_loss: 0.5625 - val_accuracy: 0.7267\n",
      "Epoch 28/50\n",
      "34300/34300 [==============================] - 4s 111us/step - loss: 0.5638 - accuracy: 0.7280 - val_loss: 0.5622 - val_accuracy: 0.7267\n",
      "Epoch 29/50\n",
      "34300/34300 [==============================] - 4s 112us/step - loss: 0.5636 - accuracy: 0.7284 - val_loss: 0.5621 - val_accuracy: 0.7272\n",
      "Epoch 30/50\n",
      "34300/34300 [==============================] - 4s 111us/step - loss: 0.5635 - accuracy: 0.7285 - val_loss: 0.5620 - val_accuracy: 0.7272\n",
      "Epoch 31/50\n",
      "34300/34300 [==============================] - 4s 112us/step - loss: 0.5634 - accuracy: 0.7283 - val_loss: 0.5619 - val_accuracy: 0.7281\n",
      "Epoch 32/50\n",
      "34300/34300 [==============================] - 4s 112us/step - loss: 0.5633 - accuracy: 0.7282 - val_loss: 0.5620 - val_accuracy: 0.7274\n",
      "Epoch 33/50\n",
      "34300/34300 [==============================] - 4s 112us/step - loss: 0.5632 - accuracy: 0.7282 - val_loss: 0.5616 - val_accuracy: 0.7288\n",
      "Epoch 34/50\n",
      "34300/34300 [==============================] - 4s 113us/step - loss: 0.5631 - accuracy: 0.7286 - val_loss: 0.5615 - val_accuracy: 0.7293\n",
      "Epoch 35/50\n",
      "34300/34300 [==============================] - 4s 112us/step - loss: 0.5630 - accuracy: 0.7290 - val_loss: 0.5614 - val_accuracy: 0.7295\n",
      "Epoch 36/50\n",
      "34300/34300 [==============================] - 4s 105us/step - loss: 0.5630 - accuracy: 0.7289 - val_loss: 0.5613 - val_accuracy: 0.7302\n",
      "Epoch 37/50\n",
      "34300/34300 [==============================] - 4s 105us/step - loss: 0.5629 - accuracy: 0.7288 - val_loss: 0.5612 - val_accuracy: 0.7303\n",
      "Epoch 38/50\n",
      "34300/34300 [==============================] - 4s 107us/step - loss: 0.5628 - accuracy: 0.7294 - val_loss: 0.5612 - val_accuracy: 0.7298\n",
      "Epoch 39/50\n",
      "34300/34300 [==============================] - 4s 108us/step - loss: 0.5628 - accuracy: 0.7291 - val_loss: 0.5610 - val_accuracy: 0.7303\n",
      "Epoch 40/50\n",
      "34300/34300 [==============================] - 6s 162us/step - loss: 0.5627 - accuracy: 0.7294 - val_loss: 0.5610 - val_accuracy: 0.7305\n",
      "Epoch 41/50\n",
      "34300/34300 [==============================] - 5s 151us/step - loss: 0.5626 - accuracy: 0.7293 - val_loss: 0.5609 - val_accuracy: 0.7306\n",
      "Epoch 42/50\n",
      "34300/34300 [==============================] - 4s 107us/step - loss: 0.5626 - accuracy: 0.7297 - val_loss: 0.5610 - val_accuracy: 0.7295\n",
      "Epoch 43/50\n",
      "34300/34300 [==============================] - 4s 106us/step - loss: 0.5625 - accuracy: 0.7292 - val_loss: 0.5610 - val_accuracy: 0.7293\n",
      "Epoch 44/50\n",
      "34300/34300 [==============================] - 4s 105us/step - loss: 0.5625 - accuracy: 0.7294 - val_loss: 0.5608 - val_accuracy: 0.7301\n",
      "Epoch 45/50\n",
      "34300/34300 [==============================] - 4s 105us/step - loss: 0.5624 - accuracy: 0.7297 - val_loss: 0.5608 - val_accuracy: 0.7302\n",
      "Epoch 46/50\n",
      "34300/34300 [==============================] - 5s 144us/step - loss: 0.5624 - accuracy: 0.7297 - val_loss: 0.5609 - val_accuracy: 0.7298\n",
      "Epoch 47/50\n",
      "34300/34300 [==============================] - 4s 126us/step - loss: 0.5624 - accuracy: 0.7299 - val_loss: 0.5605 - val_accuracy: 0.7305\n",
      "Epoch 48/50\n",
      "34300/34300 [==============================] - 4s 107us/step - loss: 0.5623 - accuracy: 0.7289 - val_loss: 0.5605 - val_accuracy: 0.7308\n",
      "Epoch 49/50\n",
      "34300/34300 [==============================] - 4s 122us/step - loss: 0.5623 - accuracy: 0.7296 - val_loss: 0.5605 - val_accuracy: 0.7305\n",
      "Epoch 50/50\n",
      "34300/34300 [==============================] - 4s 106us/step - loss: 0.5622 - accuracy: 0.7296 - val_loss: 0.5607 - val_accuracy: 0.7304\n"
     ]
    },
    {
     "data": {
      "text/plain": [
       "<keras.callbacks.callbacks.History at 0x7fa680c7ab50>"
      ]
     },
     "execution_count": 64,
     "metadata": {},
     "output_type": "execute_result"
    }
   ],
   "source": [
    "# Fitting the ANN0 model\n",
    "ann0.fit(X_train, y_train, epochs=50, batch_size=20, verbose=1,validation_data=(X_test,y_test))"
   ]
  },
  {
   "cell_type": "code",
   "execution_count": 65,
   "metadata": {},
   "outputs": [
    {
     "name": "stdout",
     "output_type": "stream",
     "text": [
      "              precision    recall  f1-score   support\n",
      "\n",
      "           0       0.70      0.79      0.75     17204\n",
      "           1       0.76      0.66      0.71     17096\n",
      "\n",
      "    accuracy                           0.73     34300\n",
      "   macro avg       0.73      0.73      0.73     34300\n",
      "weighted avg       0.73      0.73      0.73     34300\n",
      "\n"
     ]
    }
   ],
   "source": [
    "# Printing classification report for predictions made by model on training dataset\n",
    "print(classification_report(y_true=y_train,y_pred=(ann0.predict(X_train)>0.5).astype(int)))"
   ]
  },
  {
   "cell_type": "code",
   "execution_count": 66,
   "metadata": {},
   "outputs": [
    {
     "name": "stdout",
     "output_type": "stream",
     "text": [
      "              precision    recall  f1-score   support\n",
      "\n",
      "           0       0.70      0.80      0.75      7298\n",
      "           1       0.77      0.66      0.71      7402\n",
      "\n",
      "    accuracy                           0.73     14700\n",
      "   macro avg       0.74      0.73      0.73     14700\n",
      "weighted avg       0.74      0.73      0.73     14700\n",
      "\n"
     ]
    }
   ],
   "source": [
    "# Printing classification report for predictions made by model on validation dataset\n",
    "print(classification_report(y_true=y_test,y_pred=(ann0.predict(X_test)>0.5).astype(int)))"
   ]
  },
  {
   "cell_type": "code",
   "execution_count": 67,
   "metadata": {},
   "outputs": [],
   "source": [
    "# Predicting disease labels for test dataset\n",
    "test_prediction_ann0=(ann0.predict_proba(test_df)>0.5).astype(int)"
   ]
  },
  {
   "cell_type": "markdown",
   "metadata": {},
   "source": [
    "#### Generating the AUC-ROC curve for the ANN0 model\n",
    "- The AUC-ROC score that we get from the graph that we have plotted below tells us that our model is able to distinguish between the patients, if they have a disease or not, 79.3% of the time.\n",
    "- The score is above 50% which means that the model is not just randomly predicting the probability of a patient having the disease"
   ]
  },
  {
   "cell_type": "code",
   "execution_count": 68,
   "metadata": {
    "scrolled": true
   },
   "outputs": [
    {
     "name": "stdout",
     "output_type": "stream",
     "text": [
      "No Skill: ROC AUC=0.500\n",
      "Decision Tree: ROC AUC=0.793\n"
     ]
    },
    {
     "data": {
      "image/png": "[encoded data removed]",
      "text/plain": [
       "<Figure size 576x288 with 1 Axes>"
      ]
     },
     "metadata": {
      "needs_background": "light"
     },
     "output_type": "display_data"
    }
   ],
   "source": [
    "# generating ROC curve for ANN0\n",
    "ROC_AUC_curve_upgraded(model=ann0,model_name=\"ANN0\")"
   ]
  },
  {
   "cell_type": "markdown",
   "metadata": {},
   "source": [
    "## ANN1 - 1 Hidden Layers\n",
    "- We have implemented the Artificial Neural Network model with 1 hidden layers here\n",
    "- The ANN1 model contains an initial sequential layer followed by the dense hidden layer using activation function as 'relu' and 40 nodes followed by dense output layer that uses 'sigmoid' as the activation function in order to predict the binary labels for output class.\n",
    "- The input shape is the total number of features present in the training data i.e. 20\n",
    "- The hidden layer contains 40 nodes of perceptrons\n",
    "- We have used the loss function as 'binary_crossentropy', optimizer as 'adam' and metrics as 'accuracy' to implement a deep learning network with 1 hidden layers\n",
    "- We have used epochs and batch_size for the hyperparameter tuning of the model and have calculated the loss and accuracy for both train and validation data for each epoch\n",
    "- After this, we have printed the classification report for our model on training data, validation data in order to get a sense of how well our model is performing in terms of precision, recall, f1-score and accuracy\n",
    "- We have predicted the target class labels for our testing dataset by using the best fitted model\n",
    "- We have generated an AUC-ROC curve as ANN1 model that predicts the probability of the target class labels"
   ]
  },
  {
   "cell_type": "code",
   "execution_count": 69,
   "metadata": {},
   "outputs": [],
   "source": [
    "# initializing the ANN1 model\n",
    "ann1 = Sequential()\n",
    "ann1.add(Dense(40, activation='relu', input_shape=(20,)))\n",
    "ann1.add(Dense(1, activation='sigmoid', input_shape=(40,)))"
   ]
  },
  {
   "cell_type": "markdown",
   "metadata": {},
   "source": [
    "#### Hyper-paramater tuning using GridSearch:\n",
    "- activation: 'relu' or rectified linear activation function is a piecewise linear function that will output the input directly if it is positive, otherwise, it will output zero. 'Relu' has been used for the hidden layer activation and 'sigmoid' function is used in the output layer as this is a binary classification problem\n",
    "- loss: We have used the loss function here as the 'binary_crossentropy' which is a popular loss function for Neural Networks when we are trying to predict a binary output class\n",
    "- optimizer: 'adam' optimizer has been used here. Adam optimization is a stochastic gradient descent method that is based on adaptive estimation of first-order and second-order moments\n",
    "- epochs: This parameter indicates the number of passes of the entire training dataset the neural network model has completed. We have used here 50 epochs to train our model\n",
    "- batch_size: The batch size is fed to the model for a single update to the weights. The batch_size can be any of the below three:\n",
    "                - Batch Gradient Descent. Batch Size = Size of Training Set\n",
    "                - Stochastic Gradient Descent. Batch Size = 1\n",
    "                - Mini-Batch Gradient Descent. 1 < Batch Size < Size of Training Set\n",
    "- Here we have used the mini batch size as 20"
   ]
  },
  {
   "cell_type": "code",
   "execution_count": 70,
   "metadata": {},
   "outputs": [],
   "source": [
    "# compiling ANN1 model\n",
    "ann1.compile(loss='binary_crossentropy', optimizer='adam', metrics=['accuracy'])"
   ]
  },
  {
   "cell_type": "code",
   "execution_count": 71,
   "metadata": {},
   "outputs": [
    {
     "name": "stdout",
     "output_type": "stream",
     "text": [
      "Train on 34300 samples, validate on 14700 samples\n",
      "Epoch 1/50\n",
      "34300/34300 [==============================] - 5s 145us/step - loss: 0.5721 - accuracy: 0.7139 - val_loss: 0.5626 - val_accuracy: 0.7209\n",
      "Epoch 2/50\n",
      "34300/34300 [==============================] - 4s 124us/step - loss: 0.5569 - accuracy: 0.7253 - val_loss: 0.5555 - val_accuracy: 0.7264\n",
      "Epoch 3/50\n",
      "34300/34300 [==============================] - 5s 153us/step - loss: 0.5517 - accuracy: 0.7288 - val_loss: 0.5512 - val_accuracy: 0.7291\n",
      "Epoch 4/50\n",
      "34300/34300 [==============================] - 5s 147us/step - loss: 0.5477 - accuracy: 0.7315 - val_loss: 0.5485 - val_accuracy: 0.7316\n",
      "Epoch 5/50\n",
      "34300/34300 [==============================] - 4s 130us/step - loss: 0.5449 - accuracy: 0.7331 - val_loss: 0.5461 - val_accuracy: 0.7328\n",
      "Epoch 6/50\n",
      "34300/34300 [==============================] - 4s 123us/step - loss: 0.5429 - accuracy: 0.7361 - val_loss: 0.5446 - val_accuracy: 0.7328\n",
      "Epoch 7/50\n",
      "34300/34300 [==============================] - 4s 124us/step - loss: 0.5413 - accuracy: 0.7358 - val_loss: 0.5442 - val_accuracy: 0.7339\n",
      "Epoch 8/50\n",
      "34300/34300 [==============================] - 5s 145us/step - loss: 0.5401 - accuracy: 0.7369 - val_loss: 0.5432 - val_accuracy: 0.7344\n",
      "Epoch 9/50\n",
      "34300/34300 [==============================] - 5s 146us/step - loss: 0.5391 - accuracy: 0.7362 - val_loss: 0.5424 - val_accuracy: 0.7339\n",
      "Epoch 10/50\n",
      "34300/34300 [==============================] - 5s 136us/step - loss: 0.5386 - accuracy: 0.7376 - val_loss: 0.5421 - val_accuracy: 0.7346\n",
      "Epoch 11/50\n",
      "34300/34300 [==============================] - 5s 146us/step - loss: 0.5377 - accuracy: 0.7372 - val_loss: 0.5411 - val_accuracy: 0.7336\n",
      "Epoch 12/50\n",
      "34300/34300 [==============================] - 5s 143us/step - loss: 0.5375 - accuracy: 0.7383 - val_loss: 0.5406 - val_accuracy: 0.7355\n",
      "Epoch 13/50\n",
      "34300/34300 [==============================] - 4s 126us/step - loss: 0.5370 - accuracy: 0.7379 - val_loss: 0.5409 - val_accuracy: 0.7346\n",
      "Epoch 14/50\n",
      "34300/34300 [==============================] - 5s 142us/step - loss: 0.5367 - accuracy: 0.7370 - val_loss: 0.5406 - val_accuracy: 0.7352\n",
      "Epoch 15/50\n",
      "34300/34300 [==============================] - 5s 150us/step - loss: 0.5363 - accuracy: 0.7376 - val_loss: 0.5408 - val_accuracy: 0.7352\n",
      "Epoch 16/50\n",
      "34300/34300 [==============================] - 5s 142us/step - loss: 0.5360 - accuracy: 0.7382 - val_loss: 0.5419 - val_accuracy: 0.7326\n",
      "Epoch 17/50\n",
      "34300/34300 [==============================] - 5s 136us/step - loss: 0.5356 - accuracy: 0.7384 - val_loss: 0.5403 - val_accuracy: 0.7365\n",
      "Epoch 18/50\n",
      "34300/34300 [==============================] - 4s 129us/step - loss: 0.5355 - accuracy: 0.7383 - val_loss: 0.5409 - val_accuracy: 0.7357\n",
      "Epoch 19/50\n",
      "34300/34300 [==============================] - 5s 144us/step - loss: 0.5353 - accuracy: 0.7380 - val_loss: 0.5409 - val_accuracy: 0.7346\n",
      "Epoch 20/50\n",
      "34300/34300 [==============================] - 4s 129us/step - loss: 0.5351 - accuracy: 0.7382 - val_loss: 0.5404 - val_accuracy: 0.7336\n",
      "Epoch 21/50\n",
      "34300/34300 [==============================] - 5s 150us/step - loss: 0.5350 - accuracy: 0.7387 - val_loss: 0.5402 - val_accuracy: 0.7349\n",
      "Epoch 22/50\n",
      "34300/34300 [==============================] - 5s 135us/step - loss: 0.5348 - accuracy: 0.7384 - val_loss: 0.5406 - val_accuracy: 0.7339\n",
      "Epoch 23/50\n",
      "34300/34300 [==============================] - 5s 155us/step - loss: 0.5348 - accuracy: 0.7378 - val_loss: 0.5410 - val_accuracy: 0.7329\n",
      "Epoch 24/50\n",
      "34300/34300 [==============================] - 5s 157us/step - loss: 0.5347 - accuracy: 0.7380 - val_loss: 0.5404 - val_accuracy: 0.7335\n",
      "Epoch 25/50\n",
      "34300/34300 [==============================] - 5s 132us/step - loss: 0.5343 - accuracy: 0.7379 - val_loss: 0.5416 - val_accuracy: 0.7331\n",
      "Epoch 26/50\n",
      "34300/34300 [==============================] - 5s 133us/step - loss: 0.5343 - accuracy: 0.7387 - val_loss: 0.5399 - val_accuracy: 0.7346\n",
      "Epoch 27/50\n",
      "34300/34300 [==============================] - 4s 130us/step - loss: 0.5340 - accuracy: 0.7383 - val_loss: 0.5412 - val_accuracy: 0.7333\n",
      "Epoch 28/50\n",
      "34300/34300 [==============================] - 5s 138us/step - loss: 0.5339 - accuracy: 0.7390 - val_loss: 0.5414 - val_accuracy: 0.7341\n",
      "Epoch 29/50\n",
      "34300/34300 [==============================] - 5s 138us/step - loss: 0.5339 - accuracy: 0.7382 - val_loss: 0.5405 - val_accuracy: 0.7340\n",
      "Epoch 30/50\n",
      "34300/34300 [==============================] - 5s 134us/step - loss: 0.5337 - accuracy: 0.7390 - val_loss: 0.5412 - val_accuracy: 0.7341\n",
      "Epoch 31/50\n",
      "34300/34300 [==============================] - 6s 176us/step - loss: 0.5336 - accuracy: 0.7387 - val_loss: 0.5411 - val_accuracy: 0.7334\n",
      "Epoch 32/50\n",
      "34300/34300 [==============================] - 4s 123us/step - loss: 0.5335 - accuracy: 0.7386 - val_loss: 0.5403 - val_accuracy: 0.7329\n",
      "Epoch 33/50\n",
      "34300/34300 [==============================] - 4s 122us/step - loss: 0.5334 - accuracy: 0.7393 - val_loss: 0.5412 - val_accuracy: 0.7353\n",
      "Epoch 34/50\n",
      "34300/34300 [==============================] - 4s 122us/step - loss: 0.5334 - accuracy: 0.7384 - val_loss: 0.5432 - val_accuracy: 0.7318\n",
      "Epoch 35/50\n",
      "34300/34300 [==============================] - 4s 122us/step - loss: 0.5333 - accuracy: 0.7401 - val_loss: 0.5408 - val_accuracy: 0.7329\n",
      "Epoch 36/50\n",
      "34300/34300 [==============================] - 4s 122us/step - loss: 0.5333 - accuracy: 0.7394 - val_loss: 0.5408 - val_accuracy: 0.7331\n",
      "Epoch 37/50\n",
      "34300/34300 [==============================] - 4s 122us/step - loss: 0.5331 - accuracy: 0.7398 - val_loss: 0.5410 - val_accuracy: 0.7347\n",
      "Epoch 38/50\n",
      "34300/34300 [==============================] - 4s 122us/step - loss: 0.5330 - accuracy: 0.7392 - val_loss: 0.5411 - val_accuracy: 0.7328\n",
      "Epoch 39/50\n",
      "34300/34300 [==============================] - 4s 122us/step - loss: 0.5331 - accuracy: 0.7399 - val_loss: 0.5406 - val_accuracy: 0.7339\n",
      "Epoch 40/50\n",
      "34300/34300 [==============================] - 4s 121us/step - loss: 0.5328 - accuracy: 0.7384 - val_loss: 0.5403 - val_accuracy: 0.7357\n",
      "Epoch 41/50\n",
      "34300/34300 [==============================] - 4s 121us/step - loss: 0.5328 - accuracy: 0.7396 - val_loss: 0.5410 - val_accuracy: 0.7324\n",
      "Epoch 42/50\n",
      "34300/34300 [==============================] - 4s 122us/step - loss: 0.5328 - accuracy: 0.7390 - val_loss: 0.5406 - val_accuracy: 0.7354\n",
      "Epoch 43/50\n",
      "34300/34300 [==============================] - 4s 121us/step - loss: 0.5326 - accuracy: 0.7396 - val_loss: 0.5398 - val_accuracy: 0.7358\n",
      "Epoch 44/50\n",
      "34300/34300 [==============================] - 4s 126us/step - loss: 0.5326 - accuracy: 0.7400 - val_loss: 0.5402 - val_accuracy: 0.7354\n",
      "Epoch 45/50\n",
      "34300/34300 [==============================] - 4s 123us/step - loss: 0.5323 - accuracy: 0.7407 - val_loss: 0.5410 - val_accuracy: 0.7337\n",
      "Epoch 46/50\n",
      "34300/34300 [==============================] - 4s 123us/step - loss: 0.5324 - accuracy: 0.7403 - val_loss: 0.5408 - val_accuracy: 0.7315\n",
      "Epoch 47/50\n",
      "34300/34300 [==============================] - 4s 122us/step - loss: 0.5323 - accuracy: 0.7388 - val_loss: 0.5401 - val_accuracy: 0.7334\n",
      "Epoch 48/50\n",
      "34300/34300 [==============================] - 4s 122us/step - loss: 0.5321 - accuracy: 0.7405 - val_loss: 0.5408 - val_accuracy: 0.7340\n",
      "Epoch 49/50\n",
      "34300/34300 [==============================] - 4s 122us/step - loss: 0.5322 - accuracy: 0.7396 - val_loss: 0.5406 - val_accuracy: 0.7346\n",
      "Epoch 50/50\n",
      "34300/34300 [==============================] - 4s 122us/step - loss: 0.5322 - accuracy: 0.7404 - val_loss: 0.5406 - val_accuracy: 0.7341\n"
     ]
    },
    {
     "data": {
      "text/plain": [
       "<keras.callbacks.callbacks.History at 0x7fa69ce43090>"
      ]
     },
     "execution_count": 71,
     "metadata": {},
     "output_type": "execute_result"
    }
   ],
   "source": [
    "# fitting ANN1 model\n",
    "ann1.fit(X_train, y_train, epochs=50, batch_size=20, verbose=1,validation_data=(X_test,y_test))"
   ]
  },
  {
   "cell_type": "code",
   "execution_count": 72,
   "metadata": {},
   "outputs": [
    {
     "name": "stdout",
     "output_type": "stream",
     "text": [
      "              precision    recall  f1-score   support\n",
      "\n",
      "           0       0.72      0.78      0.75     17204\n",
      "           1       0.76      0.70      0.73     17096\n",
      "\n",
      "    accuracy                           0.74     34300\n",
      "   macro avg       0.74      0.74      0.74     34300\n",
      "weighted avg       0.74      0.74      0.74     34300\n",
      "\n"
     ]
    }
   ],
   "source": [
    "# Printing classification report for predictions made by model on training dataset\n",
    "print(classification_report(y_true=y_train,y_pred=(ann1.predict(X_train)>0.5).astype(int)))"
   ]
  },
  {
   "cell_type": "code",
   "execution_count": 73,
   "metadata": {},
   "outputs": [
    {
     "name": "stdout",
     "output_type": "stream",
     "text": [
      "              precision    recall  f1-score   support\n",
      "\n",
      "           0       0.71      0.78      0.75      7298\n",
      "           1       0.76      0.69      0.72      7402\n",
      "\n",
      "    accuracy                           0.73     14700\n",
      "   macro avg       0.74      0.73      0.73     14700\n",
      "weighted avg       0.74      0.73      0.73     14700\n",
      "\n"
     ]
    }
   ],
   "source": [
    "# Printing classification report for predictions made by model on validation dataset\n",
    "print(classification_report(y_true=y_test,y_pred=(ann1.predict(X_test)>0.5).astype(int)))"
   ]
  },
  {
   "cell_type": "code",
   "execution_count": 74,
   "metadata": {},
   "outputs": [],
   "source": [
    "# Predicting disease labels for test dataset\n",
    "test_prediction_ann1=(ann1.predict_proba(test_df)>0.5).astype(int)"
   ]
  },
  {
   "cell_type": "markdown",
   "metadata": {},
   "source": [
    "#### Generating the AUC-ROC curve for the ANN1 model\n",
    "- The AUC-ROC score that we get from the graph that we have plotted below tells us that our model is able to distinguish between the patients, if they have a disease or not, 80.2% of the time.\n",
    "- The score is above 50% which means that the model is not just randomly predicting the probability of a patient having the disease"
   ]
  },
  {
   "cell_type": "code",
   "execution_count": 75,
   "metadata": {},
   "outputs": [
    {
     "name": "stdout",
     "output_type": "stream",
     "text": [
      "No Skill: ROC AUC=0.500\n",
      "Decision Tree: ROC AUC=0.802\n"
     ]
    },
    {
     "data": {
      "image/png": "[encoded data removed]",
      "text/plain": [
       "<Figure size 576x288 with 1 Axes>"
      ]
     },
     "metadata": {
      "needs_background": "light"
     },
     "output_type": "display_data"
    }
   ],
   "source": [
    "# generating ROC curve for ANN1 model\n",
    "ROC_AUC_curve_upgraded(model=ann1,model_name=\"ANN1\")"
   ]
  },
  {
   "cell_type": "markdown",
   "metadata": {},
   "source": [
    "## ANN2 - 2 Hidden Layers\n",
    "- We have implemented the Artificial Neural Network model with 12 hidden layers here\n",
    "- The ANN2 model contains an initial sequential layer followed by the dense hidden layer using activation function as 'relu' and 40 nodes followed by another hidden layer with 10 nodes and 'relu' activation and finally a dense output layer that uses 'sigmoid' as the activation function in order to predict the binary labels for output class.\n",
    "- The input shape is the total number of features present in the training data i.e. 20\n",
    "- The 1st hidden layer contains 40 nodes of perceptrons\n",
    "- The 2nd hidden layer contains 10 nodes\n",
    "- We have used the loss function as 'binary_crossentropy', optimizer as 'adam' and metrics as 'accuracy' to implement a deep learning network with 2 hidden layers\n",
    "- We have used epochs and batch_size for the hyperparameter tuning of the model and have calculated the loss and accuracy for both train and validation data for each epoch\n",
    "- After this, we have printed the classification report for our model on training data, validation data in order to get a sense of how well our model is performing in terms of precision, recall, f1-score and accuracy\n",
    "- We have predicted the target class labels for our testing dataset by using the best fitted model\n",
    "- We have generated an AUC-ROC curve as ANN2 model that predicts the probability of the target class labels"
   ]
  },
  {
   "cell_type": "code",
   "execution_count": 76,
   "metadata": {},
   "outputs": [],
   "source": [
    "# initializing the ANN2 model\n",
    "ann2 = Sequential()\n",
    "ann2.add(Dense(40, activation='relu', input_shape=(20,)))\n",
    "ann2.add(Dense(10, activation='relu', input_shape=(40,)))\n",
    "ann2.add(Dense(1, activation='sigmoid', input_shape=(10,)))"
   ]
  },
  {
   "cell_type": "markdown",
   "metadata": {},
   "source": [
    "#### Hyper-paramater tuning using GridSearch:\n",
    "- activation: 'relu' or rectified linear activation function is a piecewise linear function that will output the input directly if it is positive, otherwise, it will output zero. 'Relu' has been used for the first two hidden layers as the activation function and 'sigmoid' function is used in the output layer as this is a binary classification problem\n",
    "- loss: We have used the loss function here as the 'binary_crossentropy' which is a popular loss function for Neural Networks when we are trying to predict a binary output class\n",
    "- optimizer: 'adam' optimizer has been used here. Adam optimization is a stochastic gradient descent method that is based on adaptive estimation of first-order and second-order moments\n",
    "- epochs: This parameter indicates the number of passes of the entire training dataset the neural network model has completed. We have used here 50 epochs to train our model\n",
    "- batch_size: The batch size is fed to the model for a single update to the weights. The batch_size can be any of the below three:\n",
    "                - Batch Gradient Descent. Batch Size = Size of Training Set\n",
    "                - Stochastic Gradient Descent. Batch Size = 1\n",
    "                - Mini-Batch Gradient Descent. 1 < Batch Size < Size of Training Set\n",
    "- Here we have used the mini batch size as 20"
   ]
  },
  {
   "cell_type": "code",
   "execution_count": 77,
   "metadata": {},
   "outputs": [],
   "source": [
    "# compiling the ANN2 model\n",
    "ann2.compile(loss='binary_crossentropy', optimizer='adam', metrics=['accuracy'])"
   ]
  },
  {
   "cell_type": "code",
   "execution_count": 78,
   "metadata": {},
   "outputs": [
    {
     "name": "stdout",
     "output_type": "stream",
     "text": [
      "Train on 34300 samples, validate on 14700 samples\n",
      "Epoch 1/50\n",
      "34300/34300 [==============================] - 6s 180us/step - loss: 0.5671 - accuracy: 0.7151 - val_loss: 0.5562 - val_accuracy: 0.7203\n",
      "Epoch 2/50\n",
      "34300/34300 [==============================] - 7s 199us/step - loss: 0.5508 - accuracy: 0.7275 - val_loss: 0.5504 - val_accuracy: 0.7257\n",
      "Epoch 3/50\n",
      "34300/34300 [==============================] - 6s 165us/step - loss: 0.5460 - accuracy: 0.7301 - val_loss: 0.5478 - val_accuracy: 0.7286\n",
      "Epoch 4/50\n",
      "34300/34300 [==============================] - 5s 160us/step - loss: 0.5430 - accuracy: 0.7331 - val_loss: 0.5461 - val_accuracy: 0.7289\n",
      "Epoch 5/50\n",
      "34300/34300 [==============================] - 6s 166us/step - loss: 0.5408 - accuracy: 0.7354 - val_loss: 0.5449 - val_accuracy: 0.7301\n",
      "Epoch 6/50\n",
      "34300/34300 [==============================] - 5s 135us/step - loss: 0.5394 - accuracy: 0.7348 - val_loss: 0.5437 - val_accuracy: 0.7318\n",
      "Epoch 7/50\n",
      "34300/34300 [==============================] - 5s 135us/step - loss: 0.5383 - accuracy: 0.7361 - val_loss: 0.5455 - val_accuracy: 0.7309\n",
      "Epoch 8/50\n",
      "34300/34300 [==============================] - 5s 135us/step - loss: 0.5376 - accuracy: 0.7366 - val_loss: 0.5443 - val_accuracy: 0.7320\n",
      "Epoch 9/50\n",
      "34300/34300 [==============================] - 5s 136us/step - loss: 0.5371 - accuracy: 0.7373 - val_loss: 0.5435 - val_accuracy: 0.7329\n",
      "Epoch 10/50\n",
      "34300/34300 [==============================] - 5s 136us/step - loss: 0.5366 - accuracy: 0.7385 - val_loss: 0.5426 - val_accuracy: 0.7331\n",
      "Epoch 11/50\n",
      "34300/34300 [==============================] - 5s 135us/step - loss: 0.5361 - accuracy: 0.7379 - val_loss: 0.5425 - val_accuracy: 0.7320\n",
      "Epoch 12/50\n",
      "34300/34300 [==============================] - 5s 136us/step - loss: 0.5357 - accuracy: 0.7374 - val_loss: 0.5426 - val_accuracy: 0.7322\n",
      "Epoch 13/50\n",
      "34300/34300 [==============================] - 5s 155us/step - loss: 0.5354 - accuracy: 0.7386 - val_loss: 0.5425 - val_accuracy: 0.7321\n",
      "Epoch 14/50\n",
      "34300/34300 [==============================] - 5s 146us/step - loss: 0.5351 - accuracy: 0.7388 - val_loss: 0.5419 - val_accuracy: 0.7340\n",
      "Epoch 15/50\n",
      "34300/34300 [==============================] - 5s 160us/step - loss: 0.5347 - accuracy: 0.7396 - val_loss: 0.5438 - val_accuracy: 0.7320\n",
      "Epoch 16/50\n",
      "34300/34300 [==============================] - 6s 169us/step - loss: 0.5346 - accuracy: 0.7395 - val_loss: 0.5422 - val_accuracy: 0.7334\n",
      "Epoch 17/50\n",
      "34300/34300 [==============================] - 5s 159us/step - loss: 0.5343 - accuracy: 0.7389 - val_loss: 0.5422 - val_accuracy: 0.7336\n",
      "Epoch 18/50\n",
      "34300/34300 [==============================] - 6s 169us/step - loss: 0.5340 - accuracy: 0.7391 - val_loss: 0.5419 - val_accuracy: 0.7316\n",
      "Epoch 19/50\n",
      "34300/34300 [==============================] - 5s 136us/step - loss: 0.5334 - accuracy: 0.7400 - val_loss: 0.5425 - val_accuracy: 0.7314\n",
      "Epoch 20/50\n",
      "34300/34300 [==============================] - 7s 218us/step - loss: 0.5336 - accuracy: 0.7388 - val_loss: 0.5448 - val_accuracy: 0.7307\n",
      "Epoch 21/50\n",
      "34300/34300 [==============================] - 5s 154us/step - loss: 0.5336 - accuracy: 0.7395 - val_loss: 0.5431 - val_accuracy: 0.7333\n",
      "Epoch 22/50\n",
      "34300/34300 [==============================] - 5s 145us/step - loss: 0.5329 - accuracy: 0.7393 - val_loss: 0.5431 - val_accuracy: 0.7307\n",
      "Epoch 23/50\n",
      "34300/34300 [==============================] - 5s 153us/step - loss: 0.5330 - accuracy: 0.7404 - val_loss: 0.5423 - val_accuracy: 0.7335\n",
      "Epoch 24/50\n",
      "34300/34300 [==============================] - 5s 156us/step - loss: 0.5327 - accuracy: 0.7403 - val_loss: 0.5418 - val_accuracy: 0.7319\n",
      "Epoch 25/50\n",
      "34300/34300 [==============================] - 4s 131us/step - loss: 0.5326 - accuracy: 0.7401 - val_loss: 0.5445 - val_accuracy: 0.7308\n",
      "Epoch 26/50\n",
      "34300/34300 [==============================] - 10s 304us/step - loss: 0.5324 - accuracy: 0.7402 - val_loss: 0.5439 - val_accuracy: 0.7308\n",
      "Epoch 27/50\n",
      "34300/34300 [==============================] - 5s 133us/step - loss: 0.5323 - accuracy: 0.7405 - val_loss: 0.5427 - val_accuracy: 0.7331\n",
      "Epoch 28/50\n",
      "34300/34300 [==============================] - 4s 128us/step - loss: 0.5319 - accuracy: 0.7417 - val_loss: 0.5431 - val_accuracy: 0.7315\n",
      "Epoch 29/50\n",
      "34300/34300 [==============================] - 5s 145us/step - loss: 0.5319 - accuracy: 0.7406 - val_loss: 0.5418 - val_accuracy: 0.7342\n",
      "Epoch 30/50\n",
      "34300/34300 [==============================] - 6s 161us/step - loss: 0.5319 - accuracy: 0.7407 - val_loss: 0.5424 - val_accuracy: 0.7344\n",
      "Epoch 31/50\n",
      "34300/34300 [==============================] - 8s 234us/step - loss: 0.5318 - accuracy: 0.7414 - val_loss: 0.5424 - val_accuracy: 0.7339\n",
      "Epoch 32/50\n",
      "34300/34300 [==============================] - 5s 135us/step - loss: 0.5316 - accuracy: 0.7414 - val_loss: 0.5428 - val_accuracy: 0.7334\n",
      "Epoch 33/50\n",
      "34300/34300 [==============================] - 5s 137us/step - loss: 0.5309 - accuracy: 0.7409 - val_loss: 0.5434 - val_accuracy: 0.7318\n",
      "Epoch 34/50\n",
      "34300/34300 [==============================] - 5s 135us/step - loss: 0.5311 - accuracy: 0.7412 - val_loss: 0.5429 - val_accuracy: 0.7324\n",
      "Epoch 35/50\n",
      "34300/34300 [==============================] - 5s 135us/step - loss: 0.5312 - accuracy: 0.7409 - val_loss: 0.5426 - val_accuracy: 0.7335\n",
      "Epoch 36/50\n",
      "34300/34300 [==============================] - 7s 200us/step - loss: 0.5308 - accuracy: 0.7426 - val_loss: 0.5428 - val_accuracy: 0.7334\n",
      "Epoch 37/50\n",
      "34300/34300 [==============================] - 4s 131us/step - loss: 0.5309 - accuracy: 0.7410 - val_loss: 0.5428 - val_accuracy: 0.7316\n",
      "Epoch 38/50\n",
      "34300/34300 [==============================] - 5s 134us/step - loss: 0.5306 - accuracy: 0.7431 - val_loss: 0.5434 - val_accuracy: 0.7321\n",
      "Epoch 39/50\n",
      "34300/34300 [==============================] - 4s 129us/step - loss: 0.5306 - accuracy: 0.7418 - val_loss: 0.5428 - val_accuracy: 0.7327\n",
      "Epoch 40/50\n",
      "34300/34300 [==============================] - 5s 144us/step - loss: 0.5305 - accuracy: 0.7403 - val_loss: 0.5443 - val_accuracy: 0.7316\n",
      "Epoch 41/50\n",
      "34300/34300 [==============================] - 4s 130us/step - loss: 0.5304 - accuracy: 0.7417 - val_loss: 0.5433 - val_accuracy: 0.7328\n",
      "Epoch 42/50\n",
      "34300/34300 [==============================] - 4s 130us/step - loss: 0.5301 - accuracy: 0.7410 - val_loss: 0.5433 - val_accuracy: 0.7326\n",
      "Epoch 43/50\n",
      "34300/34300 [==============================] - 4s 130us/step - loss: 0.5303 - accuracy: 0.7406 - val_loss: 0.5422 - val_accuracy: 0.7341\n",
      "Epoch 44/50\n",
      "34300/34300 [==============================] - 4s 130us/step - loss: 0.5301 - accuracy: 0.7421 - val_loss: 0.5431 - val_accuracy: 0.7331\n",
      "Epoch 45/50\n",
      "34300/34300 [==============================] - 4s 131us/step - loss: 0.5301 - accuracy: 0.7416 - val_loss: 0.5436 - val_accuracy: 0.7317\n",
      "Epoch 46/50\n",
      "34300/34300 [==============================] - 4s 129us/step - loss: 0.5301 - accuracy: 0.7417 - val_loss: 0.5430 - val_accuracy: 0.7322\n",
      "Epoch 47/50\n",
      "34300/34300 [==============================] - 4s 130us/step - loss: 0.5298 - accuracy: 0.7417 - val_loss: 0.5435 - val_accuracy: 0.7321\n",
      "Epoch 48/50\n",
      "34300/34300 [==============================] - 4s 131us/step - loss: 0.5297 - accuracy: 0.7430 - val_loss: 0.5440 - val_accuracy: 0.7325\n",
      "Epoch 49/50\n",
      "34300/34300 [==============================] - 4s 130us/step - loss: 0.5296 - accuracy: 0.7415 - val_loss: 0.5447 - val_accuracy: 0.7320\n",
      "Epoch 50/50\n",
      "34300/34300 [==============================] - 5s 131us/step - loss: 0.5295 - accuracy: 0.7421 - val_loss: 0.5429 - val_accuracy: 0.7316\n"
     ]
    },
    {
     "data": {
      "text/plain": [
       "<keras.callbacks.callbacks.History at 0x7fa64e92cdd0>"
      ]
     },
     "execution_count": 78,
     "metadata": {},
     "output_type": "execute_result"
    }
   ],
   "source": [
    "# fitting the ANN2 model\n",
    "ann2.fit(X_train, y_train, epochs=50, batch_size=20, verbose=1,validation_data=(X_test,y_test))"
   ]
  },
  {
   "cell_type": "code",
   "execution_count": 79,
   "metadata": {},
   "outputs": [
    {
     "name": "stdout",
     "output_type": "stream",
     "text": [
      "              precision    recall  f1-score   support\n",
      "\n",
      "           0       0.73      0.79      0.76     17204\n",
      "           1       0.77      0.70      0.73     17096\n",
      "\n",
      "    accuracy                           0.74     34300\n",
      "   macro avg       0.75      0.74      0.74     34300\n",
      "weighted avg       0.75      0.74      0.74     34300\n",
      "\n"
     ]
    }
   ],
   "source": [
    "# Printing classification report for predictions made by model on training dataset\n",
    "print(classification_report(y_true=y_train,y_pred=(ann2.predict(X_train)>0.5).astype(int)))"
   ]
  },
  {
   "cell_type": "code",
   "execution_count": 80,
   "metadata": {},
   "outputs": [
    {
     "name": "stdout",
     "output_type": "stream",
     "text": [
      "              precision    recall  f1-score   support\n",
      "\n",
      "           0       0.71      0.78      0.74      7298\n",
      "           1       0.76      0.68      0.72      7402\n",
      "\n",
      "    accuracy                           0.73     14700\n",
      "   macro avg       0.73      0.73      0.73     14700\n",
      "weighted avg       0.73      0.73      0.73     14700\n",
      "\n"
     ]
    }
   ],
   "source": [
    "# Printing classification report for predictions made by model on validation dataset\n",
    "print(classification_report(y_true=y_test,y_pred=(ann2.predict(X_test)>0.5).astype(int)))"
   ]
  },
  {
   "cell_type": "code",
   "execution_count": 81,
   "metadata": {},
   "outputs": [],
   "source": [
    "# Predicting disease labels for test dataset\n",
    "test_prediction_ann2=(ann2.predict_proba(test_df)>0.5).astype(int)"
   ]
  },
  {
   "cell_type": "markdown",
   "metadata": {},
   "source": [
    "#### Generating the AUC-ROC curve for the ANN2 model\n",
    "- The AUC-ROC score that we get from the graph that we have plotted below tells us that our model is able to distinguish between the patients, if they have a disease or not, 80% of the time.\n",
    "- The score is above 50% which means that the model is not just randomly predicting the probability of a patient having the disease"
   ]
  },
  {
   "cell_type": "code",
   "execution_count": 82,
   "metadata": {},
   "outputs": [
    {
     "name": "stdout",
     "output_type": "stream",
     "text": [
      "No Skill: ROC AUC=0.500\n",
      "Decision Tree: ROC AUC=0.800\n"
     ]
    },
    {
     "data": {
      "image/png": "[encoded data removed]",
      "text/plain": [
       "<Figure size 576x288 with 1 Axes>"
      ]
     },
     "metadata": {
      "needs_background": "light"
     },
     "output_type": "display_data"
    }
   ],
   "source": [
    "ROC_AUC_curve_upgraded(model=ann2,model_name=\"ANN2\")"
   ]
  },
  {
   "cell_type": "markdown",
   "metadata": {},
   "source": [
    "## Conclusion: Prediction and Interpretation\n",
    "- Below, we have summarized the results for all the 11 machine learning models that we have implemented for the Disease prediction problem in HW4 and HW3 altogether\n",
    "\n",
    "- The below table contains names of all the algorithms that we have implemented, their evaluation metric - Recall scores along with AUC,Accuracy, Time taken to run the model and the best hyper-parameters for each of the model obtained through the Grid Search\n",
    "\n",
    "- From the summary table we can conclude: Logistic Regression, Linear SVM and ANN0 can be seen to be very close to each other in terms of similar validation accuracy. The results are close due to the fact that all of them use a linear boundary to separate the classes\n",
    "\n",
    "- For ANN models, increasing the number of hidden layers initially led to an increase in Recall but then after sometime led to a decrease in Recall\n",
    "\n",
    "- For ANN models, increasing the number of hidden layers also led to an increase in the training accuracy but the validation accuracy did not increase after one point. This was a sign of overfitting on the training dataset\n",
    "\n",
    "- Logistic Regression and Decision Tree models have a higher Recall as compared to most of the other models. Logistic Regression and Linear SVM have performed extremely well indicating that a linear decision boundary is really helpful and can be used to separate the binary output classes\n",
    "\n",
    "- We can infer from the below table that SVM-Linear model is by far the best model to predict the disease target labels. SVM model has the highest recall score (79%). This means that a linear decision boundary could be really helpful for our dataset as we are trying to predict whether a patient has the disease or not by separting target attribute into two classes 0/1\n",
    "\n",
    "- We can also infer that the ANN1 model has the highest Area Under the Receiver Operating Characteristic curve (80.2%) and the highest Accuracy as well (73%). This means that ANN1 model is also performing very well and is able to distinguish if a person has a disease or not almost 80% of the times\n",
    "\n",
    "- We have used the evaluation metric as Recall for predicting the disease target label. We have selected Recall as the evaluation metric because it is very important for our models to correctly predict the patients with disease when they actually have the disease. We need to lower the number of 'false-negatives' in our predictions\n",
    "\n",
    "- We can also see that all of our models have a close training and test accuracy scores. This means that our models are not prone to overfitting and they have generalized quite well on the data. One of the reasons behind this could be that training and testing datasets have a similar distribution.\n",
    "\n",
    "- Below, we have also created a summary table indicating the top 5 most important features helpful in predicting disease according to the DT, RF and GBM models and the top 5 coefficients from the LR model. Results indicate that High Blood Pressure is one of the most important indicators of disease"
   ]
  },
  {
   "cell_type": "code",
   "execution_count": 83,
   "metadata": {},
   "outputs": [],
   "source": [
    "# Creating a summary table for the model names, their recall, auc, accuracy scores, time taken to run the model and their best hyper parameters\n",
    "best_models = pd.DataFrame({\"Algorithm\":[\"NBC\",\"KNN\",\"SVM-Linear\",\"SVM-RBF\",\"RF\",\"GBM\",\"DT\",\"LR\",\"ANN0\",\"ANN1\",\"ANN2\" ], \"Recall\":[71,73,79,61,76,73,75,76,66,69,68],\n",
    "                            \"AUC\":[74.3,76.2,'-','-',79.9,78.8,75.2,79.4,79.3,80.2,80], 'Accuracy':[69,72,73,64,73,72,70,73,73,73,73],\n",
    "                            'Ball-park estimate of Time taken to run model(mins)':[2,24,4,30,50,480,2.10,16.90,3.33,4.16,5],\n",
    "                            \"Best Hyper-parameters\":[\"var_smoothing:0.001\",\n",
    "                                                     \"algorithm:brute,n_neighbors:50,p:2,weights:distance\",\n",
    "                                                     \"C:0.8,loss:hinge,penalty:l2\",\n",
    "                                                     \"C: 0.01,gamma: 1\",\n",
    "                                               \"max_depth:100,max_features:auto,min_samples_leaf:10,min_samples_split:100,n_estimators:100\",\n",
    "                                               \"max_depth:50,max_features:sqrt,min_samples_leaf:10,min_samples_split:200,n_estimators:100,subsample:0.8\",\n",
    "                                                     \"C:5, penalty:l1\",\n",
    "                                                     \"criterion:gini,max_depth:10,max_features:auto,max_leaf_nodes:40,min_samples_leaf:20,min_samples_split:200\",\n",
    "                                                    \"epochs:50,batch_size:20,loss_function:binary_crossentrpy,optimizer:adam\",\n",
    "                                                    \"epochs:50,batch_size:20,loss_function:binary_crossentrpy,optimizer:adam\",\n",
    "                                                    \"epochs:50,batch_size:20,loss_function:binary_crossentrpy,optimizer:adam\"]})"
   ]
  },
  {
   "cell_type": "code",
   "execution_count": 84,
   "metadata": {},
   "outputs": [
    {
     "data": {
      "text/html": [
       "<div>\n",
       "<style scoped>\n",
       "    .dataframe tbody tr th:only-of-type {\n",
       "        vertical-align: middle;\n",
       "    }\n",
       "\n",
       "    .dataframe tbody tr th {\n",
       "        vertical-align: top;\n",
       "    }\n",
       "\n",
       "    .dataframe thead th {\n",
       "        text-align: right;\n",
       "    }\n",
       "</style>\n",
       "<table border=\"1\" class=\"dataframe\">\n",
       "  <thead>\n",
       "    <tr style=\"text-align: right;\">\n",
       "      <th></th>\n",
       "      <th>Algorithm</th>\n",
       "      <th>Recall</th>\n",
       "      <th>AUC</th>\n",
       "      <th>Accuracy</th>\n",
       "      <th>Ball-park estimate of Time taken to run model(mins)</th>\n",
       "      <th>Best Hyper-parameters</th>\n",
       "    </tr>\n",
       "  </thead>\n",
       "  <tbody>\n",
       "    <tr>\n",
       "      <th>2</th>\n",
       "      <td>SVM-Linear</td>\n",
       "      <td>79</td>\n",
       "      <td>-</td>\n",
       "      <td>73</td>\n",
       "      <td>4.00</td>\n",
       "      <td>C:0.8,loss:hinge,penalty:l2</td>\n",
       "    </tr>\n",
       "    <tr>\n",
       "      <th>4</th>\n",
       "      <td>RF</td>\n",
       "      <td>76</td>\n",
       "      <td>79.9</td>\n",
       "      <td>73</td>\n",
       "      <td>50.00</td>\n",
       "      <td>max_depth:100,max_features:auto,min_samples_le...</td>\n",
       "    </tr>\n",
       "    <tr>\n",
       "      <th>7</th>\n",
       "      <td>LR</td>\n",
       "      <td>76</td>\n",
       "      <td>79.4</td>\n",
       "      <td>73</td>\n",
       "      <td>11.30</td>\n",
       "      <td>criterion:gini,max_depth:10,max_features:auto,...</td>\n",
       "    </tr>\n",
       "    <tr>\n",
       "      <th>6</th>\n",
       "      <td>DT</td>\n",
       "      <td>75</td>\n",
       "      <td>75.2</td>\n",
       "      <td>70</td>\n",
       "      <td>2.60</td>\n",
       "      <td>C:5, penalty:l1</td>\n",
       "    </tr>\n",
       "    <tr>\n",
       "      <th>1</th>\n",
       "      <td>KNN</td>\n",
       "      <td>73</td>\n",
       "      <td>76.2</td>\n",
       "      <td>72</td>\n",
       "      <td>24.00</td>\n",
       "      <td>algorithm:brute,n_neighbors:50,p:2,weights:dis...</td>\n",
       "    </tr>\n",
       "    <tr>\n",
       "      <th>5</th>\n",
       "      <td>GBM</td>\n",
       "      <td>73</td>\n",
       "      <td>78.8</td>\n",
       "      <td>72</td>\n",
       "      <td>480.00</td>\n",
       "      <td>max_depth:50,max_features:sqrt,min_samples_lea...</td>\n",
       "    </tr>\n",
       "    <tr>\n",
       "      <th>0</th>\n",
       "      <td>NBC</td>\n",
       "      <td>71</td>\n",
       "      <td>74.3</td>\n",
       "      <td>69</td>\n",
       "      <td>2.00</td>\n",
       "      <td>var_smoothing:0.001</td>\n",
       "    </tr>\n",
       "    <tr>\n",
       "      <th>9</th>\n",
       "      <td>ANN1</td>\n",
       "      <td>69</td>\n",
       "      <td>80.2</td>\n",
       "      <td>73</td>\n",
       "      <td>4.16</td>\n",
       "      <td>epochs:50,batch_size:20,loss_function:binary_c...</td>\n",
       "    </tr>\n",
       "    <tr>\n",
       "      <th>10</th>\n",
       "      <td>ANN2</td>\n",
       "      <td>68</td>\n",
       "      <td>80</td>\n",
       "      <td>73</td>\n",
       "      <td>5.00</td>\n",
       "      <td>epochs:50,batch_size:20,loss_function:binary_c...</td>\n",
       "    </tr>\n",
       "    <tr>\n",
       "      <th>8</th>\n",
       "      <td>ANN0</td>\n",
       "      <td>66</td>\n",
       "      <td>79.3</td>\n",
       "      <td>73</td>\n",
       "      <td>3.33</td>\n",
       "      <td>epochs:50,batch_size:20,loss_function:binary_c...</td>\n",
       "    </tr>\n",
       "    <tr>\n",
       "      <th>3</th>\n",
       "      <td>SVM-RBF</td>\n",
       "      <td>61</td>\n",
       "      <td>-</td>\n",
       "      <td>64</td>\n",
       "      <td>30.00</td>\n",
       "      <td>C: 0.01,gamma: 1</td>\n",
       "    </tr>\n",
       "  </tbody>\n",
       "</table>\n",
       "</div>"
      ],
      "text/plain": [
       "     Algorithm  Recall   AUC  Accuracy  \\\n",
       "2   SVM-Linear      79     -        73   \n",
       "4           RF      76  79.9        73   \n",
       "7           LR      76  79.4        73   \n",
       "6           DT      75  75.2        70   \n",
       "1          KNN      73  76.2        72   \n",
       "5          GBM      73  78.8        72   \n",
       "0          NBC      71  74.3        69   \n",
       "9         ANN1      69  80.2        73   \n",
       "10        ANN2      68    80        73   \n",
       "8         ANN0      66  79.3        73   \n",
       "3      SVM-RBF      61     -        64   \n",
       "\n",
       "    Ball-park estimate of Time taken to run model(mins)  \\\n",
       "2                                                4.00     \n",
       "4                                               50.00     \n",
       "7                                               11.30     \n",
       "6                                                2.60     \n",
       "1                                               24.00     \n",
       "5                                              480.00     \n",
       "0                                                2.00     \n",
       "9                                                4.16     \n",
       "10                                               5.00     \n",
       "8                                                3.33     \n",
       "3                                               30.00     \n",
       "\n",
       "                                Best Hyper-parameters  \n",
       "2                         C:0.8,loss:hinge,penalty:l2  \n",
       "4   max_depth:100,max_features:auto,min_samples_le...  \n",
       "7   criterion:gini,max_depth:10,max_features:auto,...  \n",
       "6                                     C:5, penalty:l1  \n",
       "1   algorithm:brute,n_neighbors:50,p:2,weights:dis...  \n",
       "5   max_depth:50,max_features:sqrt,min_samples_lea...  \n",
       "0                                 var_smoothing:0.001  \n",
       "9   epochs:50,batch_size:20,loss_function:binary_c...  \n",
       "10  epochs:50,batch_size:20,loss_function:binary_c...  \n",
       "8   epochs:50,batch_size:20,loss_function:binary_c...  \n",
       "3                                    C: 0.01,gamma: 1  "
      ]
     },
     "execution_count": 84,
     "metadata": {},
     "output_type": "execute_result"
    }
   ],
   "source": [
    "# Printing the best_models summary table by sorting on the primary evaluation metric recall\n",
    "best_models.sort_values(by=\"Recall\",ascending=False)"
   ]
  },
  {
   "cell_type": "markdown",
   "metadata": {},
   "source": [
    "#### Top 5 most important features helpful in predicting disease\n",
    "- High Blood Pressure and Low Blood Pressure are the most important features in predicting whether a patient has disease\n",
    "- Cholestrol_normal, Weight, Height, BMI, Glucose and Age_Binning_Age_40-44 are other features that are helpful in predicting disease"
   ]
  },
  {
   "cell_type": "code",
   "execution_count": 88,
   "metadata": {},
   "outputs": [
    {
     "name": "stdout",
     "output_type": "stream",
     "text": [
      "Top 5 most important features in predicting disease\n"
     ]
    },
    {
     "data": {
      "text/html": [
       "<div>\n",
       "<style scoped>\n",
       "    .dataframe tbody tr th:only-of-type {\n",
       "        vertical-align: middle;\n",
       "    }\n",
       "\n",
       "    .dataframe tbody tr th {\n",
       "        vertical-align: top;\n",
       "    }\n",
       "\n",
       "    .dataframe thead th {\n",
       "        text-align: right;\n",
       "    }\n",
       "</style>\n",
       "<table border=\"1\" class=\"dataframe\">\n",
       "  <thead>\n",
       "    <tr style=\"text-align: right;\">\n",
       "      <th></th>\n",
       "      <th>Random Forest</th>\n",
       "      <th>GBM</th>\n",
       "      <th>Decision Tree</th>\n",
       "      <th>LR Coefficients</th>\n",
       "    </tr>\n",
       "  </thead>\n",
       "  <tbody>\n",
       "    <tr>\n",
       "      <th>0</th>\n",
       "      <td>High Blood Pressure</td>\n",
       "      <td>High Blood Pressure</td>\n",
       "      <td>Low Blood Pressure</td>\n",
       "      <td>High Blood Pressure</td>\n",
       "    </tr>\n",
       "    <tr>\n",
       "      <th>1</th>\n",
       "      <td>Low Blood Pressure</td>\n",
       "      <td>Low Blood Pressure</td>\n",
       "      <td>High Blood Pressure</td>\n",
       "      <td>Glucose_high</td>\n",
       "    </tr>\n",
       "    <tr>\n",
       "      <th>2</th>\n",
       "      <td>Cholesterol_normal</td>\n",
       "      <td>BMI</td>\n",
       "      <td>Cholesterol_normal</td>\n",
       "      <td>Glucose_normal</td>\n",
       "    </tr>\n",
       "    <tr>\n",
       "      <th>3</th>\n",
       "      <td>BMI</td>\n",
       "      <td>Weight</td>\n",
       "      <td>Weight</td>\n",
       "      <td>Low Blood Pressure</td>\n",
       "    </tr>\n",
       "    <tr>\n",
       "      <th>4</th>\n",
       "      <td>Weight</td>\n",
       "      <td>Height</td>\n",
       "      <td>Age_Binning_Age_40-44</td>\n",
       "      <td>Weight</td>\n",
       "    </tr>\n",
       "  </tbody>\n",
       "</table>\n",
       "</div>"
      ],
      "text/plain": [
       "         Random Forest                  GBM          Decision Tree  \\\n",
       "0  High Blood Pressure  High Blood Pressure     Low Blood Pressure   \n",
       "1   Low Blood Pressure   Low Blood Pressure    High Blood Pressure   \n",
       "2   Cholesterol_normal                  BMI     Cholesterol_normal   \n",
       "3                  BMI               Weight                 Weight   \n",
       "4               Weight               Height  Age_Binning_Age_40-44   \n",
       "\n",
       "       LR Coefficients  \n",
       "0  High Blood Pressure  \n",
       "1         Glucose_high  \n",
       "2       Glucose_normal  \n",
       "3   Low Blood Pressure  \n",
       "4               Weight  "
      ]
     },
     "execution_count": 88,
     "metadata": {},
     "output_type": "execute_result"
    }
   ],
   "source": [
    "# top 5 feature importance for DT, RF, GBM\n",
    "best_feature_importance=pd.DataFrame({\"Random Forest\":['High Blood Pressure','Low Blood Pressure','Cholesterol_normal','BMI','Weight'],\n",
    "            \"GBM\":['High Blood Pressure','Low Blood Pressure','BMI','Weight','Height'],\n",
    "            \"Decision Tree\":['Low Blood Pressure','High Blood Pressure','Cholesterol_normal','Weight','Age_Binning_Age_40-44'],\n",
    "             \"LR Coefficients\":['High Blood Pressure','Glucose_high','Glucose_normal','Low Blood Pressure','Weight']})\n",
    "print(\"Top 5 most important features in predicting disease\")\n",
    "best_feature_importance"
   ]
  },
  {
   "cell_type": "markdown",
   "metadata": {},
   "source": [
    "## Final Predictions on Test Set \n",
    "\n",
    "- We have made a final dataframe containing the test set predictions for all the 5 algorithms.\n",
    "\n",
    "- We have also converted this dataframe to a csv that contains 6 columns: \n",
    "\n",
    "- ID: contains the ID for each of the data points present in the test set \n",
    "\n",
    "- DT: contains binary prediction labels made by the DT algorithm for each of the data points present in the test set \n",
    "\n",
    "- LR: contains binary prediction labels made by the LR algorithm for each of the data points present in the test set \n",
    "\n",
    "- ANN0: contains binary prediction labels made by the ANN0 algorithm for each of the data points present in the test set \n",
    "\n",
    "- ANN1: contains binary prediction labels made by the ANN1 algorithm for each of the data points present in the test set \n",
    "\n",
    "- ANN2: contains binary prediction labels made by the ANN2 for each of the data points present in the test set "
   ]
  },
  {
   "cell_type": "code",
   "execution_count": 86,
   "metadata": {},
   "outputs": [],
   "source": [
    "# Making the final predictions on the test data set using all the 5 models and storing it in a dataframe\n",
    "final_prediction[\"DT\"]=test_prediction_dt\n",
    "final_prediction[\"LR\"]=test_prediction_lr\n",
    "final_prediction[\"ANN0\"]=test_prediction_ann0\n",
    "final_prediction[\"ANN1\"]=test_prediction_ann1\n",
    "final_prediction[\"ANN2\"]=test_prediction_ann2"
   ]
  },
  {
   "cell_type": "code",
   "execution_count": 87,
   "metadata": {},
   "outputs": [],
   "source": [
    "# Converting the final prediction results to a csv file\n",
    "final_prediction.to_csv(\"final_prediction_results.csv\",index=False)"
   ]
  }
 ],
 "metadata": {
  "kernelspec": {
   "display_name": "Python 3",
   "language": "python",
   "name": "python3"
  },
  "language_info": {
   "codemirror_mode": {
    "name": "ipython",
    "version": 3
   },
   "file_extension": ".py",
   "mimetype": "text/x-python",
   "name": "python",
   "nbconvert_exporter": "python",
   "pygments_lexer": "ipython3",
   "version": "3.7.7"
  }
 },
 "nbformat": 4,
 "nbformat_minor": 4
}
