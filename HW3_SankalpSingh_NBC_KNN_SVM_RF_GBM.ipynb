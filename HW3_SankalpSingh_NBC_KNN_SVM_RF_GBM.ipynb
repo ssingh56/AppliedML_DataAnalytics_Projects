{
 "cells": [
  {
   "cell_type": "markdown",
   "metadata": {},
   "source": [
    "# Problem Statement: HW3_SankalpSingh\n",
    "\n",
    "## IST707: Data Analytics: HW3_NBC_KNN_SVM_RF_GBM\n",
    "## Date of Submission: 11/01/2020"
   ]
  },
  {
   "cell_type": "markdown",
   "metadata": {},
   "source": [
    "### In this homework assignment, we are going to use multiple machine learning algorithms, including naive Bayes classifier, K Nearest Neighbor, Support Vector Machine ( with both linear and non-linear kernel functions), Random Forest and Gradient Boosting Classifier to build a disease diagnosis model. It is a binary classification problem to predict whether or not a patient has a certain unspecified disease."
   ]
  },
  {
   "cell_type": "markdown",
   "metadata": {},
   "source": [
    "### Information about the dataset (Disease Prediction Training.csv):\n",
    "\n",
    "• Age: in years\n",
    "\n",
    "• Gender: male/female\n",
    "\n",
    "• Height: in unit of cm\n",
    "\n",
    "• Weight: in unit of kg\n",
    "\n",
    "• Low Blood Pressure: lower bound of blood pressure measurement\n",
    "\n",
    "• High Blood Pressure: higher bound of blood pressure measurement\n",
    "\n",
    "• Cholesterol: three cholesteral levels\n",
    "\n",
    "• Glucose: three glucose levels\n",
    "\n",
    "• Smoke: 1/0 regarding if the patient smokes\n",
    "\n",
    "• Alcohol: 1/0 regarding if the patient drinks alcohol\n",
    "\n",
    "• Exercise: 1/0 regarding if the patient exercises regularly\n",
    "\n",
    "• Disease: The binary target variable. Does the patient have the disease?\n"
   ]
  },
  {
   "cell_type": "markdown",
   "metadata": {},
   "source": [
    "### Import Libraries\n",
    "\n",
    "Importing all the required libraries that will help us perform data pre-processing, visualizations, modeling and performance evaluation."
   ]
  },
  {
   "cell_type": "code",
   "execution_count": 1,
   "metadata": {},
   "outputs": [],
   "source": [
    "import matplotlib.pyplot as plt \n",
    "import numpy as np \n",
    "import pandas as pd \n",
    "from pandas import DataFrame, Series\n",
    "import seaborn as sns\n",
    "from fancyimpute import IterativeImputer\n",
    "from scipy import stats\n",
    "from sklearn import preprocessing\n",
    "from scipy.spatial import distance_matrix\n",
    "from sklearn.model_selection import train_test_split, GridSearchCV, cross_val_score, cross_validate, ShuffleSplit, LeaveOneOut\n",
    "from sklearn import metrics\n",
    "from sklearn.metrics import accuracy_score,f1_score,confusion_matrix,precision_score,classification_report,recall_score,roc_curve,roc_auc_score\n",
    "from sklearn.preprocessing import MinMaxScaler\n",
    "from sklearn.preprocessing import StandardScaler\n",
    "from sklearn import datasets\n",
    "from sklearn.svm import SVC\n",
    "from sklearn.svm import LinearSVC\n",
    "from sklearn.ensemble import RandomForestClassifier,GradientBoostingClassifier\n",
    "from sklearn.neighbors import KNeighborsClassifier\n",
    "from sklearn.naive_bayes import MultinomialNB,GaussianNB\n",
    "import pickle"
   ]
  },
  {
   "cell_type": "markdown",
   "metadata": {},
   "source": [
    "### Read dataset\n",
    "\n",
    "- Here we are reading both the train and test data set. We will be performing all the data pre-processing steps on both the training and testing data set. \n",
    "\n",
    "- Later on, while modeling we will be splitting the training dataset into training and validation to train our model and perform hyper parameter tuning using the performance on validation set. \n",
    "\n",
    "- Finally, we will be using the model with best parameters to predict binary labels on the testing dataset.\n"
   ]
  },
  {
   "cell_type": "code",
   "execution_count": 146,
   "metadata": {},
   "outputs": [],
   "source": [
    "# Reading both training and testing dataset\n",
    "df=pd.read_csv('Disease Prediction Training.csv')\n",
    "test_df = pd.read_csv('Disease Prediction Testing.csv')"
   ]
  },
  {
   "cell_type": "code",
   "execution_count": 147,
   "metadata": {},
   "outputs": [
    {
     "data": {
      "text/plain": [
       "(49000, 12)"
      ]
     },
     "execution_count": 147,
     "metadata": {},
     "output_type": "execute_result"
    }
   ],
   "source": [
    "# Check the shape of the train data\n",
    "df.shape"
   ]
  },
  {
   "cell_type": "code",
   "execution_count": 148,
   "metadata": {},
   "outputs": [
    {
     "data": {
      "text/plain": [
       "(21000, 12)"
      ]
     },
     "execution_count": 148,
     "metadata": {},
     "output_type": "execute_result"
    }
   ],
   "source": [
    "# Check the shape of the test data\n",
    "test_df.shape"
   ]
  },
  {
   "cell_type": "code",
   "execution_count": 149,
   "metadata": {},
   "outputs": [
    {
     "data": {
      "text/html": [
       "<div>\n",
       "<style scoped>\n",
       "    .dataframe tbody tr th:only-of-type {\n",
       "        vertical-align: middle;\n",
       "    }\n",
       "\n",
       "    .dataframe tbody tr th {\n",
       "        vertical-align: top;\n",
       "    }\n",
       "\n",
       "    .dataframe thead th {\n",
       "        text-align: right;\n",
       "    }\n",
       "</style>\n",
       "<table border=\"1\" class=\"dataframe\">\n",
       "  <thead>\n",
       "    <tr style=\"text-align: right;\">\n",
       "      <th></th>\n",
       "      <th>Age</th>\n",
       "      <th>Gender</th>\n",
       "      <th>Height</th>\n",
       "      <th>Weight</th>\n",
       "      <th>High Blood Pressure</th>\n",
       "      <th>Low Blood Pressure</th>\n",
       "      <th>Cholesterol</th>\n",
       "      <th>Glucose</th>\n",
       "      <th>Smoke</th>\n",
       "      <th>Alcohol</th>\n",
       "      <th>Exercise</th>\n",
       "      <th>Disease</th>\n",
       "    </tr>\n",
       "  </thead>\n",
       "  <tbody>\n",
       "    <tr>\n",
       "      <th>0</th>\n",
       "      <td>59</td>\n",
       "      <td>female</td>\n",
       "      <td>167</td>\n",
       "      <td>88.0</td>\n",
       "      <td>130</td>\n",
       "      <td>68</td>\n",
       "      <td>normal</td>\n",
       "      <td>normal</td>\n",
       "      <td>0</td>\n",
       "      <td>0</td>\n",
       "      <td>1</td>\n",
       "      <td>0</td>\n",
       "    </tr>\n",
       "    <tr>\n",
       "      <th>1</th>\n",
       "      <td>64</td>\n",
       "      <td>female</td>\n",
       "      <td>150</td>\n",
       "      <td>71.0</td>\n",
       "      <td>140</td>\n",
       "      <td>100</td>\n",
       "      <td>normal</td>\n",
       "      <td>normal</td>\n",
       "      <td>0</td>\n",
       "      <td>0</td>\n",
       "      <td>0</td>\n",
       "      <td>1</td>\n",
       "    </tr>\n",
       "    <tr>\n",
       "      <th>2</th>\n",
       "      <td>41</td>\n",
       "      <td>female</td>\n",
       "      <td>166</td>\n",
       "      <td>83.0</td>\n",
       "      <td>100</td>\n",
       "      <td>70</td>\n",
       "      <td>normal</td>\n",
       "      <td>normal</td>\n",
       "      <td>0</td>\n",
       "      <td>1</td>\n",
       "      <td>1</td>\n",
       "      <td>0</td>\n",
       "    </tr>\n",
       "    <tr>\n",
       "      <th>3</th>\n",
       "      <td>50</td>\n",
       "      <td>male</td>\n",
       "      <td>172</td>\n",
       "      <td>110.0</td>\n",
       "      <td>130</td>\n",
       "      <td>80</td>\n",
       "      <td>normal</td>\n",
       "      <td>normal</td>\n",
       "      <td>1</td>\n",
       "      <td>0</td>\n",
       "      <td>1</td>\n",
       "      <td>0</td>\n",
       "    </tr>\n",
       "    <tr>\n",
       "      <th>4</th>\n",
       "      <td>39</td>\n",
       "      <td>female</td>\n",
       "      <td>162</td>\n",
       "      <td>61.0</td>\n",
       "      <td>110</td>\n",
       "      <td>80</td>\n",
       "      <td>high</td>\n",
       "      <td>high</td>\n",
       "      <td>0</td>\n",
       "      <td>0</td>\n",
       "      <td>1</td>\n",
       "      <td>0</td>\n",
       "    </tr>\n",
       "  </tbody>\n",
       "</table>\n",
       "</div>"
      ],
      "text/plain": [
       "   Age  Gender  Height  Weight  High Blood Pressure  Low Blood Pressure  \\\n",
       "0   59  female     167    88.0                  130                  68   \n",
       "1   64  female     150    71.0                  140                 100   \n",
       "2   41  female     166    83.0                  100                  70   \n",
       "3   50    male     172   110.0                  130                  80   \n",
       "4   39  female     162    61.0                  110                  80   \n",
       "\n",
       "  Cholesterol Glucose  Smoke  Alcohol  Exercise  Disease  \n",
       "0      normal  normal      0        0         1        0  \n",
       "1      normal  normal      0        0         0        1  \n",
       "2      normal  normal      0        1         1        0  \n",
       "3      normal  normal      1        0         1        0  \n",
       "4        high    high      0        0         1        0  "
      ]
     },
     "execution_count": 149,
     "metadata": {},
     "output_type": "execute_result"
    }
   ],
   "source": [
    "# View first few data points of training data\n",
    "df.head()"
   ]
  },
  {
   "cell_type": "code",
   "execution_count": 150,
   "metadata": {},
   "outputs": [
    {
     "data": {
      "text/plain": [
       "Age                      int64\n",
       "Gender                  object\n",
       "Height                   int64\n",
       "Weight                 float64\n",
       "High Blood Pressure      int64\n",
       "Low Blood Pressure       int64\n",
       "Cholesterol             object\n",
       "Glucose                 object\n",
       "Smoke                    int64\n",
       "Alcohol                  int64\n",
       "Exercise                 int64\n",
       "Disease                  int64\n",
       "dtype: object"
      ]
     },
     "execution_count": 150,
     "metadata": {},
     "output_type": "execute_result"
    }
   ],
   "source": [
    "# Check the data type for each of the attributes of training data\n",
    "df.dtypes"
   ]
  },
  {
   "cell_type": "markdown",
   "metadata": {},
   "source": [
    "## Data Pre-processing & Exploratory Data Analysis"
   ]
  },
  {
   "cell_type": "markdown",
   "metadata": {},
   "source": [
    "#### Here, we have followed the CRISP-DM methodology  which consists of following steps in the mentioned order: Business & Data Understanding -> Data cleaning & Pre-processing -> Modeling -> Performance Evaluation \n",
    "\n",
    "We have addressed the following data issues here while performing the data pre-processing:\n",
    "\n",
    "1) Check for Null values\n",
    "\n",
    "2) Handling outliers\n",
    "\n",
    "3) Feature Engineering\n",
    "\n",
    "4) Data Transformations\n"
   ]
  },
  {
   "cell_type": "markdown",
   "metadata": {},
   "source": [
    "### 1) Checking for null values in train and test set\n",
    "\n",
    "- Here, we can see that both our train and test data does not contain any null or missing values"
   ]
  },
  {
   "cell_type": "code",
   "execution_count": 151,
   "metadata": {},
   "outputs": [
    {
     "data": {
      "text/plain": [
       "Age                    0\n",
       "Gender                 0\n",
       "Height                 0\n",
       "Weight                 0\n",
       "High Blood Pressure    0\n",
       "Low Blood Pressure     0\n",
       "Cholesterol            0\n",
       "Glucose                0\n",
       "Smoke                  0\n",
       "Alcohol                0\n",
       "Exercise               0\n",
       "Disease                0\n",
       "dtype: int64"
      ]
     },
     "execution_count": 151,
     "metadata": {},
     "output_type": "execute_result"
    }
   ],
   "source": [
    "# Check total null values present for all attributes in training data\n",
    "df.isnull().sum()"
   ]
  },
  {
   "cell_type": "code",
   "execution_count": 152,
   "metadata": {},
   "outputs": [
    {
     "data": {
      "text/plain": [
       "ID                     0\n",
       "Age                    0\n",
       "Gender                 0\n",
       "Height                 0\n",
       "Weight                 0\n",
       "High Blood Pressure    0\n",
       "Low Blood Pressure     0\n",
       "Cholesterol            0\n",
       "Glucose                0\n",
       "Smoke                  0\n",
       "Alcohol                0\n",
       "Exercise               0\n",
       "dtype: int64"
      ]
     },
     "execution_count": 152,
     "metadata": {},
     "output_type": "execute_result"
    }
   ],
   "source": [
    "# Check total null values present for all attributes in testing data\n",
    "test_df.isnull().sum()"
   ]
  },
  {
   "cell_type": "markdown",
   "metadata": {},
   "source": [
    "### Check for distribution of labels for the target attribute\n",
    "\n",
    "-  We can see from the distribution plot below that our training data contains almost equal number of data points for both the binary labels in our target attribute: 'Disease' - 1(Disease) / 0(No Disease)"
   ]
  },
  {
   "cell_type": "code",
   "execution_count": 153,
   "metadata": {},
   "outputs": [
    {
     "data": {
      "text/plain": [
       "Text(0.5, 1.0, 'Distribution of Disease for our dataset')"
      ]
     },
     "execution_count": 153,
     "metadata": {},
     "output_type": "execute_result"
    },
    {
     "data": {
      "image/png": "[encoded data removed]",
      "text/plain": [
       "<Figure size 432x288 with 1 Axes>"
      ]
     },
     "metadata": {
      "needs_background": "light"
     },
     "output_type": "display_data"
    }
   ],
   "source": [
    "# Countplot to check the distribution of labels in attribute - 'Disease'\n",
    "sns.countplot(x=\"Disease\", data=df).set_title('Distribution of Disease for our dataset')"
   ]
  },
  {
   "cell_type": "markdown",
   "metadata": {},
   "source": [
    "### 2) Handling outliers\n",
    "\n",
    "- Checking for outliers in the data set and treating them accordingly is one of the major steps of pre-processing in order to achieve a higher model performance\n",
    "\n",
    "- Below we have plotted the boxplots for our various features Vs target attribute 'Disease' to check if our numerical attributes contain any outliers\n",
    "\n",
    "- We have used the clipping technique to deal with the outliers present in our dataset. Clipping technique involves checking for all the values present in an attribute and identifying which all values lie outside the range that we have provided for clipping\n",
    "\n",
    "- We have clipped the outliers according to what is considered as the general lower and upper limit for each of the attributes in the medical domain. All the lower and upper limit values for each of the attributes will be clipped according to the values we have provided in the clip function\n",
    "\n",
    "- We have clipped the values for following features - 'Height', 'Weight', 'High Blood Pressure', 'Low Blood Pressure'\n",
    "\n"
   ]
  },
  {
   "cell_type": "markdown",
   "metadata": {},
   "source": [
    "#### Height\n",
    "\n",
    "- We can see from the below boxplot that the 'Height' feature contains outliers\n",
    "\n",
    "- The upper limit for the height variable seems to be fine\n",
    "\n",
    "- The lower limit for the height variable is 55cm. It is highly unlikely for patients to have a height of 55cm given that the minimum Age of patients in our dataset is 29 years\n",
    "\n",
    "- So, we have clipped the lower limit of Height variable to 100cm"
   ]
  },
  {
   "cell_type": "code",
   "execution_count": 154,
   "metadata": {},
   "outputs": [
    {
     "name": "stdout",
     "output_type": "stream",
     "text": [
      "Minimum height: 55\n",
      "Maximum height: 207\n"
     ]
    },
    {
     "data": {
      "image/png": "[encoded data removed]",
      "text/plain": [
       "<Figure size 432x288 with 1 Axes>"
      ]
     },
     "metadata": {
      "needs_background": "light"
     },
     "output_type": "display_data"
    }
   ],
   "source": [
    "# Boxplot of Height attribute vs target attribute Disease\n",
    "sns.boxplot(y=\"Height\", x=\"Disease\", data=df)\n",
    "plt.title(\"Box plot of Height vs Disease\")\n",
    "\n",
    "# printing max and min height\n",
    "print('Minimum height:', min(df['Height']))\n",
    "print('Maximum height:', max(df['Height']))"
   ]
  },
  {
   "cell_type": "code",
   "execution_count": 155,
   "metadata": {},
   "outputs": [],
   "source": [
    "# Clipping lower limit of height for both train and test data\n",
    "df['Height'] = df[\"Height\"].clip(lower=100)\n",
    "test_df['Height'] = test_df['Height'].clip(lower=100)"
   ]
  },
  {
   "cell_type": "markdown",
   "metadata": {},
   "source": [
    "#### Weight\n",
    "\n",
    "- We can see from the below boxplot that the 'Weight' feature contains outliers\n",
    "- The upper limit for the weight variable seems to be fine\n",
    "- The lower limit for the weight variable is 10kg. It is highly unlikely for patients to have a weight of 10kg given that the minimum Age of patients in our dataset is 29 years\n",
    "- So, we have clipped the lower limit of Weight variable to 30kg"
   ]
  },
  {
   "cell_type": "code",
   "execution_count": 156,
   "metadata": {},
   "outputs": [
    {
     "name": "stdout",
     "output_type": "stream",
     "text": [
      "Maximum Weight: 200.0\n",
      "Minimum Weight: 10.0\n"
     ]
    },
    {
     "data": {
      "image/png": "[encoded data removed]",
      "text/plain": [
       "<Figure size 432x288 with 1 Axes>"
      ]
     },
     "metadata": {
      "needs_background": "light"
     },
     "output_type": "display_data"
    }
   ],
   "source": [
    "# Boxplot of Weight attribute vs target attribute Disease\n",
    "sns.boxplot(y=\"Weight\", x=\"Disease\", data=df)\n",
    "plt.title(\"Box plot of Weight vs Disease\")\n",
    "\n",
    "# printing max and min weight\n",
    "print('Maximum Weight:', max(df['Weight']))\n",
    "print('Minimum Weight:', min(df['Weight']))"
   ]
  },
  {
   "cell_type": "code",
   "execution_count": 157,
   "metadata": {},
   "outputs": [],
   "source": [
    "# clipping the lower limit for Weight for both the train and test data\n",
    "df['Weight'] = df[\"Weight\"].clip(lower=30)\n",
    "test_df['Weight'] = test_df['Weight'].clip(lower=30)"
   ]
  },
  {
   "cell_type": "markdown",
   "metadata": {},
   "source": [
    "#### High Blood Pressure\n",
    "\n",
    "- We can see from the below boxplot that the 'High Blood Pressure' feature contains outliers\n",
    "- We have clipped the lower and upper limit of this variable according to the values that are generally considered as normal High BP in medical domain (60/250)"
   ]
  },
  {
   "cell_type": "code",
   "execution_count": 159,
   "metadata": {},
   "outputs": [
    {
     "name": "stdout",
     "output_type": "stream",
     "text": [
      "Maximum High BP: 14020\n",
      "Minimum High BP: -150\n"
     ]
    },
    {
     "data": {
      "image/png": "[encoded data removed]",
      "text/plain": [
       "<Figure size 432x288 with 1 Axes>"
      ]
     },
     "metadata": {
      "needs_background": "light"
     },
     "output_type": "display_data"
    }
   ],
   "source": [
    "# Boxplot of High Blood Pressure attribute vs target attribute Disease\n",
    "sns.boxplot(y=\"High Blood Pressure\", x=\"Disease\", data=df)\n",
    "plt.title(\"Box plot of High Blood Pressure vs Disease\")\n",
    "\n",
    "# printing max and min High BP\n",
    "print('Maximum High BP:', max(df['High Blood Pressure']))\n",
    "print('Minimum High BP:', min(df['High Blood Pressure']))"
   ]
  },
  {
   "cell_type": "code",
   "execution_count": 160,
   "metadata": {},
   "outputs": [],
   "source": [
    "# clipping values for High BP for train data\n",
    "df['High Blood Pressure'] = df[\"High Blood Pressure\"].clip(lower=60)\n",
    "df['High Blood Pressure'] = df[\"High Blood Pressure\"].clip(upper=250)\n",
    "\n",
    "# clipping values for High BP for test data\n",
    "test_df['High Blood Pressure'] = test_df['High Blood Pressure'].clip(lower=60)\n",
    "test_df['High Blood Pressure'] = test_df['High Blood Pressure'].clip(upper=250)"
   ]
  },
  {
   "cell_type": "markdown",
   "metadata": {},
   "source": [
    "#### Low Blood Pressure\n",
    "\n",
    "- We can see from the below boxplot that the 'Low Blood Pressure' feature contains outliers\n",
    "- We have clipped the lower and upper limit of this variable according to the values that are generally considered as normal Low BP in medical domain (40/160)"
   ]
  },
  {
   "cell_type": "code",
   "execution_count": 161,
   "metadata": {},
   "outputs": [
    {
     "name": "stdout",
     "output_type": "stream",
     "text": [
      "Maximum Low BP: 11000\n",
      "Minimum Low BP: 0\n"
     ]
    },
    {
     "data": {
      "image/png": "[encoded data removed]",
      "text/plain": [
       "<Figure size 432x288 with 1 Axes>"
      ]
     },
     "metadata": {
      "needs_background": "light"
     },
     "output_type": "display_data"
    }
   ],
   "source": [
    "# Boxplot of Low Blood Pressure attribute vs target attribute Disease\n",
    "sns.boxplot(y=\"Low Blood Pressure\", x=\"Disease\", data=df)\n",
    "plt.title(\"Box plot of Low Blood Pressure vs Disease\")\n",
    "\n",
    "# printing max and min Low BP\n",
    "print('Maximum Low BP:', max(df['Low Blood Pressure']))\n",
    "print('Minimum Low BP:', min(df['Low Blood Pressure']))"
   ]
  },
  {
   "cell_type": "code",
   "execution_count": 162,
   "metadata": {},
   "outputs": [],
   "source": [
    "# clipping values for Low BP for train data\n",
    "df['Low Blood Pressure'] = df[\"Low Blood Pressure\"].clip(lower=40)\n",
    "df['Low Blood Pressure'] = df[\"Low Blood Pressure\"].clip(upper=160)\n",
    "\n",
    "# clipping values for Low BP for test data\n",
    "test_df['Low Blood Pressure'] = test_df['Low Blood Pressure'].clip(lower=40)\n",
    "test_df['Low Blood Pressure'] = test_df['Low Blood Pressure'].clip(upper=160)"
   ]
  },
  {
   "cell_type": "markdown",
   "metadata": {},
   "source": [
    "### 3) Feature Engineering\n",
    "\n",
    "- Feature engineering is an important step in the machine learning domain as it can help us generate new features based on some existing features in the dataset\n",
    "\n",
    "- Here, we have calculated the Body Mass Index using the Weight and Height features and added this new feature to our dataset\n",
    "\n",
    "- BMI is a person's weight in kilograms divided by the square of height in meters. BMI can be a good indicator of a person's health\n",
    "\n",
    "-  A BMI higher than 30 indicates that the person is obese and a BMI of lower than 18.5 indicates that the person is underweight\n",
    "\n",
    "- We think BMI will be an important feature that will help us in predicting disease"
   ]
  },
  {
   "cell_type": "code",
   "execution_count": 163,
   "metadata": {},
   "outputs": [
    {
     "name": "stdout",
     "output_type": "stream",
     "text": [
      "Maximum BMI: 168.0\n",
      "Minimum BMI: 9.46850145183689\n"
     ]
    }
   ],
   "source": [
    "# adding BMI feature to the train data\n",
    "df[\"BMI\"]=df[\"Weight\"]/((df['Height']/100)**2)\n",
    "\n",
    "# adding BMI feature to the test data\n",
    "test_df[\"BMI\"]=test_df[\"Weight\"]/((test_df['Height']/100)**2)\n",
    "\n",
    "# printing max and min BMI in the dataset\n",
    "print('Maximum BMI:', max(df['BMI']))\n",
    "print('Minimum BMI:', min(df['BMI']))"
   ]
  },
  {
   "cell_type": "markdown",
   "metadata": {},
   "source": [
    "### Exploratory Data Analysis\n",
    "\n",
    "- Here, we have performed some exploratory data analysis on various features - 'Age', 'Gender', 'Cholestrol', 'Glucose' & 'Exercise'\n",
    "\n",
    "- This will help us in understanding the distribution of these features in the dataset as well as their relationship with the target attribute - 'Disease'"
   ]
  },
  {
   "cell_type": "markdown",
   "metadata": {},
   "source": [
    "#### Below is a Kernel density estimation plot for the 'Age' attribute which shows the distribution of 'Age' against the target feature 'Disease'. From the below plot, we can see that an old age patient is at a higher risk of having the disease. "
   ]
  },
  {
   "cell_type": "code",
   "execution_count": 164,
   "metadata": {},
   "outputs": [
    {
     "name": "stdout",
     "output_type": "stream",
     "text": [
      "Minimum Age: 29\n",
      "Maximum Age: 64\n"
     ]
    },
    {
     "data": {
      "image/png": "[encoded data removed]",
      "text/plain": [
       "<Figure size 576x360 with 1 Axes>"
      ]
     },
     "metadata": {
      "needs_background": "light"
     },
     "output_type": "display_data"
    }
   ],
   "source": [
    "# KDE plot of Age Vs Disease\n",
    "fig,ax=plt.subplots(1,figsize=(8,5))\n",
    "ax.set_title(\"KDE plot of Age\")\n",
    "ax.set_ylabel(\"Density\")\n",
    "sns.distplot(df.Age[df.Disease==1],hist=False,label=\"Disease=1\",ax=ax)\n",
    "sns.distplot(df.Age[df.Disease==0],hist=False,label=\"Disease=0\",ax=ax);\n",
    "\n",
    "# printing max and min Age\n",
    "print('Minimum Age:', min(df['Age']))\n",
    "print('Maximum Age:', max(df['Age']))"
   ]
  },
  {
   "cell_type": "markdown",
   "metadata": {},
   "source": [
    "#### Below is a distribution plot of Gender vs Disease for our dataset. We can infer from the below plot that our dataset contains more datapoints for gender=female. We can also infer that according to our dataset, males are at a slightly higher risk of having the disease than females"
   ]
  },
  {
   "cell_type": "code",
   "execution_count": 165,
   "metadata": {},
   "outputs": [
    {
     "data": {
      "text/plain": [
       "Text(0.5, 1.0, 'Distribution of Gender vs Disease for our dataset')"
      ]
     },
     "execution_count": 165,
     "metadata": {},
     "output_type": "execute_result"
    },
    {
     "data": {
      "image/png": "[encoded data removed]",
      "text/plain": [
       "<Figure size 432x288 with 1 Axes>"
      ]
     },
     "metadata": {
      "needs_background": "light"
     },
     "output_type": "display_data"
    }
   ],
   "source": [
    "# Distribution plot of Gender vs Disease\n",
    "sns.countplot(x=\"Gender\", hue=\"Disease\", data=df).set_title('Distribution of Gender vs Disease for our dataset')"
   ]
  },
  {
   "cell_type": "markdown",
   "metadata": {},
   "source": [
    "#### Below is a distribution plot of Cholestrol vs Disease for our dataset. We can infer from the below plot that our dataset contains more datapoints for cholestrol=normal. We can also infer that according to our dataset, person with a very high cholestrol level is at a higher risk of having the disease"
   ]
  },
  {
   "cell_type": "code",
   "execution_count": 166,
   "metadata": {},
   "outputs": [
    {
     "data": {
      "text/plain": [
       "Text(0.5, 1.0, 'Distribution of Cholestrol vs Disease for our dataset')"
      ]
     },
     "execution_count": 166,
     "metadata": {},
     "output_type": "execute_result"
    },
    {
     "data": {
      "image/png": "[encoded data removed]",
      "text/plain": [
       "<Figure size 432x288 with 1 Axes>"
      ]
     },
     "metadata": {
      "needs_background": "light"
     },
     "output_type": "display_data"
    }
   ],
   "source": [
    "# Distribution plot of Cholestrol vs Disease\n",
    "sns.countplot(x=\"Cholesterol\", hue=\"Disease\", data=df).set_title('Distribution of Cholestrol vs Disease for our dataset')"
   ]
  },
  {
   "cell_type": "markdown",
   "metadata": {},
   "source": [
    "#### Below is a distribution plot of Glucose vs Disease for our dataset. We can infer from the below plot that our dataset contains more datapoints for glucose=normal. We can also infer that according to our dataset, person with a very high glucose level is at a higher risk of having the disease"
   ]
  },
  {
   "cell_type": "code",
   "execution_count": 167,
   "metadata": {},
   "outputs": [
    {
     "data": {
      "text/plain": [
       "Text(0.5, 1.0, 'Distribution of Glucose vs Disease for our dataset')"
      ]
     },
     "execution_count": 167,
     "metadata": {},
     "output_type": "execute_result"
    },
    {
     "data": {
      "image/png": "[encoded data removed]",
      "text/plain": [
       "<Figure size 432x288 with 1 Axes>"
      ]
     },
     "metadata": {
      "needs_background": "light"
     },
     "output_type": "display_data"
    }
   ],
   "source": [
    "# Distribution plot of Glucose vs Disease\n",
    "sns.countplot(x=\"Glucose\", hue=\"Disease\", data=df).set_title('Distribution of Glucose vs Disease for our dataset')"
   ]
  },
  {
   "cell_type": "markdown",
   "metadata": {},
   "source": [
    "#### Below is a distribution plot of Exercise vs Disease for our dataset. We can infer from the plot below that according to our dataset, person who does regular exercise is at a lower risk of having the disease"
   ]
  },
  {
   "cell_type": "code",
   "execution_count": 168,
   "metadata": {},
   "outputs": [
    {
     "data": {
      "text/plain": [
       "Text(0.5, 1.0, 'Distribution of Exercise vs Disease for our dataset')"
      ]
     },
     "execution_count": 168,
     "metadata": {},
     "output_type": "execute_result"
    },
    {
     "data": {
      "image/png": "[encoded data removed]",
      "text/plain": [
       "<Figure size 432x288 with 1 Axes>"
      ]
     },
     "metadata": {
      "needs_background": "light"
     },
     "output_type": "display_data"
    }
   ],
   "source": [
    "# Distribution plot of Exercise vs Disease\n",
    "sns.countplot(x=\"Exercise\", hue=\"Disease\", data=df).set_title('Distribution of Exercise vs Disease for our dataset')"
   ]
  },
  {
   "cell_type": "markdown",
   "metadata": {},
   "source": [
    "### 4) Data Transformations\n",
    "\n",
    "- Here, we have performed several data transformations that will help our machine learning models in predicting the correct labels for Disease\n",
    "\n",
    "- We have performed Binning on the Age feature and converted this attribute into 8 bins. We have seen previously from the KDE plot for Age vs Disease that the possibility of having the disease increases with age. So, we believe binning the Age feature into categories will help us in predicting the disease\n",
    "\n",
    "-  We have also performed One-hot encoding for all the categorical features present in our dataset. After performing the One-hot encoding, we have removed one column for each of the categorical attribute. We only need to keep n-1 columns after performing One-hot encoding to remove the redundancy in our dataset."
   ]
  },
  {
   "cell_type": "markdown",
   "metadata": {},
   "source": [
    "### Binning"
   ]
  },
  {
   "cell_type": "markdown",
   "metadata": {},
   "source": [
    "#### Adding a new feature 'Age_Binning' to both the train and test data"
   ]
  },
  {
   "cell_type": "code",
   "execution_count": 169,
   "metadata": {},
   "outputs": [],
   "source": [
    "# creating labels for the new binned feature\n",
    "ages = ['Age 25-29','Age 30-34','Age 35-39','Age 40-44','Age 45-49','Age 50-54','Age 55-59','Age 60-64']\n",
    "\n",
    "# adding a new feature 'Age_Binning' by performing binning on 'Age' attribute for both train and test dataset\n",
    "df['Age_Binning'] = pd.cut(df['Age'], bins=np.linspace(25, 65, 9), labels=ages)\n",
    "test_df['Age_Binning'] = pd.cut(test_df['Age'], bins=np.linspace(25, 65, 9), labels=ages)"
   ]
  },
  {
   "cell_type": "markdown",
   "metadata": {},
   "source": [
    "#### Distribution of binned age attribute against the target feature - 'Disease'. We can infer from the below plot that people in the higher age categories i.e. 50-54, 55-59, 60-64 are at the highest risk of having the disease"
   ]
  },
  {
   "cell_type": "code",
   "execution_count": 170,
   "metadata": {},
   "outputs": [
    {
     "data": {
      "image/png": "[encoded data removed]",
      "text/plain": [
       "<Figure size 432x288 with 1 Axes>"
      ]
     },
     "metadata": {
      "needs_background": "light"
     },
     "output_type": "display_data"
    }
   ],
   "source": [
    "# plot of 'Age_Binning' vs 'Disease'\n",
    "ax = sns.countplot(x=\"Age_Binning\", hue = 'Disease', data=df)\n",
    "\n",
    "# rotating the labels on the x-axis\n",
    "ax.set_xticklabels(ax.get_xticklabels(), rotation=40, ha=\"right\")\n",
    "plt.tight_layout()\n",
    "plt.show()"
   ]
  },
  {
   "cell_type": "markdown",
   "metadata": {},
   "source": [
    "### One-hot encoding\n",
    "\n",
    "- Here, we can converted all the categorical features present in our train and test dataset into numerical features using One-hot encoding\n",
    "\n",
    "- We have only kept n-1 columns after performing One-hot encoding as this will help in reducing the redundancy in our dataset"
   ]
  },
  {
   "cell_type": "code",
   "execution_count": 171,
   "metadata": {},
   "outputs": [],
   "source": [
    "# One-hot encoding on train data\n",
    "df=pd.get_dummies(df)\n",
    "\n",
    "# One-hot encoding on test data\n",
    "test_df=pd.get_dummies(test_df)"
   ]
  },
  {
   "cell_type": "code",
   "execution_count": 172,
   "metadata": {},
   "outputs": [],
   "source": [
    "# Dropping 1 column each and keeping n-1 columns for all the One-hot encoded attributes on both train and test data\n",
    "df.drop([\"Age\",'Cholesterol_too high','Glucose_too high','Age_Binning_Age 60-64'],inplace=True,axis=1)\n",
    "test_df.drop([\"Age\",'Cholesterol_too high','Glucose_too high','Age_Binning_Age 60-64'],inplace=True,axis=1)"
   ]
  },
  {
   "cell_type": "code",
   "execution_count": 173,
   "metadata": {},
   "outputs": [],
   "source": [
    "# Dropping 1 column each and keeping n-1 columns for all the One-hot encoded attributes on both train and test data\n",
    "df.drop(['Gender_female'],inplace=True,axis=1)\n",
    "test_df.drop(['Gender_female'],inplace=True,axis=1)"
   ]
  },
  {
   "cell_type": "markdown",
   "metadata": {},
   "source": [
    "## Model Building\n",
    "\n",
    "-  Here, we have performed some pre-processing steps required for all of our machine learning models\n",
    "\n",
    "- Firstly, we have performed a train-validation split on our training dataset using 70-30 as the size. This will help prevent our models from overfitting and we will also be able to perform hyper-parameter tuning on validation set\n",
    "\n",
    "- Secondly, we have used the StandardScalar technique to scale our dataset. This is an important technique which can help us improve the perfomance of our models. We have scaled the train data, validation data and the test data as well. Scaling the dataset in an important step for models that use distance-based techniques for prediction\n",
    "\n",
    "- Thirdly, we have created a generic AUC-ROC function which will help us generate the Area Under the Receiver Operating Characrteristic curve for all the models that can predict the probability of the target class labels\n",
    "\n",
    "- Finally, we have removed the 'ID' column from the test dataset as it will not be helpful in performing the predictions on the test data. We have popped the 'ID' column from test data and inserted it into a new dataframe - 'final_prediction' which we will be using later on to store the final predictions on test data"
   ]
  },
  {
   "cell_type": "markdown",
   "metadata": {},
   "source": [
    "## Evaluation metric - Recall\n",
    "- We have used the evaluation metric as Recall for all the machine learning models that we have implemented\n",
    "- Though, we could have also used Accuracy as the evaluation metric because our training dataset is balanced i.e. it contains the same amount of data points for both the target labels 0 and 1\n",
    "- But we have selected the metric as Recall because our goal here is to predict whether a patient has a disease or not\n",
    "- So, for our kind of classification problem, it is extremely important for our models to reduce the number of 'false-negatives'. We do not want our models to predict a patient as 'not having the disease' when that patient actually 'has the disease'"
   ]
  },
  {
   "cell_type": "code",
   "execution_count": 44,
   "metadata": {},
   "outputs": [],
   "source": [
    "# Define X & y for the split\n",
    "X = df.drop('Disease', axis=1)\n",
    "y = df['Disease']"
   ]
  },
  {
   "cell_type": "code",
   "execution_count": 45,
   "metadata": {},
   "outputs": [],
   "source": [
    "# 70-30 train-validation split\n",
    "X_train, X_test, y_train, y_test = train_test_split(X, y, test_size=0.3, random_state=16)"
   ]
  },
  {
   "cell_type": "code",
   "execution_count": 46,
   "metadata": {},
   "outputs": [],
   "source": [
    "# Initializing standard scalar\n",
    "scaler=StandardScaler()"
   ]
  },
  {
   "cell_type": "code",
   "execution_count": 48,
   "metadata": {},
   "outputs": [
    {
     "name": "stderr",
     "output_type": "stream",
     "text": [
      "/Users/sankalpsingh/Vicky/Softwares/Anaconda/anaconda3/lib/python3.7/site-packages/ipykernel_launcher.py:1: SettingWithCopyWarning: \n",
      "A value is trying to be set on a copy of a slice from a DataFrame.\n",
      "Try using .loc[row_indexer,col_indexer] = value instead\n",
      "\n",
      "See the caveats in the documentation: https://pandas.pydata.org/pandas-docs/stable/user_guide/indexing.html#returning-a-view-versus-a-copy\n",
      "  \"\"\"Entry point for launching an IPython kernel.\n",
      "/Users/sankalpsingh/Vicky/Softwares/Anaconda/anaconda3/lib/python3.7/site-packages/pandas/core/indexing.py:965: SettingWithCopyWarning: \n",
      "A value is trying to be set on a copy of a slice from a DataFrame.\n",
      "Try using .loc[row_indexer,col_indexer] = value instead\n",
      "\n",
      "See the caveats in the documentation: https://pandas.pydata.org/pandas-docs/stable/user_guide/indexing.html#returning-a-view-versus-a-copy\n",
      "  self.obj[item] = s\n"
     ]
    }
   ],
   "source": [
    "# Scaling train data\n",
    "X_train[['Height', 'Weight', 'Low Blood Pressure','High Blood Pressure','BMI']]=scaler.fit_transform(X_train[['Height', 'Weight', 'Low Blood Pressure','High Blood Pressure','BMI']])"
   ]
  },
  {
   "cell_type": "code",
   "execution_count": 49,
   "metadata": {},
   "outputs": [
    {
     "name": "stderr",
     "output_type": "stream",
     "text": [
      "/Users/sankalpsingh/Vicky/Softwares/Anaconda/anaconda3/lib/python3.7/site-packages/ipykernel_launcher.py:2: SettingWithCopyWarning: \n",
      "A value is trying to be set on a copy of a slice from a DataFrame.\n",
      "Try using .loc[row_indexer,col_indexer] = value instead\n",
      "\n",
      "See the caveats in the documentation: https://pandas.pydata.org/pandas-docs/stable/user_guide/indexing.html#returning-a-view-versus-a-copy\n",
      "  \n",
      "/Users/sankalpsingh/Vicky/Softwares/Anaconda/anaconda3/lib/python3.7/site-packages/pandas/core/indexing.py:965: SettingWithCopyWarning: \n",
      "A value is trying to be set on a copy of a slice from a DataFrame.\n",
      "Try using .loc[row_indexer,col_indexer] = value instead\n",
      "\n",
      "See the caveats in the documentation: https://pandas.pydata.org/pandas-docs/stable/user_guide/indexing.html#returning-a-view-versus-a-copy\n",
      "  self.obj[item] = s\n"
     ]
    }
   ],
   "source": [
    "# Scaling validation data\n",
    "X_test[['Height', 'Weight', 'Low Blood Pressure','High Blood Pressure','BMI']]=scaler.transform(X_test[['Height', 'Weight', 'Low Blood Pressure','High Blood Pressure','BMI']])"
   ]
  },
  {
   "cell_type": "code",
   "execution_count": 50,
   "metadata": {},
   "outputs": [],
   "source": [
    "# Scaling test data\n",
    "test_df[['Height', 'Weight', 'Low Blood Pressure','High Blood Pressure','BMI']]=scaler.transform(test_df[['Height', 'Weight', 'Low Blood Pressure','High Blood Pressure','BMI']])"
   ]
  },
  {
   "cell_type": "code",
   "execution_count": 52,
   "metadata": {},
   "outputs": [],
   "source": [
    "# creating a new dataframe for storing the test data predictions\n",
    "final_prediction=pd.DataFrame()"
   ]
  },
  {
   "cell_type": "code",
   "execution_count": 53,
   "metadata": {},
   "outputs": [],
   "source": [
    "# Popping 'ID' column from test dataframe to prediction dataframe\n",
    "final_prediction[\"ID\"]=test_df.pop(\"ID\")"
   ]
  },
  {
   "cell_type": "markdown",
   "metadata": {},
   "source": [
    "#### ROC function - generic AUC-ROC function which will help us generate the Area Under the Receiver Operating Characteristic curve for all the models that can predict the probability of the target class labels"
   ]
  },
  {
   "cell_type": "code",
   "execution_count": 43,
   "metadata": {},
   "outputs": [],
   "source": [
    "# Function to plot ROC_AUC_curve\n",
    "\n",
    "def ROC_AUC_curve(model,model_name=\"Model\"):\n",
    "    # generate a no skill prediction (majority class)\n",
    "    ns_probs = [0 for _ in range(len(y_test))]\n",
    "\n",
    "    # predict probabilities\n",
    "    lr_probs = model.predict_proba(X_test)\n",
    "    # keep probabilities for the positive outcome only\n",
    "    lr_probs = lr_probs[:, 1]\n",
    "    # calculate scores\n",
    "    ns_auc = roc_auc_score(y_test, ns_probs)\n",
    "    lr_auc = roc_auc_score(y_test, lr_probs)\n",
    "    # summarize scores\n",
    "    print('No Skill: ROC AUC=%.3f' % (ns_auc))\n",
    "    print('Model: ROC AUC=%.3f' % (lr_auc))\n",
    "    # calculate roc curves\n",
    "    ns_fpr, ns_tpr, _ = roc_curve(y_test, ns_probs)\n",
    "    lr_fpr, lr_tpr, _ = roc_curve(y_test, lr_probs)\n",
    "    # plot the roc curve for the model\n",
    "    plt.figure(figsize=(8,4))\n",
    "    plt.plot(ns_fpr, ns_tpr, linestyle='--', label='No Skill')\n",
    "    plt.plot(lr_fpr, lr_tpr, marker='.', label=model_name)\n",
    "    # axis labels\n",
    "    plt.xlabel('False Positive Rate')\n",
    "    plt.ylabel('True Positive Rate')\n",
    "    # show the legend\n",
    "    plt.legend()\n",
    "    # show the plot\n",
    "    plt.show()"
   ]
  },
  {
   "cell_type": "markdown",
   "metadata": {},
   "source": [
    "## Naive Bayes Classifier\n",
    "\n",
    "- We have implemented the Gaussian Naive Bayes classifier model here\n",
    "- We have used a 5 folds cross validation grid search to perform the hyper-parameter tuning in order to achieve the best recall for our model\n",
    "- We have used recall as scoring for the grid search\n",
    "- After this, we have printed the classification report for our model on training data, validation data in order to get a sense of how well our model is performing in terms of precision, recall, f1-score and accuracy\n",
    "- We have predicted the target class labels for our testing dataset by using the best fitted model\n",
    "- We have also generated an AUC-ROC curve for the NBC model"
   ]
  },
  {
   "cell_type": "code",
   "execution_count": 55,
   "metadata": {},
   "outputs": [],
   "source": [
    "# initializing the gaussian naive bayes model\n",
    "gnb = GaussianNB()"
   ]
  },
  {
   "cell_type": "markdown",
   "metadata": {},
   "source": [
    "#### Hyper-paramater tuning using GridSearch:\n",
    "- var_smoothing: This is a smoothing parameter which is a portion of the largest variance of all features that is added to variances for calculation stability\n",
    "- n_jobs: This is a hyper-parameter used for the Grid search. n_jobs=-1 means that the computation will be dispatched on all the CPUs of the computer\n"
   ]
  },
  {
   "cell_type": "code",
   "execution_count": 56,
   "metadata": {},
   "outputs": [],
   "source": [
    "# Performing grid search to find the best hyper-parameters\n",
    "param_grid_gnb = {\n",
    "              'var_smoothing': [.001,.005,.01,0.1,0.3]\n",
    "              }"
   ]
  },
  {
   "cell_type": "code",
   "execution_count": 57,
   "metadata": {},
   "outputs": [],
   "source": [
    "# Using 5 fold cross validation and evaluation metric as Recall\n",
    "grid_gnb = GridSearchCV(gnb, param_grid_gnb, cv=5, scoring='recall', n_jobs=-1)"
   ]
  },
  {
   "cell_type": "code",
   "execution_count": 58,
   "metadata": {},
   "outputs": [],
   "source": [
    "# Fitting NBC model\n",
    "gnb_model = grid_gnb.fit(X_train, y_train)"
   ]
  },
  {
   "cell_type": "code",
   "execution_count": 139,
   "metadata": {},
   "outputs": [
    {
     "name": "stdout",
     "output_type": "stream",
     "text": [
      "{'var_smoothing': 0.001}\n"
     ]
    }
   ],
   "source": [
    "# printing best hyper-parameters for model\n",
    "gnb_best_params = grid_gnb.best_params_\n",
    "print(gnb_best_params)"
   ]
  },
  {
   "cell_type": "code",
   "execution_count": 60,
   "metadata": {},
   "outputs": [
    {
     "name": "stdout",
     "output_type": "stream",
     "text": [
      "              precision    recall  f1-score   support\n",
      "\n",
      "           0       0.73      0.68      0.70     18610\n",
      "           1       0.65      0.71      0.68     15690\n",
      "\n",
      "    accuracy                           0.69     34300\n",
      "   macro avg       0.69      0.69      0.69     34300\n",
      "weighted avg       0.69      0.69      0.69     34300\n",
      "\n"
     ]
    }
   ],
   "source": [
    "# Printing classification report for predictions made by model on training dataset\n",
    "print(classification_report(gnb_model.predict(X_train),y_train))"
   ]
  },
  {
   "cell_type": "code",
   "execution_count": 61,
   "metadata": {},
   "outputs": [
    {
     "name": "stdout",
     "output_type": "stream",
     "text": [
      "              precision    recall  f1-score   support\n",
      "\n",
      "           0       0.73      0.67      0.70      7911\n",
      "           1       0.65      0.71      0.68      6789\n",
      "\n",
      "    accuracy                           0.69     14700\n",
      "   macro avg       0.69      0.69      0.69     14700\n",
      "weighted avg       0.69      0.69      0.69     14700\n",
      "\n"
     ]
    }
   ],
   "source": [
    "# Printing classification report for predictions made by model on validation dataset\n",
    "print(classification_report(gnb_model.predict(X_test),y_test))"
   ]
  },
  {
   "cell_type": "code",
   "execution_count": 62,
   "metadata": {},
   "outputs": [],
   "source": [
    "# Predicting disease labels for test dataset\n",
    "test_prediction_gnb = gnb_model.predict(test_df)"
   ]
  },
  {
   "cell_type": "markdown",
   "metadata": {},
   "source": [
    "#### Generating the AUC-ROC curve for the NBC model\n",
    "- The AUC-ROC score that we get from the graph that we have plotted below tells us that our model is able to distinguish between the patients, if they have a disease or not, 74.3% of the time.\n",
    "- The score is above 50% which means that the model is not just randomly predicting the probability of a patient having the disease"
   ]
  },
  {
   "cell_type": "code",
   "execution_count": 63,
   "metadata": {},
   "outputs": [
    {
     "name": "stdout",
     "output_type": "stream",
     "text": [
      "No Skill: ROC AUC=0.500\n",
      "Model: ROC AUC=0.743\n"
     ]
    },
    {
     "data": {
      "image/png": "[encoded data removed]",
      "text/plain": [
       "<Figure size 576x288 with 1 Axes>"
      ]
     },
     "metadata": {
      "needs_background": "light"
     },
     "output_type": "display_data"
    }
   ],
   "source": [
    "# printing the AUC-ROC for NBC model\n",
    "ROC_AUC_curve(model=gnb_model,model_name=\"NBC\")"
   ]
  },
  {
   "cell_type": "markdown",
   "metadata": {},
   "source": [
    "## K-Nearest Neighbors\n",
    "- We have implemented the K-Nearest Neighbors classifier model here\n",
    "- We have used a grid search to perform the hyper parameter tuning in order to achieve the best recall for our model\n",
    "- We have used recall as scoring for the grid search\n",
    "- After this, we have printed the classification report for our model on training data, validation data in order to get a sense of how well our model is performing in terms of precision, recall, f1-score and accuracy\n",
    "- We have predicted the target class labels for our testing dataset by using the best fitted model\n",
    "- We have also generated an AUC-ROC curve for the KNN model"
   ]
  },
  {
   "cell_type": "code",
   "execution_count": 64,
   "metadata": {},
   "outputs": [],
   "source": [
    "# initializing the model\n",
    "knn = KNeighborsClassifier()"
   ]
  },
  {
   "cell_type": "markdown",
   "metadata": {},
   "source": [
    "#### Hyper-paramater tuning using GridSearch:\n",
    "- n_neighbors: This specifies the number of neighbors to be considered for classifying a point. \n",
    "- weights: If the weights are set to 'uniform' then all the k points are assigned equal weights for classification, else if the 'distance' is used, the closest points are given more weight and has more priority when classifying a point \n",
    "- algorithm: Algorithm used to compute the nearest neighbors:\n",
    "\n",
    "             - 'ball_tree' will use BallTree\n",
    "             - 'kd_tree' will use KDTree\n",
    "             - 'brute' will use a brute-force search.\n",
    "             - 'auto' will attempt to decide the most appropriate algorithm based on the fit method.\n",
    "\n",
    "- p: This defines the distance function that should be used i.e. manhattan or euclidean.\n",
    "- n_jobs: This is a hyper-parameter used for the Grid search. n_jobs=-1 means that the computation will be dispatched on all the CPUs of the computer"
   ]
  },
  {
   "cell_type": "code",
   "execution_count": 65,
   "metadata": {},
   "outputs": [],
   "source": [
    "# Performing grid search to find the best hyper-parameters\n",
    "param_grid_knn = { 'n_neighbors':[50,100,150,200],\n",
    "              'weights':['uniform', 'distance'],\n",
    "              'algorithm': ['auto', 'ball_tree', 'kd_tree', 'brute'],\n",
    "              'p': [1,2]\n",
    "              }"
   ]
  },
  {
   "cell_type": "code",
   "execution_count": 66,
   "metadata": {},
   "outputs": [],
   "source": [
    "# Using grid search and evaluation metric as Recall\n",
    "grid_knn = GridSearchCV(knn, param_grid_knn, scoring='recall', n_jobs=-1)"
   ]
  },
  {
   "cell_type": "code",
   "execution_count": 67,
   "metadata": {},
   "outputs": [],
   "source": [
    "# Fitting knn model\n",
    "knn_model = grid_knn.fit(X_train, y_train)"
   ]
  },
  {
   "cell_type": "code",
   "execution_count": 68,
   "metadata": {},
   "outputs": [
    {
     "name": "stdout",
     "output_type": "stream",
     "text": [
      "{'algorithm': 'brute', 'n_neighbors': 50, 'p': 2, 'weights': 'distance'}\n"
     ]
    }
   ],
   "source": [
    "# printing the best hyper-parameters\n",
    "knn_best_params = knn_model.best_params_\n",
    "print(knn_best_params)"
   ]
  },
  {
   "cell_type": "code",
   "execution_count": 69,
   "metadata": {},
   "outputs": [
    {
     "name": "stdout",
     "output_type": "stream",
     "text": [
      "              precision    recall  f1-score   support\n",
      "\n",
      "           0       0.99      0.94      0.96     18094\n",
      "           1       0.94      0.99      0.96     16206\n",
      "\n",
      "    accuracy                           0.96     34300\n",
      "   macro avg       0.96      0.96      0.96     34300\n",
      "weighted avg       0.96      0.96      0.96     34300\n",
      "\n"
     ]
    }
   ],
   "source": [
    "# Printing classification report for predictions made by model on training dataset\n",
    "print(classification_report(knn_model.predict(X_train),y_train))"
   ]
  },
  {
   "cell_type": "code",
   "execution_count": 70,
   "metadata": {},
   "outputs": [
    {
     "name": "stdout",
     "output_type": "stream",
     "text": [
      "              precision    recall  f1-score   support\n",
      "\n",
      "           0       0.75      0.70      0.72      7760\n",
      "           1       0.69      0.73      0.71      6940\n",
      "\n",
      "    accuracy                           0.72     14700\n",
      "   macro avg       0.72      0.72      0.72     14700\n",
      "weighted avg       0.72      0.72      0.72     14700\n",
      "\n"
     ]
    }
   ],
   "source": [
    "# Printing classification report for predictions made by model on validation dataset\n",
    "print(classification_report(knn_model.predict(X_test),y_test))"
   ]
  },
  {
   "cell_type": "code",
   "execution_count": 71,
   "metadata": {},
   "outputs": [],
   "source": [
    "# Predicting disease labels for test dataset\n",
    "test_prediction_knn = knn_model.predict(test_df)"
   ]
  },
  {
   "cell_type": "markdown",
   "metadata": {},
   "source": [
    "#### Saving the model using pickle library"
   ]
  },
  {
   "cell_type": "code",
   "execution_count": 72,
   "metadata": {},
   "outputs": [],
   "source": [
    "# Save the trained model as a pickle string. \n",
    "saved_knn_model = pickle.dumps(knn_model) \n",
    "  \n",
    "# Load the pickled model \n",
    "knn_from_pickle = pickle.loads(saved_knn_model) "
   ]
  },
  {
   "cell_type": "markdown",
   "metadata": {},
   "source": [
    "#### Generating the AUC-ROC curve for the KNN model\n",
    "- The AUC-ROC score that we get from the graph that we have plotted below tells us that our model is able to distinguish between the patients, if they have a disease or not, 76.2% of the time.\n",
    "- The score is above 50% which means that the model is not just randomly predicting the probability of a patient having the disease"
   ]
  },
  {
   "cell_type": "code",
   "execution_count": 74,
   "metadata": {
    "scrolled": true
   },
   "outputs": [
    {
     "name": "stdout",
     "output_type": "stream",
     "text": [
      "No Skill: ROC AUC=0.500\n",
      "Model: ROC AUC=0.762\n"
     ]
    },
    {
     "data": {
      "image/png": "[encoded data removed]",
      "text/plain": [
       "<Figure size 576x288 with 1 Axes>"
      ]
     },
     "metadata": {
      "needs_background": "light"
     },
     "output_type": "display_data"
    }
   ],
   "source": [
    "# ROC curve for KNN model\n",
    "ROC_AUC_curve(model=knn_model,model_name=\"KNN\")"
   ]
  },
  {
   "cell_type": "markdown",
   "metadata": {},
   "source": [
    "## Linear Support Vector Machine\n",
    "- We have implemented the Linear Support Vector Machine model here\n",
    "- We have used a 5 folds cross validation grid search to perform the hyper parameter tuning in order to achieve the best recall for our model\n",
    "- We have used recall as scoring for the grid search\n",
    "- After this, we have printed the classification report for our model on training data, validation data in order to get a sense of how well our model is performing in terms of precision, recall, f1-score and accuracy\n",
    "- We have predicted the target class labels for our testing dataset by using the best fitted model\n",
    "- We have not generated an AUC-ROC curve as SVM model does not predict the probability of the target class labels"
   ]
  },
  {
   "cell_type": "code",
   "execution_count": 75,
   "metadata": {},
   "outputs": [],
   "source": [
    "# initializing the linear SVC model\n",
    "lsvm = LinearSVC(random_state=16)"
   ]
  },
  {
   "cell_type": "markdown",
   "metadata": {},
   "source": [
    "#### Hyper-paramater tuning using GridSearch:\n",
    "- C: This is the cost parameter. It is used for regularization and represents the penalty associated with misclassification. Higher C means lower bias but risk of overfitting. It also means higher complexity of decision boundary and higher number of support vectors. Similarly, lower C means higher bias but lower variance\n",
    "- penalty: This represents the penalty as l1 and l2 regularisation parameter. The l1 and l2 both penalize the points and make the models less susceptible to outliers and improve its overall generalization.\n",
    "- loss: Specifies the loss function. ‘hinge’ is the standard SVM loss (used e.g. by the SVC class) while ‘squared_hinge’ is the square of the hinge loss.\n",
    "- n_jobs: This is a hyper-parameter used for the Grid search. n_jobs=-1 means that the computation will be dispatched on all the CPUs of the computer"
   ]
  },
  {
   "cell_type": "code",
   "execution_count": 76,
   "metadata": {},
   "outputs": [],
   "source": [
    "# Performing grid search to find the best hyper-parameters\n",
    "param_grid_lsvm = { 'C':[.005,.01,.1,.2,.4,.8],\n",
    "              'penalty':['l1', 'l2'],\n",
    "              'loss': ['hinge', 'square_hinge']\n",
    "              }"
   ]
  },
  {
   "cell_type": "code",
   "execution_count": 77,
   "metadata": {},
   "outputs": [],
   "source": [
    "# Using 5 fold cross validation and evaluation metric as Recall\n",
    "grid_lsvm = GridSearchCV(lsvm, param_grid_lsvm, cv=5, scoring='recall', n_jobs=-1)"
   ]
  },
  {
   "cell_type": "code",
   "execution_count": 78,
   "metadata": {},
   "outputs": [
    {
     "name": "stderr",
     "output_type": "stream",
     "text": [
      "/Users/sankalpsingh/Vicky/Softwares/Anaconda/anaconda3/lib/python3.7/site-packages/sklearn/svm/_base.py:947: ConvergenceWarning: Liblinear failed to converge, increase the number of iterations.\n",
      "  \"the number of iterations.\", ConvergenceWarning)\n"
     ]
    }
   ],
   "source": [
    "# Fitting linear svc model\n",
    "lsvm_model = grid_lsvm.fit(X_train, y_train)"
   ]
  },
  {
   "cell_type": "code",
   "execution_count": 79,
   "metadata": {},
   "outputs": [
    {
     "name": "stdout",
     "output_type": "stream",
     "text": [
      "{'C': 0.8, 'loss': 'hinge', 'penalty': 'l2'}\n"
     ]
    }
   ],
   "source": [
    "# printing the best hyper-parameters\n",
    "lsvm_best_params = grid_lsvm.best_params_\n",
    "print(lsvm_best_params)"
   ]
  },
  {
   "cell_type": "code",
   "execution_count": 80,
   "metadata": {},
   "outputs": [
    {
     "name": "stdout",
     "output_type": "stream",
     "text": [
      "              precision    recall  f1-score   support\n",
      "\n",
      "           0       0.82      0.69      0.75     20403\n",
      "           1       0.64      0.78      0.70     13897\n",
      "\n",
      "    accuracy                           0.73     34300\n",
      "   macro avg       0.73      0.74      0.73     34300\n",
      "weighted avg       0.75      0.73      0.73     34300\n",
      "\n"
     ]
    }
   ],
   "source": [
    "# Printing classification report for predictions made by model on training dataset\n",
    "print(classification_report(lsvm_model.predict(X_train),y_train))"
   ]
  },
  {
   "cell_type": "code",
   "execution_count": 81,
   "metadata": {},
   "outputs": [
    {
     "name": "stdout",
     "output_type": "stream",
     "text": [
      "              precision    recall  f1-score   support\n",
      "\n",
      "           0       0.83      0.69      0.75      8766\n",
      "           1       0.63      0.79      0.70      5934\n",
      "\n",
      "    accuracy                           0.73     14700\n",
      "   macro avg       0.73      0.74      0.72     14700\n",
      "weighted avg       0.75      0.73      0.73     14700\n",
      "\n"
     ]
    }
   ],
   "source": [
    "# Printing classification report for predictions made by model on validation dataset\n",
    "print(classification_report(lsvm_model.predict(X_test),y_test))"
   ]
  },
  {
   "cell_type": "code",
   "execution_count": 82,
   "metadata": {},
   "outputs": [],
   "source": [
    "# Predicting disease labels for test dataset\n",
    "test_prediction_lsvm = lsvm_model.predict(test_df)"
   ]
  },
  {
   "cell_type": "markdown",
   "metadata": {},
   "source": [
    "## Non Linear Support Vector Machine\n",
    "- We have implemented the Non Linear Support Vector Machine model here using Radial Basis Function kernel\n",
    "- We have used a 5 folds cross validation grid search to perform the hyper parameter tuning in order to achieve the best recall for our model\n",
    "- We have used recall as scoring for the grid search\n",
    "- After this, we have printed the classification report for our model on training data, validation data in order to get a sense of how well our model is performing in terms of precision, recall, f1-score and accuracy\n",
    "- We have predicted the target class labels for our testing dataset by using the best fitted model\n",
    "- We have not generated an AUC-ROC curve as SVM model does not predict the probability of the target class labels"
   ]
  },
  {
   "cell_type": "code",
   "execution_count": 83,
   "metadata": {},
   "outputs": [],
   "source": [
    "# initializing the rbf svm model\n",
    "rbf_svm=SVC(kernel=\"rbf\",random_state=16)"
   ]
  },
  {
   "cell_type": "markdown",
   "metadata": {},
   "source": [
    "#### Hyper-paramater tuning using GridSearch:\n",
    "- C: This is the cost parameter. It is used for regularization and represents the penalty associated with misclassification. Higher C means lower bias but risk of overfitting. It also means higher complexity of decision boundary \n",
    "- gamma: This is the kernel function for RBF. Higher gamma means higher risk of overfitting and lower gamma means higher bias. Gamma moves in the same direction as C\n",
    "- n_jobs: This is a hyper-parameter used for the Grid search. n_jobs=-1 means that the computation will be dispatched on all the CPUs of the computer"
   ]
  },
  {
   "cell_type": "code",
   "execution_count": 84,
   "metadata": {},
   "outputs": [],
   "source": [
    "# Performing grid search to find the best hyper-parameters\n",
    "param_grid_rbf_svm = { 'C':[.01,.1,.4,.8,1],\n",
    "              'gamma':[0.1,0.4,0.8,1],\n",
    "              }"
   ]
  },
  {
   "cell_type": "code",
   "execution_count": 85,
   "metadata": {},
   "outputs": [],
   "source": [
    "# Using 5 fold cross validation and evaluation metric as Recall\n",
    "grid_rbf_svm= GridSearchCV(rbf_svm, param_grid_rbf_svm, cv=5, scoring='recall', n_jobs=-1)"
   ]
  },
  {
   "cell_type": "code",
   "execution_count": 86,
   "metadata": {},
   "outputs": [],
   "source": [
    "# Fitting RBF SVM model\n",
    "rbf_svm_model = grid_rbf_svm.fit(X_train, y_train)"
   ]
  },
  {
   "cell_type": "code",
   "execution_count": 87,
   "metadata": {},
   "outputs": [
    {
     "name": "stdout",
     "output_type": "stream",
     "text": [
      "{'C': 0.01, 'gamma': 1}\n"
     ]
    }
   ],
   "source": [
    "# printing the best hyper-parameters\n",
    "rbf_svm_best_params = grid_rbf_svm.best_params_\n",
    "print(rbf_svm_best_params)"
   ]
  },
  {
   "cell_type": "code",
   "execution_count": 88,
   "metadata": {},
   "outputs": [
    {
     "name": "stdout",
     "output_type": "stream",
     "text": [
      "              precision    recall  f1-score   support\n",
      "\n",
      "           0       0.48      0.73      0.58     11297\n",
      "           1       0.82      0.61      0.70     23003\n",
      "\n",
      "    accuracy                           0.65     34300\n",
      "   macro avg       0.65      0.67      0.64     34300\n",
      "weighted avg       0.71      0.65      0.66     34300\n",
      "\n"
     ]
    }
   ],
   "source": [
    "# Printing classification report for predictions made by model on training dataset\n",
    "print(classification_report(rbf_svm_model.predict(X_train),y_train))"
   ]
  },
  {
   "cell_type": "code",
   "execution_count": 89,
   "metadata": {},
   "outputs": [
    {
     "name": "stdout",
     "output_type": "stream",
     "text": [
      "              precision    recall  f1-score   support\n",
      "\n",
      "           0       0.47      0.71      0.57      4823\n",
      "           1       0.81      0.61      0.70      9877\n",
      "\n",
      "    accuracy                           0.64     14700\n",
      "   macro avg       0.64      0.66      0.63     14700\n",
      "weighted avg       0.70      0.64      0.66     14700\n",
      "\n"
     ]
    }
   ],
   "source": [
    "# Printing classification report for predictions made by model on validation dataset\n",
    "print(classification_report(rbf_svm_model.predict(X_test),y_test))"
   ]
  },
  {
   "cell_type": "code",
   "execution_count": 90,
   "metadata": {},
   "outputs": [],
   "source": [
    "# Predicting disease labels for test dataset\n",
    "test_prediction_rbf_svm = rbf_svm_model.predict(test_df)"
   ]
  },
  {
   "cell_type": "markdown",
   "metadata": {},
   "source": [
    "#### Saving the model using pickle library"
   ]
  },
  {
   "cell_type": "code",
   "execution_count": 91,
   "metadata": {},
   "outputs": [],
   "source": [
    "# Save the trained model as a pickle string. \n",
    "saved_rbf_svm_model = pickle.dumps(rbf_svm_model) \n",
    "  \n",
    "# Load the pickled model \n",
    "rbf_svm_from_pickle = pickle.loads(saved_rbf_svm_model) "
   ]
  },
  {
   "cell_type": "markdown",
   "metadata": {},
   "source": [
    "## Random Forest\n",
    "- We have implemented the Random Forest Claasifier model here \n",
    "- We have used a 5 folds cross validation grid search to perform the hyper parameter tuning in order to achieve the best recall for our model\n",
    "- We have used recall as scoring for the grid search\n",
    "- After this, we have printed the classification report for our model on training data, validation data in order to get a sense of how well our model is performing in terms of precision, recall, f1-score and accuracy\n",
    "- We have predicted the target class labels for our testing dataset by using the best fitted model\n",
    "- We have also generated an AUC-ROC curve for RF model"
   ]
  },
  {
   "cell_type": "code",
   "execution_count": 93,
   "metadata": {},
   "outputs": [],
   "source": [
    "# initializing the RF model\n",
    "rf=RandomForestClassifier(random_state=16,n_jobs=-1,n_estimators=100)"
   ]
  },
  {
   "cell_type": "markdown",
   "metadata": {},
   "source": [
    "#### Hyper-paramater tuning using GridSearch:\n",
    "- max_depth: This is the maximum depth till which the tree will keep on splitting. It ensures that the tree does not overfit the data\n",
    "- max_features: The max_features is the number of features that will be used for making a single tree. For eg using \"sqrt\", the tree uses the square root of the number of total features in the data. Using auto is the same as making use of sqrt. The other values can be specified using the int(number of features to be used less than the total features), log, and a proportion of the features to be used\n",
    "- min_samples_leaf: The minimum number of samples that should be there in leaf node. If the number is less, then the leaf node is pruned\n",
    "- min_samples_split: The number of samples that should be present in the node for it to be split further\n",
    "- n_estimators:This is an important tuning parameter for the Random Forest model. It is the number of trees to be used for predicting the result\n",
    "- n_jobs: This is a hyper-parameter used for the Grid search. n_jobs=-1 means that the computation will be dispatched on all the CPUs of the computer"
   ]
  },
  {
   "cell_type": "code",
   "execution_count": 94,
   "metadata": {},
   "outputs": [],
   "source": [
    "# Performing grid search to find the best hyper-parameters\n",
    "param_grid_rf = {'max_depth': [1,25,10, 20, 100],\n",
    "            'max_features': ['auto', 'sqrt'],\n",
    "            'min_samples_leaf': [10,30,50,100],\n",
    "             'min_samples_split': [10,50,100,200],\n",
    "             'n_estimators': [25,50,100,200]}"
   ]
  },
  {
   "cell_type": "code",
   "execution_count": 95,
   "metadata": {},
   "outputs": [],
   "source": [
    "# Using 5 fold cross validation and evaluation metric as Recall\n",
    "grid_rf= GridSearchCV(rf, param_grid_rf, cv=5, scoring='recall', n_jobs=-1)"
   ]
  },
  {
   "cell_type": "code",
   "execution_count": 96,
   "metadata": {},
   "outputs": [],
   "source": [
    "# Fitting RF model\n",
    "rf_model = grid_rf.fit(X_train, y_train)"
   ]
  },
  {
   "cell_type": "code",
   "execution_count": 97,
   "metadata": {},
   "outputs": [
    {
     "name": "stdout",
     "output_type": "stream",
     "text": [
      "{'max_depth': 100, 'max_features': 'auto', 'min_samples_leaf': 10, 'min_samples_split': 100, 'n_estimators': 100}\n"
     ]
    }
   ],
   "source": [
    "# printing the best hyper-parameters\n",
    "rf_model_best_params = grid_rf.best_params_\n",
    "print(rf_model_best_params)"
   ]
  },
  {
   "cell_type": "code",
   "execution_count": 98,
   "metadata": {},
   "outputs": [
    {
     "name": "stdout",
     "output_type": "stream",
     "text": [
      "              precision    recall  f1-score   support\n",
      "\n",
      "           0       0.79      0.73      0.76     18685\n",
      "           1       0.70      0.77      0.74     15615\n",
      "\n",
      "    accuracy                           0.75     34300\n",
      "   macro avg       0.75      0.75      0.75     34300\n",
      "weighted avg       0.75      0.75      0.75     34300\n",
      "\n"
     ]
    }
   ],
   "source": [
    "# Printing classification report for predictions made by model on training dataset\n",
    "print(classification_report(rf_model.predict(X_train),y_train))"
   ]
  },
  {
   "cell_type": "code",
   "execution_count": 99,
   "metadata": {},
   "outputs": [
    {
     "name": "stdout",
     "output_type": "stream",
     "text": [
      "              precision    recall  f1-score   support\n",
      "\n",
      "           0       0.78      0.71      0.74      8041\n",
      "           1       0.68      0.76      0.72      6659\n",
      "\n",
      "    accuracy                           0.73     14700\n",
      "   macro avg       0.73      0.73      0.73     14700\n",
      "weighted avg       0.73      0.73      0.73     14700\n",
      "\n"
     ]
    }
   ],
   "source": [
    "# Printing classification report for predictions made by model on validation dataset\n",
    "print(classification_report(rf_model.predict(X_test),y_test))"
   ]
  },
  {
   "cell_type": "code",
   "execution_count": 100,
   "metadata": {},
   "outputs": [],
   "source": [
    "# Predicting disease labels for test dataset\n",
    "test_prediction_rf = rf_model.predict(test_df)"
   ]
  },
  {
   "cell_type": "markdown",
   "metadata": {},
   "source": [
    "#### Saving the model using pickle library"
   ]
  },
  {
   "cell_type": "code",
   "execution_count": 101,
   "metadata": {},
   "outputs": [],
   "source": [
    "# Save the trained model as a pickle string. \n",
    "saved_rf_model = pickle.dumps(rf_model) \n",
    "  \n",
    "# Load the pickled model \n",
    "rf_from_pickle = pickle.loads(saved_rf_model) "
   ]
  },
  {
   "cell_type": "markdown",
   "metadata": {},
   "source": [
    "#### Generating the AUC-ROC curve for the RF model\n",
    "- The AUC-ROC score that we get from the graph that we have plotted below tells us that our model is able to distinguish between the patients, if they have a disease or not, 79.9% of the time.\n",
    "- The score is above 50% which means that the model is not just randomly predicting the probability of a patient having the disease"
   ]
  },
  {
   "cell_type": "code",
   "execution_count": 103,
   "metadata": {
    "scrolled": true
   },
   "outputs": [
    {
     "name": "stdout",
     "output_type": "stream",
     "text": [
      "No Skill: ROC AUC=0.500\n",
      "Model: ROC AUC=0.799\n"
     ]
    },
    {
     "data": {
      "image/png": "[encoded data removed]",
      "text/plain": [
       "<Figure size 576x288 with 1 Axes>"
      ]
     },
     "metadata": {
      "needs_background": "light"
     },
     "output_type": "display_data"
    }
   ],
   "source": [
    "# ROC curve for RF model\n",
    "ROC_AUC_curve(model=rf_model,model_name=\"RF\")"
   ]
  },
  {
   "cell_type": "markdown",
   "metadata": {},
   "source": [
    "#### Feature Importance Plot for Random Forest Classifier"
   ]
  },
  {
   "cell_type": "code",
   "execution_count": 104,
   "metadata": {},
   "outputs": [
    {
     "data": {
      "text/html": [
       "<div>\n",
       "<style scoped>\n",
       "    .dataframe tbody tr th:only-of-type {\n",
       "        vertical-align: middle;\n",
       "    }\n",
       "\n",
       "    .dataframe tbody tr th {\n",
       "        vertical-align: top;\n",
       "    }\n",
       "\n",
       "    .dataframe thead th {\n",
       "        text-align: right;\n",
       "    }\n",
       "</style>\n",
       "<table border=\"1\" class=\"dataframe\">\n",
       "  <thead>\n",
       "    <tr style=\"text-align: right;\">\n",
       "      <th></th>\n",
       "      <th>importance</th>\n",
       "      <th>features</th>\n",
       "    </tr>\n",
       "  </thead>\n",
       "  <tbody>\n",
       "    <tr>\n",
       "      <th>High Blood Pressure</th>\n",
       "      <td>0.455240</td>\n",
       "      <td>High Blood Pressure</td>\n",
       "    </tr>\n",
       "    <tr>\n",
       "      <th>Low Blood Pressure</th>\n",
       "      <td>0.188221</td>\n",
       "      <td>Low Blood Pressure</td>\n",
       "    </tr>\n",
       "    <tr>\n",
       "      <th>Cholesterol_normal</th>\n",
       "      <td>0.071363</td>\n",
       "      <td>Cholesterol_normal</td>\n",
       "    </tr>\n",
       "    <tr>\n",
       "      <th>BMI</th>\n",
       "      <td>0.070546</td>\n",
       "      <td>BMI</td>\n",
       "    </tr>\n",
       "    <tr>\n",
       "      <th>Weight</th>\n",
       "      <td>0.046826</td>\n",
       "      <td>Weight</td>\n",
       "    </tr>\n",
       "    <tr>\n",
       "      <th>Height</th>\n",
       "      <td>0.028841</td>\n",
       "      <td>Height</td>\n",
       "    </tr>\n",
       "    <tr>\n",
       "      <th>Age_Binning_Age 35-39</th>\n",
       "      <td>0.028768</td>\n",
       "      <td>Age_Binning_Age 35-39</td>\n",
       "    </tr>\n",
       "    <tr>\n",
       "      <th>Age_Binning_Age 40-44</th>\n",
       "      <td>0.025998</td>\n",
       "      <td>Age_Binning_Age 40-44</td>\n",
       "    </tr>\n",
       "    <tr>\n",
       "      <th>Age_Binning_Age 45-49</th>\n",
       "      <td>0.014505</td>\n",
       "      <td>Age_Binning_Age 45-49</td>\n",
       "    </tr>\n",
       "    <tr>\n",
       "      <th>Cholesterol_high</th>\n",
       "      <td>0.014341</td>\n",
       "      <td>Cholesterol_high</td>\n",
       "    </tr>\n",
       "    <tr>\n",
       "      <th>Age_Binning_Age 55-59</th>\n",
       "      <td>0.012899</td>\n",
       "      <td>Age_Binning_Age 55-59</td>\n",
       "    </tr>\n",
       "    <tr>\n",
       "      <th>Age_Binning_Age 50-54</th>\n",
       "      <td>0.010437</td>\n",
       "      <td>Age_Binning_Age 50-54</td>\n",
       "    </tr>\n",
       "    <tr>\n",
       "      <th>Glucose_normal</th>\n",
       "      <td>0.009012</td>\n",
       "      <td>Glucose_normal</td>\n",
       "    </tr>\n",
       "    <tr>\n",
       "      <th>Exercise</th>\n",
       "      <td>0.008419</td>\n",
       "      <td>Exercise</td>\n",
       "    </tr>\n",
       "    <tr>\n",
       "      <th>Gender_male</th>\n",
       "      <td>0.004962</td>\n",
       "      <td>Gender_male</td>\n",
       "    </tr>\n",
       "    <tr>\n",
       "      <th>Smoke</th>\n",
       "      <td>0.004116</td>\n",
       "      <td>Smoke</td>\n",
       "    </tr>\n",
       "    <tr>\n",
       "      <th>Glucose_high</th>\n",
       "      <td>0.002801</td>\n",
       "      <td>Glucose_high</td>\n",
       "    </tr>\n",
       "    <tr>\n",
       "      <th>Alcohol</th>\n",
       "      <td>0.002706</td>\n",
       "      <td>Alcohol</td>\n",
       "    </tr>\n",
       "    <tr>\n",
       "      <th>Age_Binning_Age 25-29</th>\n",
       "      <td>0.000000</td>\n",
       "      <td>Age_Binning_Age 25-29</td>\n",
       "    </tr>\n",
       "    <tr>\n",
       "      <th>Age_Binning_Age 30-34</th>\n",
       "      <td>0.000000</td>\n",
       "      <td>Age_Binning_Age 30-34</td>\n",
       "    </tr>\n",
       "  </tbody>\n",
       "</table>\n",
       "</div>"
      ],
      "text/plain": [
       "                       importance               features\n",
       "High Blood Pressure      0.455240    High Blood Pressure\n",
       "Low Blood Pressure       0.188221     Low Blood Pressure\n",
       "Cholesterol_normal       0.071363     Cholesterol_normal\n",
       "BMI                      0.070546                    BMI\n",
       "Weight                   0.046826                 Weight\n",
       "Height                   0.028841                 Height\n",
       "Age_Binning_Age 35-39    0.028768  Age_Binning_Age 35-39\n",
       "Age_Binning_Age 40-44    0.025998  Age_Binning_Age 40-44\n",
       "Age_Binning_Age 45-49    0.014505  Age_Binning_Age 45-49\n",
       "Cholesterol_high         0.014341       Cholesterol_high\n",
       "Age_Binning_Age 55-59    0.012899  Age_Binning_Age 55-59\n",
       "Age_Binning_Age 50-54    0.010437  Age_Binning_Age 50-54\n",
       "Glucose_normal           0.009012         Glucose_normal\n",
       "Exercise                 0.008419               Exercise\n",
       "Gender_male              0.004962            Gender_male\n",
       "Smoke                    0.004116                  Smoke\n",
       "Glucose_high             0.002801           Glucose_high\n",
       "Alcohol                  0.002706                Alcohol\n",
       "Age_Binning_Age 25-29    0.000000  Age_Binning_Age 25-29\n",
       "Age_Binning_Age 30-34    0.000000  Age_Binning_Age 30-34"
      ]
     },
     "execution_count": 104,
     "metadata": {},
     "output_type": "execute_result"
    }
   ],
   "source": [
    "# creating a new dataframe to store the features and their respective importance values\n",
    "feature_imp = pd.DataFrame(rf_model.best_estimator_.feature_importances_, index=X_train.columns,\n",
    "columns=['importance']).sort_values('importance', ascending=False)\n",
    "feature_imp['features'] = feature_imp.index\n",
    "feature_imp"
   ]
  },
  {
   "cell_type": "markdown",
   "metadata": {},
   "source": [
    "#### Below feature importance plot shows that the top 5 features that are most helpful in predicting the disease for our dataset are:\n",
    "1) High Blood Pressure\n",
    "\n",
    "2) Low Blood Pressure\n",
    "\n",
    "3) Cholestrol_normal\n",
    "\n",
    "4) BMI\n",
    "\n",
    "5) Weight\n",
    "\n",
    "- We can see that the Body Mass Index feature that we added in our dataset as part of the feature engineering is one of the important features helpful in predicting the 'disease' target attribute"
   ]
  },
  {
   "cell_type": "code",
   "execution_count": 143,
   "metadata": {},
   "outputs": [
    {
     "data": {
      "text/plain": [
       "Text(0, 0.5, 'FEATURE NAMES')"
      ]
     },
     "execution_count": 143,
     "metadata": {},
     "output_type": "execute_result"
    },
    {
     "data": {
      "image/png": "[encoded data removed]",
      "text/plain": [
       "<Figure size 720x576 with 1 Axes>"
      ]
     },
     "metadata": {
      "needs_background": "light"
     },
     "output_type": "display_data"
    }
   ],
   "source": [
    "# Plotting Feature Importance graph\n",
    "plt.figure(figsize=(10,8))\n",
    "\n",
    "sns.barplot(x=feature_imp['importance'], y=feature_imp['features'])\n",
    "\n",
    "plt.title('FEATURE IMPORTANCE RF')\n",
    "plt.xlabel('FEATURE IMPORTANCE')\n",
    "plt.ylabel('FEATURE NAMES')"
   ]
  },
  {
   "cell_type": "markdown",
   "metadata": {},
   "source": [
    "## Gradient Boosting Machine\n",
    "- We have implemented the Gradient Boosting Machine Claasifier model here\n",
    "- We have used a 5 folds cross validation grid search to perform the hyper parameter tuning in order to achieve the best recall for our model\n",
    "- We have used recall as scoring for the grid search\n",
    "- After this, we have printed the classification report for our model on training data, validation data in order to get a sense of how well our model is performing in terms of precision, recall, f1-score and accuracy\n",
    "- We have predicted the target class labels for our testing dataset by using the best fitted model\n",
    "- We have also generated an AUC-ROC curve for GBM model"
   ]
  },
  {
   "cell_type": "code",
   "execution_count": 106,
   "metadata": {},
   "outputs": [],
   "source": [
    "# initializing the GBM model\n",
    "gbm=GradientBoostingClassifier(random_state=16)"
   ]
  },
  {
   "cell_type": "markdown",
   "metadata": {},
   "source": [
    "#### Hyper-paramater tuning using GridSearch:\n",
    "\n",
    "- max_features: The max_features is the number of features that will be used for making a single tree. For eg using \"sqrt\", the tree uses the square root of the number of total features in the data. Using auto is the same as making use of sqrt. The other values can be specified using the int(number of features to be used less than the total features), log, and a proportion of the features to be used\n",
    "- n_estimators:This is an important tuning parameter for the Gradient Boost model. It is the number of trees to be used for predicting the result\n",
    "- subsample: The proportion of sample to be used for training individual base learner\n",
    "- max_depth: This is the maximum depth till which the tree will keep on splitting. It ensures that the tree does not overfit the data\n",
    "- min_samples_split: The number of samples that should be present in the node for it to be split further\n",
    "- min_samples_leaf: The minimum number of samples that should be there in leaf node. If the number is less, then the leaf node is pruned\n",
    "- n_jobs: This is a hyper-parameter used for the Grid search. n_jobs=-1 means that the computation will be dispatched on all the CPUs of the computer"
   ]
  },
  {
   "cell_type": "code",
   "execution_count": 107,
   "metadata": {},
   "outputs": [],
   "source": [
    "# Performing grid search to find the best hyper-parameters\n",
    "param_grid_gbm = {'max_features': ['auto','sqrt'],\n",
    "              'n_estimators': [20,50,100,200],\n",
    "              'subsample':[0.6,0.8,0.9],\n",
    "              'max_depth': [1,5,20,10,50,100],\n",
    "              'min_samples_split':[25,50,100,200],\n",
    "              'min_samples_leaf':[10,30,50,100]}"
   ]
  },
  {
   "cell_type": "code",
   "execution_count": 108,
   "metadata": {},
   "outputs": [],
   "source": [
    "# Using 5 fold cross validation and evaluation metric as Recall\n",
    "grid_gbm= GridSearchCV(gbm, param_grid_gbm, cv=5, scoring='recall', n_jobs=-1)"
   ]
  },
  {
   "cell_type": "code",
   "execution_count": 109,
   "metadata": {},
   "outputs": [],
   "source": [
    "# Fitting GBM model\n",
    "gbm_model = grid_gbm.fit(X_train, y_train)"
   ]
  },
  {
   "cell_type": "code",
   "execution_count": 110,
   "metadata": {},
   "outputs": [
    {
     "name": "stdout",
     "output_type": "stream",
     "text": [
      "{'max_depth': 50, 'max_features': 'sqrt', 'min_samples_leaf': 10, 'min_samples_split': 200, 'n_estimators': 100, 'subsample': 0.8}\n"
     ]
    }
   ],
   "source": [
    "# printing the best hyper-parameters\n",
    "gbm_best_params = grid_gbm.best_params_\n",
    "print(gbm_best_params)"
   ]
  },
  {
   "cell_type": "code",
   "execution_count": 111,
   "metadata": {},
   "outputs": [
    {
     "name": "stdout",
     "output_type": "stream",
     "text": [
      "              precision    recall  f1-score   support\n",
      "\n",
      "           0       0.84      0.81      0.83     17845\n",
      "           1       0.80      0.84      0.82     16455\n",
      "\n",
      "    accuracy                           0.82     34300\n",
      "   macro avg       0.82      0.82      0.82     34300\n",
      "weighted avg       0.82      0.82      0.82     34300\n",
      "\n"
     ]
    }
   ],
   "source": [
    "# Printing classification report for predictions made by model on training dataset\n",
    "print(classification_report(gbm_model.predict(X_train),y_train))"
   ]
  },
  {
   "cell_type": "code",
   "execution_count": 112,
   "metadata": {},
   "outputs": [
    {
     "name": "stdout",
     "output_type": "stream",
     "text": [
      "              precision    recall  f1-score   support\n",
      "\n",
      "           0       0.74      0.71      0.73      7657\n",
      "           1       0.70      0.73      0.72      7043\n",
      "\n",
      "    accuracy                           0.72     14700\n",
      "   macro avg       0.72      0.72      0.72     14700\n",
      "weighted avg       0.72      0.72      0.72     14700\n",
      "\n"
     ]
    }
   ],
   "source": [
    "# Printing classification report for predictions made by model on validation dataset\n",
    "print(classification_report(gbm_model.predict(X_test),y_test))"
   ]
  },
  {
   "cell_type": "code",
   "execution_count": 113,
   "metadata": {},
   "outputs": [],
   "source": [
    "# Predicting disease labels for test dataset\n",
    "test_prediction_gbm = gbm_model.predict(test_df)"
   ]
  },
  {
   "cell_type": "markdown",
   "metadata": {},
   "source": [
    "#### Saving the model using pickle library"
   ]
  },
  {
   "cell_type": "code",
   "execution_count": 114,
   "metadata": {},
   "outputs": [],
   "source": [
    "# Save the trained model as a pickle string. \n",
    "saved_gbm_model = pickle.dumps(gbm_model) \n",
    "  \n",
    "# Load the pickled model \n",
    "gbm_from_pickle = pickle.loads(saved_gbm_model) "
   ]
  },
  {
   "cell_type": "markdown",
   "metadata": {},
   "source": [
    "#### Generating the AUC-ROC curve for the GBM model\n",
    "- The AUC-ROC score that we get from the graph that we have plotted below tells us that our model is able to distinguish between the patients, if they have a disease or not, 78.8% of the time.\n",
    "- The score is above 50% which means that the model is not just randomly predicting the probability of a patient having the disease"
   ]
  },
  {
   "cell_type": "code",
   "execution_count": 116,
   "metadata": {
    "scrolled": true
   },
   "outputs": [
    {
     "name": "stdout",
     "output_type": "stream",
     "text": [
      "No Skill: ROC AUC=0.500\n",
      "Model: ROC AUC=0.788\n"
     ]
    },
    {
     "data": {
      "image/png": "[encoded data removed]",
      "text/plain": [
       "<Figure size 576x288 with 1 Axes>"
      ]
     },
     "metadata": {
      "needs_background": "light"
     },
     "output_type": "display_data"
    }
   ],
   "source": [
    "# printing AUC curve for GBM model\n",
    "ROC_AUC_curve(model=gbm_model,model_name=\"GBM\")"
   ]
  },
  {
   "cell_type": "markdown",
   "metadata": {},
   "source": [
    "#### Feature Importance Plot for Gradient Boosting Machine Classifier"
   ]
  },
  {
   "cell_type": "code",
   "execution_count": 140,
   "metadata": {},
   "outputs": [
    {
     "data": {
      "text/html": [
       "<div>\n",
       "<style scoped>\n",
       "    .dataframe tbody tr th:only-of-type {\n",
       "        vertical-align: middle;\n",
       "    }\n",
       "\n",
       "    .dataframe tbody tr th {\n",
       "        vertical-align: top;\n",
       "    }\n",
       "\n",
       "    .dataframe thead th {\n",
       "        text-align: right;\n",
       "    }\n",
       "</style>\n",
       "<table border=\"1\" class=\"dataframe\">\n",
       "  <thead>\n",
       "    <tr style=\"text-align: right;\">\n",
       "      <th></th>\n",
       "      <th>importance</th>\n",
       "      <th>features</th>\n",
       "    </tr>\n",
       "  </thead>\n",
       "  <tbody>\n",
       "    <tr>\n",
       "      <th>High Blood Pressure</th>\n",
       "      <td>0.279778</td>\n",
       "      <td>High Blood Pressure</td>\n",
       "    </tr>\n",
       "    <tr>\n",
       "      <th>Low Blood Pressure</th>\n",
       "      <td>0.169594</td>\n",
       "      <td>Low Blood Pressure</td>\n",
       "    </tr>\n",
       "    <tr>\n",
       "      <th>BMI</th>\n",
       "      <td>0.159531</td>\n",
       "      <td>BMI</td>\n",
       "    </tr>\n",
       "    <tr>\n",
       "      <th>Weight</th>\n",
       "      <td>0.104292</td>\n",
       "      <td>Weight</td>\n",
       "    </tr>\n",
       "    <tr>\n",
       "      <th>Height</th>\n",
       "      <td>0.091707</td>\n",
       "      <td>Height</td>\n",
       "    </tr>\n",
       "    <tr>\n",
       "      <th>Cholesterol_normal</th>\n",
       "      <td>0.038821</td>\n",
       "      <td>Cholesterol_normal</td>\n",
       "    </tr>\n",
       "    <tr>\n",
       "      <th>Age_Binning_Age 40-44</th>\n",
       "      <td>0.020787</td>\n",
       "      <td>Age_Binning_Age 40-44</td>\n",
       "    </tr>\n",
       "    <tr>\n",
       "      <th>Age_Binning_Age 35-39</th>\n",
       "      <td>0.020197</td>\n",
       "      <td>Age_Binning_Age 35-39</td>\n",
       "    </tr>\n",
       "    <tr>\n",
       "      <th>Age_Binning_Age 45-49</th>\n",
       "      <td>0.016638</td>\n",
       "      <td>Age_Binning_Age 45-49</td>\n",
       "    </tr>\n",
       "    <tr>\n",
       "      <th>Cholesterol_high</th>\n",
       "      <td>0.013886</td>\n",
       "      <td>Cholesterol_high</td>\n",
       "    </tr>\n",
       "    <tr>\n",
       "      <th>Glucose_normal</th>\n",
       "      <td>0.013530</td>\n",
       "      <td>Glucose_normal</td>\n",
       "    </tr>\n",
       "    <tr>\n",
       "      <th>Age_Binning_Age 50-54</th>\n",
       "      <td>0.012993</td>\n",
       "      <td>Age_Binning_Age 50-54</td>\n",
       "    </tr>\n",
       "    <tr>\n",
       "      <th>Age_Binning_Age 55-59</th>\n",
       "      <td>0.012228</td>\n",
       "      <td>Age_Binning_Age 55-59</td>\n",
       "    </tr>\n",
       "    <tr>\n",
       "      <th>Exercise</th>\n",
       "      <td>0.011790</td>\n",
       "      <td>Exercise</td>\n",
       "    </tr>\n",
       "    <tr>\n",
       "      <th>Alcohol</th>\n",
       "      <td>0.009582</td>\n",
       "      <td>Alcohol</td>\n",
       "    </tr>\n",
       "    <tr>\n",
       "      <th>Gender_male</th>\n",
       "      <td>0.009321</td>\n",
       "      <td>Gender_male</td>\n",
       "    </tr>\n",
       "    <tr>\n",
       "      <th>Smoke</th>\n",
       "      <td>0.008315</td>\n",
       "      <td>Smoke</td>\n",
       "    </tr>\n",
       "    <tr>\n",
       "      <th>Glucose_high</th>\n",
       "      <td>0.007009</td>\n",
       "      <td>Glucose_high</td>\n",
       "    </tr>\n",
       "    <tr>\n",
       "      <th>Age_Binning_Age 25-29</th>\n",
       "      <td>0.000000</td>\n",
       "      <td>Age_Binning_Age 25-29</td>\n",
       "    </tr>\n",
       "    <tr>\n",
       "      <th>Age_Binning_Age 30-34</th>\n",
       "      <td>0.000000</td>\n",
       "      <td>Age_Binning_Age 30-34</td>\n",
       "    </tr>\n",
       "  </tbody>\n",
       "</table>\n",
       "</div>"
      ],
      "text/plain": [
       "                       importance               features\n",
       "High Blood Pressure      0.279778    High Blood Pressure\n",
       "Low Blood Pressure       0.169594     Low Blood Pressure\n",
       "BMI                      0.159531                    BMI\n",
       "Weight                   0.104292                 Weight\n",
       "Height                   0.091707                 Height\n",
       "Cholesterol_normal       0.038821     Cholesterol_normal\n",
       "Age_Binning_Age 40-44    0.020787  Age_Binning_Age 40-44\n",
       "Age_Binning_Age 35-39    0.020197  Age_Binning_Age 35-39\n",
       "Age_Binning_Age 45-49    0.016638  Age_Binning_Age 45-49\n",
       "Cholesterol_high         0.013886       Cholesterol_high\n",
       "Glucose_normal           0.013530         Glucose_normal\n",
       "Age_Binning_Age 50-54    0.012993  Age_Binning_Age 50-54\n",
       "Age_Binning_Age 55-59    0.012228  Age_Binning_Age 55-59\n",
       "Exercise                 0.011790               Exercise\n",
       "Alcohol                  0.009582                Alcohol\n",
       "Gender_male              0.009321            Gender_male\n",
       "Smoke                    0.008315                  Smoke\n",
       "Glucose_high             0.007009           Glucose_high\n",
       "Age_Binning_Age 25-29    0.000000  Age_Binning_Age 25-29\n",
       "Age_Binning_Age 30-34    0.000000  Age_Binning_Age 30-34"
      ]
     },
     "execution_count": 140,
     "metadata": {},
     "output_type": "execute_result"
    }
   ],
   "source": [
    "# creating a new dataframe to store the features and their respective importance values\n",
    "feature_imp = pd.DataFrame(gbm_model.best_estimator_.feature_importances_, index=X_train.columns,\n",
    "columns=['importance']).sort_values('importance', ascending=False)\n",
    "feature_imp['features'] = feature_imp.index\n",
    "feature_imp"
   ]
  },
  {
   "cell_type": "markdown",
   "metadata": {},
   "source": [
    "#### Below feature importance plot shows that the top 5 features that are most helpful in predicting the disease for our dataset are:\n",
    "1) High Blood Pressure\n",
    "\n",
    "2) Low Blood Pressure\n",
    "\n",
    "3) BMI\n",
    "\n",
    "4) Weight\n",
    "\n",
    "5) Height\n",
    "\n",
    "- We can see that the Body Mass Index feature that we added in our dataset as part of the feature engineering is one of the important features helpful in predicting the 'disease' target attribute"
   ]
  },
  {
   "cell_type": "code",
   "execution_count": 142,
   "metadata": {},
   "outputs": [
    {
     "data": {
      "text/plain": [
       "Text(0, 0.5, 'FEATURE NAMES')"
      ]
     },
     "execution_count": 142,
     "metadata": {},
     "output_type": "execute_result"
    },
    {
     "data": {
      "image/png": "[encoded data removed]",
      "text/plain": [
       "<Figure size 720x576 with 1 Axes>"
      ]
     },
     "metadata": {
      "needs_background": "light"
     },
     "output_type": "display_data"
    }
   ],
   "source": [
    "# Plotting Feature Importance graph\n",
    "plt.figure(figsize=(10,8))\n",
    "\n",
    "sns.barplot(x=feature_imp['importance'], y=feature_imp['features'])\n",
    "\n",
    "plt.title('FEATURE IMPORTANCE GBM')\n",
    "plt.xlabel('FEATURE IMPORTANCE')\n",
    "plt.ylabel('FEATURE NAMES')"
   ]
  },
  {
   "cell_type": "markdown",
   "metadata": {},
   "source": [
    "## Conclusion: Prediction and Interpretation\n",
    "- Below, we have summarized the results for all the 6 machine learning models that we have implemented for the Disease prediction problem\n",
    "\n",
    "- The below table contains names of all the algorithms that we have implemented, their evaluation metric - Recall scores along with AUC and Accuracy and the best hyper-parameters for each of the model obtained through the Grid Search\n",
    "\n",
    "- We can infer from the below table that SVM-Linear model is by far the best model to predict the disease target labels. SVM model has the highest recall score (79%). This means that a linear decision boundary could be really helpful for our dataset as we are trying to predict whether a patient has the disease or not by separting target attribute into two classes 0/1\n",
    "\n",
    "- We can also infer that the Random Forest model has the highest Area Under the Receiver Operating Characteristic curve (79.9%). This means that RF model is also performing very well and is able to distinguish if a person has a disease or not almost 80% of the times\n",
    "\n",
    "- We have used the evaluation metric as Recall for predicting the disease target label. We have selected Recall as the evaluation metric because it is very important for our models to correctly predict the patients with disease when they actually have the disease. We need to lower the number of 'false-negatives' in our predictions\n",
    "\n",
    "- We can also see that all of our models have a close training and test accuracy scores. This means that our models are not prone to overfitting and they have generalized quite well on the data. One of the reasons behind this could be that training and testing datasets have a similar distribution.\n",
    "\n"
   ]
  },
  {
   "cell_type": "code",
   "execution_count": 144,
   "metadata": {},
   "outputs": [],
   "source": [
    "# Creating a summary table for the model names, their recall, auc, accuracy scores and their best hyper parameters\n",
    "best_models = pd.DataFrame({\"Algorithm\":[\"NBC\",\"KNN\",\"SVM-Linear\",\"SVM-RBF\",\"RF\",\"GBM\"], \"Recall\":[71,73,79,61,76,73],\n",
    "                            \"AUC\":[74.3,76.2,'-','-',79.9,78.8], 'Accuracy':[69,72,73,64,73,72],\n",
    "                            \"Best Hyper-parameters\":[\"var_smoothing:0.001\",\n",
    "                                                     \"algorithm:brute,n_neighbors:50,p:2,weights:distance\",\n",
    "                                                     \"C:0.8,loss:hinge,penalty:l2\",\n",
    "                                                     \"C: 0.01,gamma: 1\",\n",
    "                                               \"max_depth:100,max_features:auto,min_samples_leaf:10,min_samples_split:100,n_estimators:100\",\n",
    "                                               \"max_depth:50,max_features:sqrt,min_samples_leaf:10,min_samples_split:200,n_estimators:100,subsample:0.8\"]})"
   ]
  },
  {
   "cell_type": "code",
   "execution_count": 145,
   "metadata": {},
   "outputs": [
    {
     "data": {
      "text/html": [
       "<div>\n",
       "<style scoped>\n",
       "    .dataframe tbody tr th:only-of-type {\n",
       "        vertical-align: middle;\n",
       "    }\n",
       "\n",
       "    .dataframe tbody tr th {\n",
       "        vertical-align: top;\n",
       "    }\n",
       "\n",
       "    .dataframe thead th {\n",
       "        text-align: right;\n",
       "    }\n",
       "</style>\n",
       "<table border=\"1\" class=\"dataframe\">\n",
       "  <thead>\n",
       "    <tr style=\"text-align: right;\">\n",
       "      <th></th>\n",
       "      <th>Algorithm</th>\n",
       "      <th>Recall</th>\n",
       "      <th>AUC</th>\n",
       "      <th>Accuracy</th>\n",
       "      <th>Best Hyper-parameters</th>\n",
       "    </tr>\n",
       "  </thead>\n",
       "  <tbody>\n",
       "    <tr>\n",
       "      <th>0</th>\n",
       "      <td>NBC</td>\n",
       "      <td>71</td>\n",
       "      <td>74.3</td>\n",
       "      <td>69</td>\n",
       "      <td>var_smoothing:0.001</td>\n",
       "    </tr>\n",
       "    <tr>\n",
       "      <th>1</th>\n",
       "      <td>KNN</td>\n",
       "      <td>73</td>\n",
       "      <td>76.2</td>\n",
       "      <td>72</td>\n",
       "      <td>algorithm:brute,n_neighbors:50,p:2,weights:dis...</td>\n",
       "    </tr>\n",
       "    <tr>\n",
       "      <th>2</th>\n",
       "      <td>SVM-Linear</td>\n",
       "      <td>79</td>\n",
       "      <td>-</td>\n",
       "      <td>73</td>\n",
       "      <td>C:0.8,loss:hinge,penalty:l2</td>\n",
       "    </tr>\n",
       "    <tr>\n",
       "      <th>3</th>\n",
       "      <td>SVM-RBF</td>\n",
       "      <td>61</td>\n",
       "      <td>-</td>\n",
       "      <td>64</td>\n",
       "      <td>C: 0.01,gamma: 1</td>\n",
       "    </tr>\n",
       "    <tr>\n",
       "      <th>4</th>\n",
       "      <td>RF</td>\n",
       "      <td>76</td>\n",
       "      <td>79.9</td>\n",
       "      <td>73</td>\n",
       "      <td>max_depth:100,max_features:auto,min_samples_le...</td>\n",
       "    </tr>\n",
       "    <tr>\n",
       "      <th>5</th>\n",
       "      <td>GBM</td>\n",
       "      <td>73</td>\n",
       "      <td>78.8</td>\n",
       "      <td>72</td>\n",
       "      <td>max_depth:50,max_features:sqrt,min_samples_lea...</td>\n",
       "    </tr>\n",
       "  </tbody>\n",
       "</table>\n",
       "</div>"
      ],
      "text/plain": [
       "    Algorithm  Recall   AUC  Accuracy  \\\n",
       "0         NBC      71  74.3        69   \n",
       "1         KNN      73  76.2        72   \n",
       "2  SVM-Linear      79     -        73   \n",
       "3     SVM-RBF      61     -        64   \n",
       "4          RF      76  79.9        73   \n",
       "5         GBM      73  78.8        72   \n",
       "\n",
       "                               Best Hyper-parameters  \n",
       "0                                var_smoothing:0.001  \n",
       "1  algorithm:brute,n_neighbors:50,p:2,weights:dis...  \n",
       "2                        C:0.8,loss:hinge,penalty:l2  \n",
       "3                                   C: 0.01,gamma: 1  \n",
       "4  max_depth:100,max_features:auto,min_samples_le...  \n",
       "5  max_depth:50,max_features:sqrt,min_samples_lea...  "
      ]
     },
     "execution_count": 145,
     "metadata": {},
     "output_type": "execute_result"
    }
   ],
   "source": [
    "# Printing the best_models summary table\n",
    "best_models"
   ]
  },
  {
   "cell_type": "markdown",
   "metadata": {},
   "source": [
    "## Final Predictions on Test Set \n",
    "\n",
    "- We have made a final dataframe containing the test set predictions for all the 6 algorithms.\n",
    "\n",
    "- We have also converted this dataframe to a csv that contains 7 columns: \n",
    "\n",
    "- ID: contains the ID for each of the data points present in the test set \n",
    "\n",
    "- NBC: contains binary prediction labels made by the NBC algorithm for each of the data points present in the test set \n",
    "\n",
    "- KNN: contains binary prediction labels made by the KNN algorithm for each of the data points present in the test set \n",
    "\n",
    "- SVM-Linear: contains binary prediction labels made by the Linear SVM algorithm for each of the data points present in the test set \n",
    "\n",
    "- SVM-RBF: contains binary prediction labels made by the RBF SVM algorithm for each of the data points present in the test set \n",
    "\n",
    "- RF: contains binary prediction labels made by the RF algorithm for each of the data points present in the test set \n",
    "\n",
    "- GBM: contains binary prediction labels made by the GBM algorithm for each of the data points present in the test set "
   ]
  },
  {
   "cell_type": "code",
   "execution_count": 117,
   "metadata": {},
   "outputs": [],
   "source": [
    "# Making the final predictions on the test data set using all the 6 models and storing it in a dataframe\n",
    "final_prediction_results=pd.DataFrame({\"ID\":final_prediction.ID,\n",
    "                                       \"NBC\":test_prediction_gnb,\n",
    "                                       \"KNN\":test_prediction_knn,\n",
    "                                       \"SVM-Linear\":test_prediction_lsvm,\n",
    "                                       \"SVM-RBF\":test_prediction_rbf_svm,\n",
    "                                       \"RF\":test_prediction_rf,\n",
    "                                       \"GBM\":test_prediction_gbm\n",
    "                                      })"
   ]
  },
  {
   "cell_type": "code",
   "execution_count": 118,
   "metadata": {},
   "outputs": [],
   "source": [
    "# Converting the final prediction results to a csv file\n",
    "final_prediction_results.to_csv(\"final_prediction_results2.csv\",index=False)"
   ]
  }
 ],
 "metadata": {
  "kernelspec": {
   "display_name": "Python 3",
   "language": "python",
   "name": "python3"
  },
  "language_info": {
   "codemirror_mode": {
    "name": "ipython",
    "version": 3
   },
   "file_extension": ".py",
   "mimetype": "text/x-python",
   "name": "python",
   "nbconvert_exporter": "python",
   "pygments_lexer": "ipython3",
   "version": "3.7.7"
  }
 },
 "nbformat": 4,
 "nbformat_minor": 4
}
